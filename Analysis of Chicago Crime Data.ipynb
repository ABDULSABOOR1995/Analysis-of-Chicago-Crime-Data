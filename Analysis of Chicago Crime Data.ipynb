{
 "cells": [
  {
   "cell_type": "markdown",
   "metadata": {},
   "source": [
    "# Exploratory Data Analysis of Chicago Crime Data"
   ]
  },
  {
   "cell_type": "markdown",
   "metadata": {},
   "source": [
    "## Context\n",
    "This dataset reflects reported incidents of crime (with the exception of murders where data exists for each victim) that occurred in the City of Chicago from 2001 to present, minus the most recent seven days. Data is extracted from the Chicago Police Department's CLEAR (Citizen Law Enforcement Analysis and Reporting) system. In order to protect the privacy of crime victims, addresses are shown at the block level only and specific locations are not identified. Should you have questions about this dataset, you may contact the Research & Development Division of the Chicago Police Department at 312.745.6071 or RDAnalysis@chicagopolice.org. Disclaimer: These crimes may be based upon preliminary information supplied to the Police Department by the reporting parties that have not been verified. The preliminary crime classifications may be changed at a later date based upon additional investigation and there is always the possibility of mechanical or human error. Therefore, the Chicago Police Department does not guarantee (either expressed or implied) the accuracy, completeness, timeliness, or correct sequencing of the information and the information should not be used for comparison purposes over time. The Chicago Police Department will not be responsible for any error or omission, or for the use of, or the results obtained from the use of this information. All data visualizations on maps should be considered approximate and attempts to derive specific addresses are strictly prohibited. The Chicago Police Department is not responsible for the content of any off-site pages that are referenced by or that reference this web page other than an official City of Chicago or Chicago Police Department web page. The user specifically acknowledges that the Chicago Police Department is not responsible for any defamatory, offensive, misleading, or illegal conduct of other users, links, or third parties and that the risk of injury from the foregoing rests entirely with the user. The unauthorized use of the words \"Chicago Police Department,\" \"Chicago Police,\" or any colorable imitation of these words or the unauthorized use of the Chicago Police Department logo is unlawful. This web page does not, in any way, authorize such use. Data are updated daily. The dataset contains more than 6,000,000 records/rows of data and cannot be viewed in full in Microsoft Excel. To access a list of Chicago Police Department - Illinois Uniform Crime Reporting (IUCR) codes, go to http://data.cityofchicago.org/Public-Safety/Chicago-Police-Department-Illinois-Uniform-Crime-R/c7ck-438e"
   ]
  },
  {
   "cell_type": "markdown",
   "metadata": {},
   "source": [
    "## Content\n",
    "<b>ID -</b> Unique identifier for the record.\n",
    "\n",
    "<b>Case Number -</b> The Chicago Police Department RD Number (Records Division Number), which is unique to the incident.\n",
    "\n",
    "<b>Date -</b> Date when the incident occurred. this is sometimes a best estimate.\n",
    "\n",
    "<b>Block -</b> The partially redacted address where the incident occurred, placing it on the same block as the actual address.\n",
    "\n",
    "<b>IUCR -</b> The Illinois Unifrom Crime Reporting code. This is directly linked to the Primary Type and Description. See the list of IUCR codes at https://data.cityofchicago.org/d/c7ck-438e.\n",
    "\n",
    "<b>Primary Type -</b> The primary description of the IUCR code.\n",
    "\n",
    "<b>Description -</b> The secondary description of the IUCR code, a subcategory of the primary description.\n",
    "\n",
    "<b>Location Description -</b> Description of the location where the incident occurred.\n",
    "\n",
    "<b>Arrest -</b> Indicates whether an arrest was made.\n",
    "\n",
    "<b>Domestic -</b> Indicates whether the incident was domestic-related as defined by the Illinois Domestic Violence Act.\n",
    "\n",
    "<b>Beat -</b> Indicates the beat where the incident occurred. A beat is the smallest police geographic area – each beat has a dedicated police beat car. Three to five beats make up a police sector, and three sectors make up a police district. The Chicago Police Department has 22 police districts. See the beats at https://data.cityofchicago.org/d/aerh-rz74.\n",
    "\n",
    "<b>District -</b> Indicates the police district where the incident occurred. See the districts at https://data.cityofchicago.org/d/fthy-xz3r.\n",
    "\n",
    "<b>Ward -</b> The ward (City Council district) where the incident occurred. See the wards at https://data.cityofchicago.org/d/sp34-6z76.\n",
    "\n",
    "<b>Community Area -</b> Indicates the community area where the incident occurred. Chicago has 77 community areas. See the community areas at https://data.cityofchicago.org/d/cauq-8yn6.\n",
    "\n",
    "<b>FBI Code -</b> Indicates the crime classification as outlined in the FBI's National Incident-Based Reporting System (NIBRS). See the Chicago Police Department listing of these classifications at http://gis.chicagopolice.org/clearmap_crime_sums/crime_types.html.\n",
    "\n",
    "<b>X Coordinate -</b> The x coordinate of the location where the incident occurred in State Plane Illinois East NAD 1983 projection. This location is shifted from the actual location for partial redaction but falls on the same block.\n",
    "\n",
    "<b>Y Coordinate -</b> The y coordinate of the location where the incident occurred in State Plane Illinois East NAD 1983 projection. This location is shifted from the actual location for partial redaction but falls on the same block.\n",
    "\n",
    "<b>Year -</b> Year the incident occurred.\n",
    "\n",
    "<b>Updated On -</b> Date and time the record was last updated.\n",
    "\n",
    "<b>Latitude -</b> The latitude of the location where the incident occurred. This location is shifted from the actual location for partial redaction but falls on the same block.\n",
    "\n",
    "<b>Longitude -</b> The longitude of the location where the incident occurred. This location is shifted from the actual location for partial redaction but falls on the same block.\n",
    "\n",
    "<b>Location -</b> The location where the incident occurred in a format that allows for creation of maps and other geographic operations on this data portal. This location is shifted from the actual location for partial redaction but falls on the same block."
   ]
  },
  {
   "cell_type": "markdown",
   "metadata": {},
   "source": [
    "## Inspiration\n",
    "How has crime changed over the years? Perform exploratory data analysis on Chicago Crime Data."
   ]
  },
  {
   "cell_type": "markdown",
   "metadata": {},
   "source": [
    "## Data Source\n",
    "https://www.kaggle.com/currie32/crimes-in-chicago<br><br>\n",
    "I've performed analysis on all 4 data files."
   ]
  },
  {
   "cell_type": "markdown",
   "metadata": {},
   "source": [
    "<a id='goback'></a>\n",
    "## Table of Content:\n",
    "[1. Data Reading](#hh1)<br>\n",
    "[2. Data Understanding](#hh2)<br>\n",
    "[3. Data Cleaning](#hh3)<br>\n",
    "\n",
    "### EDA\n",
    "\n",
    "[1. Create a data frame that shows the total number of crimes reported in each year. ](#h1)<br>\n",
    "[2. Make a line and bar charts that show the total number of crimes reported in each year.](#h2)<br>\n",
    "[3. Find the year in which the maximum number of crimes are reported.](#h3)<br>\n",
    "[4. Find the year in which the minimum number of crimes are reported.](#h4)<br>\n",
    "[5. Find how many unique crimes recorded from 2001 to 2017 and what they are.](#h5)<br>\n",
    "[6. How many Thefts (crime) and what are their different types of recorded with their count?](#h6)<br>\n",
    "[7. Find for one primary type how many descriptions are there in the table.](#h7)<br>\n",
    "[8. Find the total number of arrest are done.](#h8)<br>\n",
    "[9. Create a data frame that shows the number of arrests each year.](#h9)<br>\n",
    "[10. Find how much unique crime location is recorded from 2001 to 2017 and what they are. Show them with their count.](#h10)<br>\n",
    "[11. Find the number of districts in which crime recorded and also show them with their count.](#h11)<br>\n",
    "[12. Make a summary of everything related to crime like total crimes, total arrests, total unique crime types, etc. Also, make a data frame to show that summary.](#h12)<br>\n",
    "[13. Create a data frame that shows the summary of unique crimes committed with their count.](#h13)<br>\n",
    "[14. Make a data frame that shows the complete summary of each crime type.](#h14)<br>\n",
    "[15. Make a pie chart to show the proportion of each unique crime reported in all crimes.](#h15)<br>\n",
    "[16. Make a bar chart to show the proportion of each unique crime reported in all crimes.](#h16)<br>\n",
    "[17. Make a donut chart to show the proportion of each unique crime reported in all crimes.](#h17)<br>\n",
    "[18. Make a data frame and show all types of crime in that data frame according to their percentages then make its pie and bar charts.](#h18)<br>\n",
    "[19. It is commonly said that crime rate is inversely proportional to arrest means if arrest goes up crime rate goes down and if arrest goes down then crime goes up, so now with the help of line and bar chart you have to prove that crime rate is inversely proportional to arrest.](#h19)<br>\n",
    "[20. Create a data frame that shows the summary of total crimes each year and total arrest each year.](#h20)<br>\n",
    "[21. What is the relation between crime and arrest? (Find correlation b/w crime and arrest)](#h21)<br>\n",
    "[22. Which 3 crimes committed most of the time in 2008?](#h22)<br>\n",
    "[23. List top 5 blocks where most of the crimes committed with their districts, community area name & count of a crime.](#h23)<br>\n",
    "[24. Make a data frame that shows the top 5 districts where most of a crime committed.](#h24)<br>\n",
    "[25. Make a data frame that shows the top 5 community areas where most of a crime committed.](#h25)<br>\n",
    "[26. How many unique types of crime committed on the gas station and what they are? Show them with their count.](#h26)<br>"
   ]
  },
  {
   "cell_type": "markdown",
   "metadata": {},
   "source": [
    "<a id='hh1'></a>\n",
    "###  1. Read the data"
   ]
  },
  {
   "cell_type": "code",
   "execution_count": 1,
   "metadata": {},
   "outputs": [],
   "source": [
    "import pandas as pd"
   ]
  },
  {
   "cell_type": "markdown",
   "metadata": {},
   "source": [
    "Read all 4 CSV files of crime data."
   ]
  },
  {
   "cell_type": "code",
   "execution_count": 2,
   "metadata": {},
   "outputs": [
    {
     "name": "stderr",
     "output_type": "stream",
     "text": [
      "b'Skipping line 1513591: expected 23 fields, saw 24\\n'\n",
      "C:\\Users\\d store\\Anaconda3\\lib\\site-packages\\IPython\\core\\interactiveshell.py:3058: DtypeWarning: Columns (17,20) have mixed types. Specify dtype option on import or set low_memory=False.\n",
      "  interactivity=interactivity, compiler=compiler, result=result)\n"
     ]
    }
   ],
   "source": [
    "a = pd.read_csv('Chicago_Crimes_2001_to_2004.csv', error_bad_lines=False)"
   ]
  },
  {
   "cell_type": "code",
   "execution_count": 3,
   "metadata": {},
   "outputs": [
    {
     "name": "stderr",
     "output_type": "stream",
     "text": [
      "b'Skipping line 533719: expected 23 fields, saw 24\\n'\n"
     ]
    }
   ],
   "source": [
    "b = pd.read_csv('Chicago_Crimes_2005_to_2007.csv', error_bad_lines=False)"
   ]
  },
  {
   "cell_type": "code",
   "execution_count": 4,
   "metadata": {},
   "outputs": [
    {
     "name": "stderr",
     "output_type": "stream",
     "text": [
      "b'Skipping line 1149094: expected 23 fields, saw 41\\n'\n"
     ]
    }
   ],
   "source": [
    "c = pd.read_csv('Chicago_Crimes_2008_to_2011.csv', error_bad_lines=False)"
   ]
  },
  {
   "cell_type": "code",
   "execution_count": 5,
   "metadata": {},
   "outputs": [],
   "source": [
    "d = pd.read_csv('Chicago_Crimes_2012_to_2017.csv', error_bad_lines=False)"
   ]
  },
  {
   "cell_type": "markdown",
   "metadata": {},
   "source": [
    "Concatenate all the dataframes (a,b,c,d)."
   ]
  },
  {
   "cell_type": "code",
   "execution_count": 6,
   "metadata": {},
   "outputs": [],
   "source": [
    "crime_data = pd.concat([a,b,c,d])"
   ]
  },
  {
   "cell_type": "code",
   "execution_count": 7,
   "metadata": {},
   "outputs": [],
   "source": [
    "crime_data.reset_index(inplace=True)"
   ]
  },
  {
   "cell_type": "code",
   "execution_count": 8,
   "metadata": {},
   "outputs": [],
   "source": [
    "del a\n",
    "del b\n",
    "del c\n",
    "del d"
   ]
  },
  {
   "cell_type": "code",
   "execution_count": 9,
   "metadata": {},
   "outputs": [
    {
     "name": "stdout",
     "output_type": "stream",
     "text": [
      "Now the dataset is ready\n"
     ]
    }
   ],
   "source": [
    "print('Now the dataset is ready')"
   ]
  },
  {
   "cell_type": "markdown",
   "metadata": {},
   "source": [
    "[Go Back](#goback)"
   ]
  },
  {
   "cell_type": "markdown",
   "metadata": {},
   "source": [
    "<a id='hh2'></a>\n",
    "### 2- Data Understanding"
   ]
  },
  {
   "cell_type": "code",
   "execution_count": 10,
   "metadata": {},
   "outputs": [
    {
     "data": {
      "text/html": [
       "<div>\n",
       "<style scoped>\n",
       "    .dataframe tbody tr th:only-of-type {\n",
       "        vertical-align: middle;\n",
       "    }\n",
       "\n",
       "    .dataframe tbody tr th {\n",
       "        vertical-align: top;\n",
       "    }\n",
       "\n",
       "    .dataframe thead th {\n",
       "        text-align: right;\n",
       "    }\n",
       "</style>\n",
       "<table border=\"1\" class=\"dataframe\">\n",
       "  <thead>\n",
       "    <tr style=\"text-align: right;\">\n",
       "      <th></th>\n",
       "      <th>index</th>\n",
       "      <th>Unnamed: 0</th>\n",
       "      <th>ID</th>\n",
       "      <th>Case Number</th>\n",
       "      <th>Date</th>\n",
       "      <th>Block</th>\n",
       "      <th>IUCR</th>\n",
       "      <th>Primary Type</th>\n",
       "      <th>Description</th>\n",
       "      <th>Location Description</th>\n",
       "      <th>...</th>\n",
       "      <th>Ward</th>\n",
       "      <th>Community Area</th>\n",
       "      <th>FBI Code</th>\n",
       "      <th>X Coordinate</th>\n",
       "      <th>Y Coordinate</th>\n",
       "      <th>Year</th>\n",
       "      <th>Updated On</th>\n",
       "      <th>Latitude</th>\n",
       "      <th>Longitude</th>\n",
       "      <th>Location</th>\n",
       "    </tr>\n",
       "  </thead>\n",
       "  <tbody>\n",
       "    <tr>\n",
       "      <td>0</td>\n",
       "      <td>0</td>\n",
       "      <td>879</td>\n",
       "      <td>4786321</td>\n",
       "      <td>HM399414</td>\n",
       "      <td>01/01/2004 12:01:00 AM</td>\n",
       "      <td>082XX S COLES AVE</td>\n",
       "      <td>0840</td>\n",
       "      <td>THEFT</td>\n",
       "      <td>FINANCIAL ID THEFT: OVER $300</td>\n",
       "      <td>RESIDENCE</td>\n",
       "      <td>...</td>\n",
       "      <td>7.0</td>\n",
       "      <td>46.0</td>\n",
       "      <td>06</td>\n",
       "      <td>NaN</td>\n",
       "      <td>NaN</td>\n",
       "      <td>2004.0</td>\n",
       "      <td>08/17/2015 03:03:40 PM</td>\n",
       "      <td>NaN</td>\n",
       "      <td>NaN</td>\n",
       "      <td>NaN</td>\n",
       "    </tr>\n",
       "    <tr>\n",
       "      <td>1</td>\n",
       "      <td>1</td>\n",
       "      <td>2544</td>\n",
       "      <td>4676906</td>\n",
       "      <td>HM278933</td>\n",
       "      <td>03/01/2003 12:00:00 AM</td>\n",
       "      <td>004XX W 42ND PL</td>\n",
       "      <td>2825</td>\n",
       "      <td>OTHER OFFENSE</td>\n",
       "      <td>HARASSMENT BY TELEPHONE</td>\n",
       "      <td>RESIDENCE</td>\n",
       "      <td>...</td>\n",
       "      <td>11.0</td>\n",
       "      <td>61.0</td>\n",
       "      <td>26</td>\n",
       "      <td>1173974.0</td>\n",
       "      <td>1.87676e+06</td>\n",
       "      <td>2003.0</td>\n",
       "      <td>04/15/2016 08:55:02 AM</td>\n",
       "      <td>41.8172</td>\n",
       "      <td>-87.637328</td>\n",
       "      <td>(41.817229156, -87.637328162)</td>\n",
       "    </tr>\n",
       "    <tr>\n",
       "      <td>2</td>\n",
       "      <td>2</td>\n",
       "      <td>2919</td>\n",
       "      <td>4789749</td>\n",
       "      <td>HM402220</td>\n",
       "      <td>06/20/2004 11:00:00 AM</td>\n",
       "      <td>025XX N KIMBALL AVE</td>\n",
       "      <td>1752</td>\n",
       "      <td>OFFENSE INVOLVING CHILDREN</td>\n",
       "      <td>AGG CRIM SEX ABUSE FAM MEMBER</td>\n",
       "      <td>RESIDENCE</td>\n",
       "      <td>...</td>\n",
       "      <td>35.0</td>\n",
       "      <td>22.0</td>\n",
       "      <td>20</td>\n",
       "      <td>NaN</td>\n",
       "      <td>NaN</td>\n",
       "      <td>2004.0</td>\n",
       "      <td>08/17/2015 03:03:40 PM</td>\n",
       "      <td>NaN</td>\n",
       "      <td>NaN</td>\n",
       "      <td>NaN</td>\n",
       "    </tr>\n",
       "    <tr>\n",
       "      <td>3</td>\n",
       "      <td>3</td>\n",
       "      <td>2927</td>\n",
       "      <td>4789765</td>\n",
       "      <td>HM402058</td>\n",
       "      <td>12/30/2004 08:00:00 PM</td>\n",
       "      <td>045XX W MONTANA ST</td>\n",
       "      <td>0840</td>\n",
       "      <td>THEFT</td>\n",
       "      <td>FINANCIAL ID THEFT: OVER $300</td>\n",
       "      <td>OTHER</td>\n",
       "      <td>...</td>\n",
       "      <td>31.0</td>\n",
       "      <td>20.0</td>\n",
       "      <td>06</td>\n",
       "      <td>NaN</td>\n",
       "      <td>NaN</td>\n",
       "      <td>2004.0</td>\n",
       "      <td>08/17/2015 03:03:40 PM</td>\n",
       "      <td>NaN</td>\n",
       "      <td>NaN</td>\n",
       "      <td>NaN</td>\n",
       "    </tr>\n",
       "    <tr>\n",
       "      <td>4</td>\n",
       "      <td>4</td>\n",
       "      <td>3302</td>\n",
       "      <td>4677901</td>\n",
       "      <td>HM275615</td>\n",
       "      <td>05/01/2003 01:00:00 AM</td>\n",
       "      <td>111XX S NORMAL AVE</td>\n",
       "      <td>0841</td>\n",
       "      <td>THEFT</td>\n",
       "      <td>FINANCIAL ID THEFT:$300 &amp;UNDER</td>\n",
       "      <td>RESIDENCE</td>\n",
       "      <td>...</td>\n",
       "      <td>34.0</td>\n",
       "      <td>49.0</td>\n",
       "      <td>06</td>\n",
       "      <td>1174948.0</td>\n",
       "      <td>1.83105e+06</td>\n",
       "      <td>2003.0</td>\n",
       "      <td>04/15/2016 08:55:02 AM</td>\n",
       "      <td>41.6918</td>\n",
       "      <td>-87.635116</td>\n",
       "      <td>(41.691784636, -87.635115968)</td>\n",
       "    </tr>\n",
       "  </tbody>\n",
       "</table>\n",
       "<p>5 rows × 24 columns</p>\n",
       "</div>"
      ],
      "text/plain": [
       "   index  Unnamed: 0       ID Case Number                    Date  \\\n",
       "0      0         879  4786321    HM399414  01/01/2004 12:01:00 AM   \n",
       "1      1        2544  4676906    HM278933  03/01/2003 12:00:00 AM   \n",
       "2      2        2919  4789749    HM402220  06/20/2004 11:00:00 AM   \n",
       "3      3        2927  4789765    HM402058  12/30/2004 08:00:00 PM   \n",
       "4      4        3302  4677901    HM275615  05/01/2003 01:00:00 AM   \n",
       "\n",
       "                 Block  IUCR                Primary Type  \\\n",
       "0    082XX S COLES AVE  0840                       THEFT   \n",
       "1      004XX W 42ND PL  2825               OTHER OFFENSE   \n",
       "2  025XX N KIMBALL AVE  1752  OFFENSE INVOLVING CHILDREN   \n",
       "3   045XX W MONTANA ST  0840                       THEFT   \n",
       "4   111XX S NORMAL AVE  0841                       THEFT   \n",
       "\n",
       "                      Description Location Description  ...  Ward  \\\n",
       "0   FINANCIAL ID THEFT: OVER $300            RESIDENCE  ...   7.0   \n",
       "1         HARASSMENT BY TELEPHONE            RESIDENCE  ...  11.0   \n",
       "2   AGG CRIM SEX ABUSE FAM MEMBER            RESIDENCE  ...  35.0   \n",
       "3   FINANCIAL ID THEFT: OVER $300                OTHER  ...  31.0   \n",
       "4  FINANCIAL ID THEFT:$300 &UNDER            RESIDENCE  ...  34.0   \n",
       "\n",
       "   Community Area  FBI Code  X Coordinate  Y Coordinate    Year  \\\n",
       "0            46.0        06           NaN           NaN  2004.0   \n",
       "1            61.0        26     1173974.0   1.87676e+06  2003.0   \n",
       "2            22.0        20           NaN           NaN  2004.0   \n",
       "3            20.0        06           NaN           NaN  2004.0   \n",
       "4            49.0        06     1174948.0   1.83105e+06  2003.0   \n",
       "\n",
       "               Updated On  Latitude  Longitude                       Location  \n",
       "0  08/17/2015 03:03:40 PM       NaN        NaN                            NaN  \n",
       "1  04/15/2016 08:55:02 AM   41.8172 -87.637328  (41.817229156, -87.637328162)  \n",
       "2  08/17/2015 03:03:40 PM       NaN        NaN                            NaN  \n",
       "3  08/17/2015 03:03:40 PM       NaN        NaN                            NaN  \n",
       "4  04/15/2016 08:55:02 AM   41.6918 -87.635116  (41.691784636, -87.635115968)  \n",
       "\n",
       "[5 rows x 24 columns]"
      ]
     },
     "execution_count": 10,
     "metadata": {},
     "output_type": "execute_result"
    }
   ],
   "source": [
    "crime_data.head()"
   ]
  },
  {
   "cell_type": "code",
   "execution_count": 11,
   "metadata": {},
   "outputs": [
    {
     "data": {
      "text/html": [
       "<div>\n",
       "<style scoped>\n",
       "    .dataframe tbody tr th:only-of-type {\n",
       "        vertical-align: middle;\n",
       "    }\n",
       "\n",
       "    .dataframe tbody tr th {\n",
       "        vertical-align: top;\n",
       "    }\n",
       "\n",
       "    .dataframe thead th {\n",
       "        text-align: right;\n",
       "    }\n",
       "</style>\n",
       "<table border=\"1\" class=\"dataframe\">\n",
       "  <thead>\n",
       "    <tr style=\"text-align: right;\">\n",
       "      <th></th>\n",
       "      <th>index</th>\n",
       "      <th>Unnamed: 0</th>\n",
       "      <th>ID</th>\n",
       "      <th>Case Number</th>\n",
       "      <th>Date</th>\n",
       "      <th>Block</th>\n",
       "      <th>IUCR</th>\n",
       "      <th>Primary Type</th>\n",
       "      <th>Description</th>\n",
       "      <th>Location Description</th>\n",
       "      <th>...</th>\n",
       "      <th>Ward</th>\n",
       "      <th>Community Area</th>\n",
       "      <th>FBI Code</th>\n",
       "      <th>X Coordinate</th>\n",
       "      <th>Y Coordinate</th>\n",
       "      <th>Year</th>\n",
       "      <th>Updated On</th>\n",
       "      <th>Latitude</th>\n",
       "      <th>Longitude</th>\n",
       "      <th>Location</th>\n",
       "    </tr>\n",
       "  </thead>\n",
       "  <tbody>\n",
       "    <tr>\n",
       "      <td>7941277</td>\n",
       "      <td>1456709</td>\n",
       "      <td>6250330</td>\n",
       "      <td>10508679</td>\n",
       "      <td>HZ250507</td>\n",
       "      <td>05/03/2016 11:33:00 PM</td>\n",
       "      <td>026XX W 23RD PL</td>\n",
       "      <td>0486</td>\n",
       "      <td>BATTERY</td>\n",
       "      <td>DOMESTIC BATTERY SIMPLE</td>\n",
       "      <td>APARTMENT</td>\n",
       "      <td>...</td>\n",
       "      <td>28.0</td>\n",
       "      <td>30.0</td>\n",
       "      <td>08B</td>\n",
       "      <td>1159105.0</td>\n",
       "      <td>1.8883e+06</td>\n",
       "      <td>2016.0</td>\n",
       "      <td>05/10/2016 03:56:50 PM</td>\n",
       "      <td>41.8492</td>\n",
       "      <td>-87.691556</td>\n",
       "      <td>(41.849222028, -87.69155551)</td>\n",
       "    </tr>\n",
       "    <tr>\n",
       "      <td>7941278</td>\n",
       "      <td>1456710</td>\n",
       "      <td>6251089</td>\n",
       "      <td>10508680</td>\n",
       "      <td>HZ250491</td>\n",
       "      <td>05/03/2016 11:30:00 PM</td>\n",
       "      <td>073XX S HARVARD AVE</td>\n",
       "      <td>1310</td>\n",
       "      <td>CRIMINAL DAMAGE</td>\n",
       "      <td>TO PROPERTY</td>\n",
       "      <td>APARTMENT</td>\n",
       "      <td>...</td>\n",
       "      <td>17.0</td>\n",
       "      <td>69.0</td>\n",
       "      <td>14</td>\n",
       "      <td>1175230.0</td>\n",
       "      <td>1.85618e+06</td>\n",
       "      <td>2016.0</td>\n",
       "      <td>05/10/2016 03:56:50 PM</td>\n",
       "      <td>41.7607</td>\n",
       "      <td>-87.633335</td>\n",
       "      <td>(41.760743949, -87.63333531)</td>\n",
       "    </tr>\n",
       "    <tr>\n",
       "      <td>7941279</td>\n",
       "      <td>1456711</td>\n",
       "      <td>6251349</td>\n",
       "      <td>10508681</td>\n",
       "      <td>HZ250479</td>\n",
       "      <td>05/03/2016 12:15:00 AM</td>\n",
       "      <td>024XX W 63RD ST</td>\n",
       "      <td>041A</td>\n",
       "      <td>BATTERY</td>\n",
       "      <td>AGGRAVATED: HANDGUN</td>\n",
       "      <td>SIDEWALK</td>\n",
       "      <td>...</td>\n",
       "      <td>15.0</td>\n",
       "      <td>66.0</td>\n",
       "      <td>04B</td>\n",
       "      <td>1161027.0</td>\n",
       "      <td>1.86281e+06</td>\n",
       "      <td>2016.0</td>\n",
       "      <td>05/10/2016 03:56:50 PM</td>\n",
       "      <td>41.7792</td>\n",
       "      <td>-87.685207</td>\n",
       "      <td>(41.779234743, -87.685207125)</td>\n",
       "    </tr>\n",
       "    <tr>\n",
       "      <td>7941280</td>\n",
       "      <td>1456712</td>\n",
       "      <td>6253257</td>\n",
       "      <td>10508690</td>\n",
       "      <td>HZ250370</td>\n",
       "      <td>05/03/2016 09:07:00 PM</td>\n",
       "      <td>082XX S EXCHANGE AVE</td>\n",
       "      <td>0486</td>\n",
       "      <td>BATTERY</td>\n",
       "      <td>DOMESTIC BATTERY SIMPLE</td>\n",
       "      <td>SIDEWALK</td>\n",
       "      <td>...</td>\n",
       "      <td>7.0</td>\n",
       "      <td>46.0</td>\n",
       "      <td>08B</td>\n",
       "      <td>1197261.0</td>\n",
       "      <td>1.85073e+06</td>\n",
       "      <td>2016.0</td>\n",
       "      <td>05/10/2016 03:56:50 PM</td>\n",
       "      <td>41.7453</td>\n",
       "      <td>-87.552773</td>\n",
       "      <td>(41.745251975, -87.552773464)</td>\n",
       "    </tr>\n",
       "    <tr>\n",
       "      <td>7941281</td>\n",
       "      <td>1456713</td>\n",
       "      <td>6253474</td>\n",
       "      <td>10508692</td>\n",
       "      <td>HZ250517</td>\n",
       "      <td>05/03/2016 11:38:00 PM</td>\n",
       "      <td>001XX E 75TH ST</td>\n",
       "      <td>5007</td>\n",
       "      <td>OTHER OFFENSE</td>\n",
       "      <td>OTHER WEAPONS VIOLATION</td>\n",
       "      <td>PARKING LOT/GARAGE(NON.RESID.)</td>\n",
       "      <td>...</td>\n",
       "      <td>6.0</td>\n",
       "      <td>69.0</td>\n",
       "      <td>26</td>\n",
       "      <td>1178696.0</td>\n",
       "      <td>1.85532e+06</td>\n",
       "      <td>2016.0</td>\n",
       "      <td>05/10/2016 03:56:50 PM</td>\n",
       "      <td>41.7583</td>\n",
       "      <td>-87.620658</td>\n",
       "      <td>(41.75830866, -87.620658418)</td>\n",
       "    </tr>\n",
       "  </tbody>\n",
       "</table>\n",
       "<p>5 rows × 24 columns</p>\n",
       "</div>"
      ],
      "text/plain": [
       "           index  Unnamed: 0        ID Case Number                    Date  \\\n",
       "7941277  1456709     6250330  10508679    HZ250507  05/03/2016 11:33:00 PM   \n",
       "7941278  1456710     6251089  10508680    HZ250491  05/03/2016 11:30:00 PM   \n",
       "7941279  1456711     6251349  10508681    HZ250479  05/03/2016 12:15:00 AM   \n",
       "7941280  1456712     6253257  10508690    HZ250370  05/03/2016 09:07:00 PM   \n",
       "7941281  1456713     6253474  10508692    HZ250517  05/03/2016 11:38:00 PM   \n",
       "\n",
       "                        Block  IUCR     Primary Type              Description  \\\n",
       "7941277       026XX W 23RD PL  0486          BATTERY  DOMESTIC BATTERY SIMPLE   \n",
       "7941278   073XX S HARVARD AVE  1310  CRIMINAL DAMAGE              TO PROPERTY   \n",
       "7941279       024XX W 63RD ST  041A          BATTERY      AGGRAVATED: HANDGUN   \n",
       "7941280  082XX S EXCHANGE AVE  0486          BATTERY  DOMESTIC BATTERY SIMPLE   \n",
       "7941281       001XX E 75TH ST  5007    OTHER OFFENSE  OTHER WEAPONS VIOLATION   \n",
       "\n",
       "                   Location Description  ...  Ward  Community Area  FBI Code  \\\n",
       "7941277                       APARTMENT  ...  28.0            30.0       08B   \n",
       "7941278                       APARTMENT  ...  17.0            69.0        14   \n",
       "7941279                        SIDEWALK  ...  15.0            66.0       04B   \n",
       "7941280                        SIDEWALK  ...   7.0            46.0       08B   \n",
       "7941281  PARKING LOT/GARAGE(NON.RESID.)  ...   6.0            69.0        26   \n",
       "\n",
       "         X Coordinate  Y Coordinate    Year              Updated On  Latitude  \\\n",
       "7941277     1159105.0    1.8883e+06  2016.0  05/10/2016 03:56:50 PM   41.8492   \n",
       "7941278     1175230.0   1.85618e+06  2016.0  05/10/2016 03:56:50 PM   41.7607   \n",
       "7941279     1161027.0   1.86281e+06  2016.0  05/10/2016 03:56:50 PM   41.7792   \n",
       "7941280     1197261.0   1.85073e+06  2016.0  05/10/2016 03:56:50 PM   41.7453   \n",
       "7941281     1178696.0   1.85532e+06  2016.0  05/10/2016 03:56:50 PM   41.7583   \n",
       "\n",
       "         Longitude                       Location  \n",
       "7941277 -87.691556   (41.849222028, -87.69155551)  \n",
       "7941278 -87.633335   (41.760743949, -87.63333531)  \n",
       "7941279 -87.685207  (41.779234743, -87.685207125)  \n",
       "7941280 -87.552773  (41.745251975, -87.552773464)  \n",
       "7941281 -87.620658   (41.75830866, -87.620658418)  \n",
       "\n",
       "[5 rows x 24 columns]"
      ]
     },
     "execution_count": 11,
     "metadata": {},
     "output_type": "execute_result"
    }
   ],
   "source": [
    "crime_data.tail()"
   ]
  },
  {
   "cell_type": "markdown",
   "metadata": {},
   "source": [
    "Remove index & Unname:0, columns because they are unnecessary here."
   ]
  },
  {
   "cell_type": "code",
   "execution_count": 135,
   "metadata": {},
   "outputs": [
    {
     "ename": "KeyError",
     "evalue": "\"['Unnamed: 0'] not found in axis\"",
     "output_type": "error",
     "traceback": [
      "\u001b[1;31m---------------------------------------------------------------------------\u001b[0m",
      "\u001b[1;31mKeyError\u001b[0m                                  Traceback (most recent call last)",
      "\u001b[1;32m<ipython-input-135-b9848fe6fbc7>\u001b[0m in \u001b[0;36m<module>\u001b[1;34m\u001b[0m\n\u001b[1;32m----> 1\u001b[1;33m \u001b[0mcrime_data\u001b[0m\u001b[1;33m.\u001b[0m\u001b[0mdrop\u001b[0m\u001b[1;33m(\u001b[0m\u001b[1;33m[\u001b[0m\u001b[1;34m'index'\u001b[0m\u001b[1;33m,\u001b[0m \u001b[1;34m'Unnamed: 0'\u001b[0m\u001b[1;33m]\u001b[0m\u001b[1;33m,\u001b[0m \u001b[0minplace\u001b[0m \u001b[1;33m=\u001b[0m \u001b[1;32mTrue\u001b[0m\u001b[1;33m,\u001b[0m \u001b[0maxis\u001b[0m \u001b[1;33m=\u001b[0m \u001b[1;36m1\u001b[0m\u001b[1;33m)\u001b[0m\u001b[1;33m\u001b[0m\u001b[1;33m\u001b[0m\u001b[0m\n\u001b[0m",
      "\u001b[1;32m~\\Anaconda3\\lib\\site-packages\\pandas\\core\\frame.py\u001b[0m in \u001b[0;36mdrop\u001b[1;34m(self, labels, axis, index, columns, level, inplace, errors)\u001b[0m\n\u001b[0;32m   4100\u001b[0m             \u001b[0mlevel\u001b[0m\u001b[1;33m=\u001b[0m\u001b[0mlevel\u001b[0m\u001b[1;33m,\u001b[0m\u001b[1;33m\u001b[0m\u001b[1;33m\u001b[0m\u001b[0m\n\u001b[0;32m   4101\u001b[0m             \u001b[0minplace\u001b[0m\u001b[1;33m=\u001b[0m\u001b[0minplace\u001b[0m\u001b[1;33m,\u001b[0m\u001b[1;33m\u001b[0m\u001b[1;33m\u001b[0m\u001b[0m\n\u001b[1;32m-> 4102\u001b[1;33m             \u001b[0merrors\u001b[0m\u001b[1;33m=\u001b[0m\u001b[0merrors\u001b[0m\u001b[1;33m,\u001b[0m\u001b[1;33m\u001b[0m\u001b[1;33m\u001b[0m\u001b[0m\n\u001b[0m\u001b[0;32m   4103\u001b[0m         )\n\u001b[0;32m   4104\u001b[0m \u001b[1;33m\u001b[0m\u001b[0m\n",
      "\u001b[1;32m~\\Anaconda3\\lib\\site-packages\\pandas\\core\\generic.py\u001b[0m in \u001b[0;36mdrop\u001b[1;34m(self, labels, axis, index, columns, level, inplace, errors)\u001b[0m\n\u001b[0;32m   3912\u001b[0m         \u001b[1;32mfor\u001b[0m \u001b[0maxis\u001b[0m\u001b[1;33m,\u001b[0m \u001b[0mlabels\u001b[0m \u001b[1;32min\u001b[0m \u001b[0maxes\u001b[0m\u001b[1;33m.\u001b[0m\u001b[0mitems\u001b[0m\u001b[1;33m(\u001b[0m\u001b[1;33m)\u001b[0m\u001b[1;33m:\u001b[0m\u001b[1;33m\u001b[0m\u001b[1;33m\u001b[0m\u001b[0m\n\u001b[0;32m   3913\u001b[0m             \u001b[1;32mif\u001b[0m \u001b[0mlabels\u001b[0m \u001b[1;32mis\u001b[0m \u001b[1;32mnot\u001b[0m \u001b[1;32mNone\u001b[0m\u001b[1;33m:\u001b[0m\u001b[1;33m\u001b[0m\u001b[1;33m\u001b[0m\u001b[0m\n\u001b[1;32m-> 3914\u001b[1;33m                 \u001b[0mobj\u001b[0m \u001b[1;33m=\u001b[0m \u001b[0mobj\u001b[0m\u001b[1;33m.\u001b[0m\u001b[0m_drop_axis\u001b[0m\u001b[1;33m(\u001b[0m\u001b[0mlabels\u001b[0m\u001b[1;33m,\u001b[0m \u001b[0maxis\u001b[0m\u001b[1;33m,\u001b[0m \u001b[0mlevel\u001b[0m\u001b[1;33m=\u001b[0m\u001b[0mlevel\u001b[0m\u001b[1;33m,\u001b[0m \u001b[0merrors\u001b[0m\u001b[1;33m=\u001b[0m\u001b[0merrors\u001b[0m\u001b[1;33m)\u001b[0m\u001b[1;33m\u001b[0m\u001b[1;33m\u001b[0m\u001b[0m\n\u001b[0m\u001b[0;32m   3915\u001b[0m \u001b[1;33m\u001b[0m\u001b[0m\n\u001b[0;32m   3916\u001b[0m         \u001b[1;32mif\u001b[0m \u001b[0minplace\u001b[0m\u001b[1;33m:\u001b[0m\u001b[1;33m\u001b[0m\u001b[1;33m\u001b[0m\u001b[0m\n",
      "\u001b[1;32m~\\Anaconda3\\lib\\site-packages\\pandas\\core\\generic.py\u001b[0m in \u001b[0;36m_drop_axis\u001b[1;34m(self, labels, axis, level, errors)\u001b[0m\n\u001b[0;32m   3944\u001b[0m                 \u001b[0mnew_axis\u001b[0m \u001b[1;33m=\u001b[0m \u001b[0maxis\u001b[0m\u001b[1;33m.\u001b[0m\u001b[0mdrop\u001b[0m\u001b[1;33m(\u001b[0m\u001b[0mlabels\u001b[0m\u001b[1;33m,\u001b[0m \u001b[0mlevel\u001b[0m\u001b[1;33m=\u001b[0m\u001b[0mlevel\u001b[0m\u001b[1;33m,\u001b[0m \u001b[0merrors\u001b[0m\u001b[1;33m=\u001b[0m\u001b[0merrors\u001b[0m\u001b[1;33m)\u001b[0m\u001b[1;33m\u001b[0m\u001b[1;33m\u001b[0m\u001b[0m\n\u001b[0;32m   3945\u001b[0m             \u001b[1;32melse\u001b[0m\u001b[1;33m:\u001b[0m\u001b[1;33m\u001b[0m\u001b[1;33m\u001b[0m\u001b[0m\n\u001b[1;32m-> 3946\u001b[1;33m                 \u001b[0mnew_axis\u001b[0m \u001b[1;33m=\u001b[0m \u001b[0maxis\u001b[0m\u001b[1;33m.\u001b[0m\u001b[0mdrop\u001b[0m\u001b[1;33m(\u001b[0m\u001b[0mlabels\u001b[0m\u001b[1;33m,\u001b[0m \u001b[0merrors\u001b[0m\u001b[1;33m=\u001b[0m\u001b[0merrors\u001b[0m\u001b[1;33m)\u001b[0m\u001b[1;33m\u001b[0m\u001b[1;33m\u001b[0m\u001b[0m\n\u001b[0m\u001b[0;32m   3947\u001b[0m             \u001b[0mresult\u001b[0m \u001b[1;33m=\u001b[0m \u001b[0mself\u001b[0m\u001b[1;33m.\u001b[0m\u001b[0mreindex\u001b[0m\u001b[1;33m(\u001b[0m\u001b[1;33m**\u001b[0m\u001b[1;33m{\u001b[0m\u001b[0maxis_name\u001b[0m\u001b[1;33m:\u001b[0m \u001b[0mnew_axis\u001b[0m\u001b[1;33m}\u001b[0m\u001b[1;33m)\u001b[0m\u001b[1;33m\u001b[0m\u001b[1;33m\u001b[0m\u001b[0m\n\u001b[0;32m   3948\u001b[0m \u001b[1;33m\u001b[0m\u001b[0m\n",
      "\u001b[1;32m~\\Anaconda3\\lib\\site-packages\\pandas\\core\\indexes\\base.py\u001b[0m in \u001b[0;36mdrop\u001b[1;34m(self, labels, errors)\u001b[0m\n\u001b[0;32m   5338\u001b[0m         \u001b[1;32mif\u001b[0m \u001b[0mmask\u001b[0m\u001b[1;33m.\u001b[0m\u001b[0many\u001b[0m\u001b[1;33m(\u001b[0m\u001b[1;33m)\u001b[0m\u001b[1;33m:\u001b[0m\u001b[1;33m\u001b[0m\u001b[1;33m\u001b[0m\u001b[0m\n\u001b[0;32m   5339\u001b[0m             \u001b[1;32mif\u001b[0m \u001b[0merrors\u001b[0m \u001b[1;33m!=\u001b[0m \u001b[1;34m\"ignore\"\u001b[0m\u001b[1;33m:\u001b[0m\u001b[1;33m\u001b[0m\u001b[1;33m\u001b[0m\u001b[0m\n\u001b[1;32m-> 5340\u001b[1;33m                 \u001b[1;32mraise\u001b[0m \u001b[0mKeyError\u001b[0m\u001b[1;33m(\u001b[0m\u001b[1;34m\"{} not found in axis\"\u001b[0m\u001b[1;33m.\u001b[0m\u001b[0mformat\u001b[0m\u001b[1;33m(\u001b[0m\u001b[0mlabels\u001b[0m\u001b[1;33m[\u001b[0m\u001b[0mmask\u001b[0m\u001b[1;33m]\u001b[0m\u001b[1;33m)\u001b[0m\u001b[1;33m)\u001b[0m\u001b[1;33m\u001b[0m\u001b[1;33m\u001b[0m\u001b[0m\n\u001b[0m\u001b[0;32m   5341\u001b[0m             \u001b[0mindexer\u001b[0m \u001b[1;33m=\u001b[0m \u001b[0mindexer\u001b[0m\u001b[1;33m[\u001b[0m\u001b[1;33m~\u001b[0m\u001b[0mmask\u001b[0m\u001b[1;33m]\u001b[0m\u001b[1;33m\u001b[0m\u001b[1;33m\u001b[0m\u001b[0m\n\u001b[0;32m   5342\u001b[0m         \u001b[1;32mreturn\u001b[0m \u001b[0mself\u001b[0m\u001b[1;33m.\u001b[0m\u001b[0mdelete\u001b[0m\u001b[1;33m(\u001b[0m\u001b[0mindexer\u001b[0m\u001b[1;33m)\u001b[0m\u001b[1;33m\u001b[0m\u001b[1;33m\u001b[0m\u001b[0m\n",
      "\u001b[1;31mKeyError\u001b[0m: \"['Unnamed: 0'] not found in axis\""
     ]
    }
   ],
   "source": [
    "crime_data.drop(['index', 'Unnamed: 0'], inplace = True, axis = 1)"
   ]
  },
  {
   "cell_type": "code",
   "execution_count": 13,
   "metadata": {},
   "outputs": [
    {
     "data": {
      "text/html": [
       "<div>\n",
       "<style scoped>\n",
       "    .dataframe tbody tr th:only-of-type {\n",
       "        vertical-align: middle;\n",
       "    }\n",
       "\n",
       "    .dataframe tbody tr th {\n",
       "        vertical-align: top;\n",
       "    }\n",
       "\n",
       "    .dataframe thead th {\n",
       "        text-align: right;\n",
       "    }\n",
       "</style>\n",
       "<table border=\"1\" class=\"dataframe\">\n",
       "  <thead>\n",
       "    <tr style=\"text-align: right;\">\n",
       "      <th></th>\n",
       "      <th>ID</th>\n",
       "      <th>Case Number</th>\n",
       "      <th>Date</th>\n",
       "      <th>Block</th>\n",
       "      <th>IUCR</th>\n",
       "      <th>Primary Type</th>\n",
       "      <th>Description</th>\n",
       "      <th>Location Description</th>\n",
       "      <th>Arrest</th>\n",
       "      <th>Domestic</th>\n",
       "      <th>...</th>\n",
       "      <th>Ward</th>\n",
       "      <th>Community Area</th>\n",
       "      <th>FBI Code</th>\n",
       "      <th>X Coordinate</th>\n",
       "      <th>Y Coordinate</th>\n",
       "      <th>Year</th>\n",
       "      <th>Updated On</th>\n",
       "      <th>Latitude</th>\n",
       "      <th>Longitude</th>\n",
       "      <th>Location</th>\n",
       "    </tr>\n",
       "  </thead>\n",
       "  <tbody>\n",
       "    <tr>\n",
       "      <td>0</td>\n",
       "      <td>4786321</td>\n",
       "      <td>HM399414</td>\n",
       "      <td>01/01/2004 12:01:00 AM</td>\n",
       "      <td>082XX S COLES AVE</td>\n",
       "      <td>0840</td>\n",
       "      <td>THEFT</td>\n",
       "      <td>FINANCIAL ID THEFT: OVER $300</td>\n",
       "      <td>RESIDENCE</td>\n",
       "      <td>False</td>\n",
       "      <td>False</td>\n",
       "      <td>...</td>\n",
       "      <td>7.0</td>\n",
       "      <td>46.0</td>\n",
       "      <td>06</td>\n",
       "      <td>NaN</td>\n",
       "      <td>NaN</td>\n",
       "      <td>2004.0</td>\n",
       "      <td>08/17/2015 03:03:40 PM</td>\n",
       "      <td>NaN</td>\n",
       "      <td>NaN</td>\n",
       "      <td>NaN</td>\n",
       "    </tr>\n",
       "    <tr>\n",
       "      <td>1</td>\n",
       "      <td>4676906</td>\n",
       "      <td>HM278933</td>\n",
       "      <td>03/01/2003 12:00:00 AM</td>\n",
       "      <td>004XX W 42ND PL</td>\n",
       "      <td>2825</td>\n",
       "      <td>OTHER OFFENSE</td>\n",
       "      <td>HARASSMENT BY TELEPHONE</td>\n",
       "      <td>RESIDENCE</td>\n",
       "      <td>False</td>\n",
       "      <td>True</td>\n",
       "      <td>...</td>\n",
       "      <td>11.0</td>\n",
       "      <td>61.0</td>\n",
       "      <td>26</td>\n",
       "      <td>1173974.0</td>\n",
       "      <td>1.87676e+06</td>\n",
       "      <td>2003.0</td>\n",
       "      <td>04/15/2016 08:55:02 AM</td>\n",
       "      <td>41.8172</td>\n",
       "      <td>-87.637328</td>\n",
       "      <td>(41.817229156, -87.637328162)</td>\n",
       "    </tr>\n",
       "    <tr>\n",
       "      <td>2</td>\n",
       "      <td>4789749</td>\n",
       "      <td>HM402220</td>\n",
       "      <td>06/20/2004 11:00:00 AM</td>\n",
       "      <td>025XX N KIMBALL AVE</td>\n",
       "      <td>1752</td>\n",
       "      <td>OFFENSE INVOLVING CHILDREN</td>\n",
       "      <td>AGG CRIM SEX ABUSE FAM MEMBER</td>\n",
       "      <td>RESIDENCE</td>\n",
       "      <td>False</td>\n",
       "      <td>False</td>\n",
       "      <td>...</td>\n",
       "      <td>35.0</td>\n",
       "      <td>22.0</td>\n",
       "      <td>20</td>\n",
       "      <td>NaN</td>\n",
       "      <td>NaN</td>\n",
       "      <td>2004.0</td>\n",
       "      <td>08/17/2015 03:03:40 PM</td>\n",
       "      <td>NaN</td>\n",
       "      <td>NaN</td>\n",
       "      <td>NaN</td>\n",
       "    </tr>\n",
       "    <tr>\n",
       "      <td>3</td>\n",
       "      <td>4789765</td>\n",
       "      <td>HM402058</td>\n",
       "      <td>12/30/2004 08:00:00 PM</td>\n",
       "      <td>045XX W MONTANA ST</td>\n",
       "      <td>0840</td>\n",
       "      <td>THEFT</td>\n",
       "      <td>FINANCIAL ID THEFT: OVER $300</td>\n",
       "      <td>OTHER</td>\n",
       "      <td>False</td>\n",
       "      <td>False</td>\n",
       "      <td>...</td>\n",
       "      <td>31.0</td>\n",
       "      <td>20.0</td>\n",
       "      <td>06</td>\n",
       "      <td>NaN</td>\n",
       "      <td>NaN</td>\n",
       "      <td>2004.0</td>\n",
       "      <td>08/17/2015 03:03:40 PM</td>\n",
       "      <td>NaN</td>\n",
       "      <td>NaN</td>\n",
       "      <td>NaN</td>\n",
       "    </tr>\n",
       "    <tr>\n",
       "      <td>4</td>\n",
       "      <td>4677901</td>\n",
       "      <td>HM275615</td>\n",
       "      <td>05/01/2003 01:00:00 AM</td>\n",
       "      <td>111XX S NORMAL AVE</td>\n",
       "      <td>0841</td>\n",
       "      <td>THEFT</td>\n",
       "      <td>FINANCIAL ID THEFT:$300 &amp;UNDER</td>\n",
       "      <td>RESIDENCE</td>\n",
       "      <td>False</td>\n",
       "      <td>False</td>\n",
       "      <td>...</td>\n",
       "      <td>34.0</td>\n",
       "      <td>49.0</td>\n",
       "      <td>06</td>\n",
       "      <td>1174948.0</td>\n",
       "      <td>1.83105e+06</td>\n",
       "      <td>2003.0</td>\n",
       "      <td>04/15/2016 08:55:02 AM</td>\n",
       "      <td>41.6918</td>\n",
       "      <td>-87.635116</td>\n",
       "      <td>(41.691784636, -87.635115968)</td>\n",
       "    </tr>\n",
       "  </tbody>\n",
       "</table>\n",
       "<p>5 rows × 22 columns</p>\n",
       "</div>"
      ],
      "text/plain": [
       "        ID Case Number                    Date                Block  IUCR  \\\n",
       "0  4786321    HM399414  01/01/2004 12:01:00 AM    082XX S COLES AVE  0840   \n",
       "1  4676906    HM278933  03/01/2003 12:00:00 AM      004XX W 42ND PL  2825   \n",
       "2  4789749    HM402220  06/20/2004 11:00:00 AM  025XX N KIMBALL AVE  1752   \n",
       "3  4789765    HM402058  12/30/2004 08:00:00 PM   045XX W MONTANA ST  0840   \n",
       "4  4677901    HM275615  05/01/2003 01:00:00 AM   111XX S NORMAL AVE  0841   \n",
       "\n",
       "                 Primary Type                     Description  \\\n",
       "0                       THEFT   FINANCIAL ID THEFT: OVER $300   \n",
       "1               OTHER OFFENSE         HARASSMENT BY TELEPHONE   \n",
       "2  OFFENSE INVOLVING CHILDREN   AGG CRIM SEX ABUSE FAM MEMBER   \n",
       "3                       THEFT   FINANCIAL ID THEFT: OVER $300   \n",
       "4                       THEFT  FINANCIAL ID THEFT:$300 &UNDER   \n",
       "\n",
       "  Location Description  Arrest  Domestic  ...  Ward  Community Area  FBI Code  \\\n",
       "0            RESIDENCE   False     False  ...   7.0            46.0        06   \n",
       "1            RESIDENCE   False      True  ...  11.0            61.0        26   \n",
       "2            RESIDENCE   False     False  ...  35.0            22.0        20   \n",
       "3                OTHER   False     False  ...  31.0            20.0        06   \n",
       "4            RESIDENCE   False     False  ...  34.0            49.0        06   \n",
       "\n",
       "   X Coordinate Y Coordinate    Year              Updated On  Latitude  \\\n",
       "0           NaN          NaN  2004.0  08/17/2015 03:03:40 PM       NaN   \n",
       "1     1173974.0  1.87676e+06  2003.0  04/15/2016 08:55:02 AM   41.8172   \n",
       "2           NaN          NaN  2004.0  08/17/2015 03:03:40 PM       NaN   \n",
       "3           NaN          NaN  2004.0  08/17/2015 03:03:40 PM       NaN   \n",
       "4     1174948.0  1.83105e+06  2003.0  04/15/2016 08:55:02 AM   41.6918   \n",
       "\n",
       "   Longitude                       Location  \n",
       "0        NaN                            NaN  \n",
       "1 -87.637328  (41.817229156, -87.637328162)  \n",
       "2        NaN                            NaN  \n",
       "3        NaN                            NaN  \n",
       "4 -87.635116  (41.691784636, -87.635115968)  \n",
       "\n",
       "[5 rows x 22 columns]"
      ]
     },
     "execution_count": 13,
     "metadata": {},
     "output_type": "execute_result"
    }
   ],
   "source": [
    "crime_data.head()"
   ]
  },
  {
   "cell_type": "code",
   "execution_count": 14,
   "metadata": {},
   "outputs": [
    {
     "data": {
      "text/html": [
       "<div>\n",
       "<style scoped>\n",
       "    .dataframe tbody tr th:only-of-type {\n",
       "        vertical-align: middle;\n",
       "    }\n",
       "\n",
       "    .dataframe tbody tr th {\n",
       "        vertical-align: top;\n",
       "    }\n",
       "\n",
       "    .dataframe thead th {\n",
       "        text-align: right;\n",
       "    }\n",
       "</style>\n",
       "<table border=\"1\" class=\"dataframe\">\n",
       "  <thead>\n",
       "    <tr style=\"text-align: right;\">\n",
       "      <th></th>\n",
       "      <th>ID</th>\n",
       "      <th>Case Number</th>\n",
       "      <th>Date</th>\n",
       "      <th>Block</th>\n",
       "      <th>IUCR</th>\n",
       "      <th>Primary Type</th>\n",
       "      <th>Description</th>\n",
       "      <th>Location Description</th>\n",
       "      <th>Arrest</th>\n",
       "      <th>Domestic</th>\n",
       "      <th>...</th>\n",
       "      <th>Ward</th>\n",
       "      <th>Community Area</th>\n",
       "      <th>FBI Code</th>\n",
       "      <th>X Coordinate</th>\n",
       "      <th>Y Coordinate</th>\n",
       "      <th>Year</th>\n",
       "      <th>Updated On</th>\n",
       "      <th>Latitude</th>\n",
       "      <th>Longitude</th>\n",
       "      <th>Location</th>\n",
       "    </tr>\n",
       "  </thead>\n",
       "  <tbody>\n",
       "    <tr>\n",
       "      <td>7941277</td>\n",
       "      <td>10508679</td>\n",
       "      <td>HZ250507</td>\n",
       "      <td>05/03/2016 11:33:00 PM</td>\n",
       "      <td>026XX W 23RD PL</td>\n",
       "      <td>0486</td>\n",
       "      <td>BATTERY</td>\n",
       "      <td>DOMESTIC BATTERY SIMPLE</td>\n",
       "      <td>APARTMENT</td>\n",
       "      <td>True</td>\n",
       "      <td>True</td>\n",
       "      <td>...</td>\n",
       "      <td>28.0</td>\n",
       "      <td>30.0</td>\n",
       "      <td>08B</td>\n",
       "      <td>1159105.0</td>\n",
       "      <td>1.8883e+06</td>\n",
       "      <td>2016.0</td>\n",
       "      <td>05/10/2016 03:56:50 PM</td>\n",
       "      <td>41.8492</td>\n",
       "      <td>-87.691556</td>\n",
       "      <td>(41.849222028, -87.69155551)</td>\n",
       "    </tr>\n",
       "    <tr>\n",
       "      <td>7941278</td>\n",
       "      <td>10508680</td>\n",
       "      <td>HZ250491</td>\n",
       "      <td>05/03/2016 11:30:00 PM</td>\n",
       "      <td>073XX S HARVARD AVE</td>\n",
       "      <td>1310</td>\n",
       "      <td>CRIMINAL DAMAGE</td>\n",
       "      <td>TO PROPERTY</td>\n",
       "      <td>APARTMENT</td>\n",
       "      <td>True</td>\n",
       "      <td>True</td>\n",
       "      <td>...</td>\n",
       "      <td>17.0</td>\n",
       "      <td>69.0</td>\n",
       "      <td>14</td>\n",
       "      <td>1175230.0</td>\n",
       "      <td>1.85618e+06</td>\n",
       "      <td>2016.0</td>\n",
       "      <td>05/10/2016 03:56:50 PM</td>\n",
       "      <td>41.7607</td>\n",
       "      <td>-87.633335</td>\n",
       "      <td>(41.760743949, -87.63333531)</td>\n",
       "    </tr>\n",
       "    <tr>\n",
       "      <td>7941279</td>\n",
       "      <td>10508681</td>\n",
       "      <td>HZ250479</td>\n",
       "      <td>05/03/2016 12:15:00 AM</td>\n",
       "      <td>024XX W 63RD ST</td>\n",
       "      <td>041A</td>\n",
       "      <td>BATTERY</td>\n",
       "      <td>AGGRAVATED: HANDGUN</td>\n",
       "      <td>SIDEWALK</td>\n",
       "      <td>False</td>\n",
       "      <td>False</td>\n",
       "      <td>...</td>\n",
       "      <td>15.0</td>\n",
       "      <td>66.0</td>\n",
       "      <td>04B</td>\n",
       "      <td>1161027.0</td>\n",
       "      <td>1.86281e+06</td>\n",
       "      <td>2016.0</td>\n",
       "      <td>05/10/2016 03:56:50 PM</td>\n",
       "      <td>41.7792</td>\n",
       "      <td>-87.685207</td>\n",
       "      <td>(41.779234743, -87.685207125)</td>\n",
       "    </tr>\n",
       "    <tr>\n",
       "      <td>7941280</td>\n",
       "      <td>10508690</td>\n",
       "      <td>HZ250370</td>\n",
       "      <td>05/03/2016 09:07:00 PM</td>\n",
       "      <td>082XX S EXCHANGE AVE</td>\n",
       "      <td>0486</td>\n",
       "      <td>BATTERY</td>\n",
       "      <td>DOMESTIC BATTERY SIMPLE</td>\n",
       "      <td>SIDEWALK</td>\n",
       "      <td>False</td>\n",
       "      <td>True</td>\n",
       "      <td>...</td>\n",
       "      <td>7.0</td>\n",
       "      <td>46.0</td>\n",
       "      <td>08B</td>\n",
       "      <td>1197261.0</td>\n",
       "      <td>1.85073e+06</td>\n",
       "      <td>2016.0</td>\n",
       "      <td>05/10/2016 03:56:50 PM</td>\n",
       "      <td>41.7453</td>\n",
       "      <td>-87.552773</td>\n",
       "      <td>(41.745251975, -87.552773464)</td>\n",
       "    </tr>\n",
       "    <tr>\n",
       "      <td>7941281</td>\n",
       "      <td>10508692</td>\n",
       "      <td>HZ250517</td>\n",
       "      <td>05/03/2016 11:38:00 PM</td>\n",
       "      <td>001XX E 75TH ST</td>\n",
       "      <td>5007</td>\n",
       "      <td>OTHER OFFENSE</td>\n",
       "      <td>OTHER WEAPONS VIOLATION</td>\n",
       "      <td>PARKING LOT/GARAGE(NON.RESID.)</td>\n",
       "      <td>True</td>\n",
       "      <td>False</td>\n",
       "      <td>...</td>\n",
       "      <td>6.0</td>\n",
       "      <td>69.0</td>\n",
       "      <td>26</td>\n",
       "      <td>1178696.0</td>\n",
       "      <td>1.85532e+06</td>\n",
       "      <td>2016.0</td>\n",
       "      <td>05/10/2016 03:56:50 PM</td>\n",
       "      <td>41.7583</td>\n",
       "      <td>-87.620658</td>\n",
       "      <td>(41.75830866, -87.620658418)</td>\n",
       "    </tr>\n",
       "  </tbody>\n",
       "</table>\n",
       "<p>5 rows × 22 columns</p>\n",
       "</div>"
      ],
      "text/plain": [
       "               ID Case Number                    Date                 Block  \\\n",
       "7941277  10508679    HZ250507  05/03/2016 11:33:00 PM       026XX W 23RD PL   \n",
       "7941278  10508680    HZ250491  05/03/2016 11:30:00 PM   073XX S HARVARD AVE   \n",
       "7941279  10508681    HZ250479  05/03/2016 12:15:00 AM       024XX W 63RD ST   \n",
       "7941280  10508690    HZ250370  05/03/2016 09:07:00 PM  082XX S EXCHANGE AVE   \n",
       "7941281  10508692    HZ250517  05/03/2016 11:38:00 PM       001XX E 75TH ST   \n",
       "\n",
       "         IUCR     Primary Type              Description  \\\n",
       "7941277  0486          BATTERY  DOMESTIC BATTERY SIMPLE   \n",
       "7941278  1310  CRIMINAL DAMAGE              TO PROPERTY   \n",
       "7941279  041A          BATTERY      AGGRAVATED: HANDGUN   \n",
       "7941280  0486          BATTERY  DOMESTIC BATTERY SIMPLE   \n",
       "7941281  5007    OTHER OFFENSE  OTHER WEAPONS VIOLATION   \n",
       "\n",
       "                   Location Description  Arrest  Domestic  ...  Ward  \\\n",
       "7941277                       APARTMENT    True      True  ...  28.0   \n",
       "7941278                       APARTMENT    True      True  ...  17.0   \n",
       "7941279                        SIDEWALK   False     False  ...  15.0   \n",
       "7941280                        SIDEWALK   False      True  ...   7.0   \n",
       "7941281  PARKING LOT/GARAGE(NON.RESID.)    True     False  ...   6.0   \n",
       "\n",
       "         Community Area  FBI Code  X Coordinate Y Coordinate    Year  \\\n",
       "7941277            30.0       08B     1159105.0   1.8883e+06  2016.0   \n",
       "7941278            69.0        14     1175230.0  1.85618e+06  2016.0   \n",
       "7941279            66.0       04B     1161027.0  1.86281e+06  2016.0   \n",
       "7941280            46.0       08B     1197261.0  1.85073e+06  2016.0   \n",
       "7941281            69.0        26     1178696.0  1.85532e+06  2016.0   \n",
       "\n",
       "                     Updated On  Latitude  Longitude  \\\n",
       "7941277  05/10/2016 03:56:50 PM   41.8492 -87.691556   \n",
       "7941278  05/10/2016 03:56:50 PM   41.7607 -87.633335   \n",
       "7941279  05/10/2016 03:56:50 PM   41.7792 -87.685207   \n",
       "7941280  05/10/2016 03:56:50 PM   41.7453 -87.552773   \n",
       "7941281  05/10/2016 03:56:50 PM   41.7583 -87.620658   \n",
       "\n",
       "                              Location  \n",
       "7941277   (41.849222028, -87.69155551)  \n",
       "7941278   (41.760743949, -87.63333531)  \n",
       "7941279  (41.779234743, -87.685207125)  \n",
       "7941280  (41.745251975, -87.552773464)  \n",
       "7941281   (41.75830866, -87.620658418)  \n",
       "\n",
       "[5 rows x 22 columns]"
      ]
     },
     "execution_count": 14,
     "metadata": {},
     "output_type": "execute_result"
    }
   ],
   "source": [
    "crime_data.tail()"
   ]
  },
  {
   "cell_type": "code",
   "execution_count": 15,
   "metadata": {},
   "outputs": [
    {
     "data": {
      "text/plain": [
       "Index(['ID', 'Case Number', 'Date', 'Block', 'IUCR', 'Primary Type',\n",
       "       'Description', 'Location Description', 'Arrest', 'Domestic', 'Beat',\n",
       "       'District', 'Ward', 'Community Area', 'FBI Code', 'X Coordinate',\n",
       "       'Y Coordinate', 'Year', 'Updated On', 'Latitude', 'Longitude',\n",
       "       'Location'],\n",
       "      dtype='object')"
      ]
     },
     "execution_count": 15,
     "metadata": {},
     "output_type": "execute_result"
    }
   ],
   "source": [
    "crime_data.columns"
   ]
  },
  {
   "cell_type": "code",
   "execution_count": 16,
   "metadata": {},
   "outputs": [
    {
     "data": {
      "text/html": [
       "<div>\n",
       "<style scoped>\n",
       "    .dataframe tbody tr th:only-of-type {\n",
       "        vertical-align: middle;\n",
       "    }\n",
       "\n",
       "    .dataframe tbody tr th {\n",
       "        vertical-align: top;\n",
       "    }\n",
       "\n",
       "    .dataframe thead th {\n",
       "        text-align: right;\n",
       "    }\n",
       "</style>\n",
       "<table border=\"1\" class=\"dataframe\">\n",
       "  <thead>\n",
       "    <tr style=\"text-align: right;\">\n",
       "      <th></th>\n",
       "      <th>ID</th>\n",
       "      <th>Beat</th>\n",
       "      <th>District</th>\n",
       "      <th>Ward</th>\n",
       "      <th>Community Area</th>\n",
       "      <th>X Coordinate</th>\n",
       "      <th>Year</th>\n",
       "      <th>Longitude</th>\n",
       "    </tr>\n",
       "  </thead>\n",
       "  <tbody>\n",
       "    <tr>\n",
       "      <td>count</td>\n",
       "      <td>7.941282e+06</td>\n",
       "      <td>7.941282e+06</td>\n",
       "      <td>7.941191e+06</td>\n",
       "      <td>7.241058e+06</td>\n",
       "      <td>7.239191e+06</td>\n",
       "      <td>7.835709e+06</td>\n",
       "      <td>7.941282e+06</td>\n",
       "      <td>7.835708e+06</td>\n",
       "    </tr>\n",
       "    <tr>\n",
       "      <td>mean</td>\n",
       "      <td>5.926071e+06</td>\n",
       "      <td>1.197659e+03</td>\n",
       "      <td>1.131215e+01</td>\n",
       "      <td>2.262089e+01</td>\n",
       "      <td>3.774790e+01</td>\n",
       "      <td>1.164455e+06</td>\n",
       "      <td>2.007672e+03</td>\n",
       "      <td>-8.767203e+01</td>\n",
       "    </tr>\n",
       "    <tr>\n",
       "      <td>std</td>\n",
       "      <td>2.568290e+06</td>\n",
       "      <td>7.041944e+02</td>\n",
       "      <td>6.944523e+00</td>\n",
       "      <td>1.378632e+01</td>\n",
       "      <td>2.156597e+01</td>\n",
       "      <td>1.751911e+04</td>\n",
       "      <td>4.123451e+00</td>\n",
       "      <td>6.328715e-02</td>\n",
       "    </tr>\n",
       "    <tr>\n",
       "      <td>min</td>\n",
       "      <td>6.340000e+02</td>\n",
       "      <td>1.110000e+02</td>\n",
       "      <td>1.000000e+00</td>\n",
       "      <td>1.000000e+00</td>\n",
       "      <td>0.000000e+00</td>\n",
       "      <td>0.000000e+00</td>\n",
       "      <td>4.178983e+01</td>\n",
       "      <td>-9.168657e+01</td>\n",
       "    </tr>\n",
       "    <tr>\n",
       "      <td>25%</td>\n",
       "      <td>3.853209e+06</td>\n",
       "      <td>6.230000e+02</td>\n",
       "      <td>6.000000e+00</td>\n",
       "      <td>1.000000e+01</td>\n",
       "      <td>2.300000e+01</td>\n",
       "      <td>1.152887e+06</td>\n",
       "      <td>2.005000e+03</td>\n",
       "      <td>-8.771401e+01</td>\n",
       "    </tr>\n",
       "    <tr>\n",
       "      <td>50%</td>\n",
       "      <td>6.165079e+06</td>\n",
       "      <td>1.111000e+03</td>\n",
       "      <td>1.000000e+01</td>\n",
       "      <td>2.200000e+01</td>\n",
       "      <td>3.200000e+01</td>\n",
       "      <td>1.165910e+06</td>\n",
       "      <td>2.008000e+03</td>\n",
       "      <td>-8.766643e+01</td>\n",
       "    </tr>\n",
       "    <tr>\n",
       "      <td>75%</td>\n",
       "      <td>7.716590e+06</td>\n",
       "      <td>1.732000e+03</td>\n",
       "      <td>1.700000e+01</td>\n",
       "      <td>3.400000e+01</td>\n",
       "      <td>5.800000e+01</td>\n",
       "      <td>1.176336e+06</td>\n",
       "      <td>2.010000e+03</td>\n",
       "      <td>-8.762856e+01</td>\n",
       "    </tr>\n",
       "    <tr>\n",
       "      <td>max</td>\n",
       "      <td>1.082788e+07</td>\n",
       "      <td>2.535000e+03</td>\n",
       "      <td>3.100000e+01</td>\n",
       "      <td>5.000000e+01</td>\n",
       "      <td>7.700000e+01</td>\n",
       "      <td>1.205119e+06</td>\n",
       "      <td>2.017000e+03</td>\n",
       "      <td>-8.752453e+01</td>\n",
       "    </tr>\n",
       "  </tbody>\n",
       "</table>\n",
       "</div>"
      ],
      "text/plain": [
       "                 ID          Beat      District          Ward  Community Area  \\\n",
       "count  7.941282e+06  7.941282e+06  7.941191e+06  7.241058e+06    7.239191e+06   \n",
       "mean   5.926071e+06  1.197659e+03  1.131215e+01  2.262089e+01    3.774790e+01   \n",
       "std    2.568290e+06  7.041944e+02  6.944523e+00  1.378632e+01    2.156597e+01   \n",
       "min    6.340000e+02  1.110000e+02  1.000000e+00  1.000000e+00    0.000000e+00   \n",
       "25%    3.853209e+06  6.230000e+02  6.000000e+00  1.000000e+01    2.300000e+01   \n",
       "50%    6.165079e+06  1.111000e+03  1.000000e+01  2.200000e+01    3.200000e+01   \n",
       "75%    7.716590e+06  1.732000e+03  1.700000e+01  3.400000e+01    5.800000e+01   \n",
       "max    1.082788e+07  2.535000e+03  3.100000e+01  5.000000e+01    7.700000e+01   \n",
       "\n",
       "       X Coordinate          Year     Longitude  \n",
       "count  7.835709e+06  7.941282e+06  7.835708e+06  \n",
       "mean   1.164455e+06  2.007672e+03 -8.767203e+01  \n",
       "std    1.751911e+04  4.123451e+00  6.328715e-02  \n",
       "min    0.000000e+00  4.178983e+01 -9.168657e+01  \n",
       "25%    1.152887e+06  2.005000e+03 -8.771401e+01  \n",
       "50%    1.165910e+06  2.008000e+03 -8.766643e+01  \n",
       "75%    1.176336e+06  2.010000e+03 -8.762856e+01  \n",
       "max    1.205119e+06  2.017000e+03 -8.752453e+01  "
      ]
     },
     "execution_count": 16,
     "metadata": {},
     "output_type": "execute_result"
    }
   ],
   "source": [
    "crime_data.describe()"
   ]
  },
  {
   "cell_type": "code",
   "execution_count": 17,
   "metadata": {},
   "outputs": [
    {
     "name": "stdout",
     "output_type": "stream",
     "text": [
      "<class 'pandas.core.frame.DataFrame'>\n",
      "RangeIndex: 7941282 entries, 0 to 7941281\n",
      "Data columns (total 22 columns):\n",
      "ID                      int64\n",
      "Case Number             object\n",
      "Date                    object\n",
      "Block                   object\n",
      "IUCR                    object\n",
      "Primary Type            object\n",
      "Description             object\n",
      "Location Description    object\n",
      "Arrest                  bool\n",
      "Domestic                bool\n",
      "Beat                    int64\n",
      "District                float64\n",
      "Ward                    float64\n",
      "Community Area          float64\n",
      "FBI Code                object\n",
      "X Coordinate            float64\n",
      "Y Coordinate            object\n",
      "Year                    float64\n",
      "Updated On              object\n",
      "Latitude                object\n",
      "Longitude               float64\n",
      "Location                object\n",
      "dtypes: bool(2), float64(6), int64(2), object(12)\n",
      "memory usage: 1.2+ GB\n"
     ]
    }
   ],
   "source": [
    "crime_data.info()"
   ]
  },
  {
   "cell_type": "code",
   "execution_count": 18,
   "metadata": {},
   "outputs": [
    {
     "data": {
      "text/plain": [
       "ID                        int64\n",
       "Case Number              object\n",
       "Date                     object\n",
       "Block                    object\n",
       "IUCR                     object\n",
       "Primary Type             object\n",
       "Description              object\n",
       "Location Description     object\n",
       "Arrest                     bool\n",
       "Domestic                   bool\n",
       "Beat                      int64\n",
       "District                float64\n",
       "Ward                    float64\n",
       "Community Area          float64\n",
       "FBI Code                 object\n",
       "X Coordinate            float64\n",
       "Y Coordinate             object\n",
       "Year                    float64\n",
       "Updated On               object\n",
       "Latitude                 object\n",
       "Longitude               float64\n",
       "Location                 object\n",
       "dtype: object"
      ]
     },
     "execution_count": 18,
     "metadata": {},
     "output_type": "execute_result"
    }
   ],
   "source": [
    "crime_data.dtypes"
   ]
  },
  {
   "cell_type": "markdown",
   "metadata": {},
   "source": [
    "[Go Back](#goback)"
   ]
  },
  {
   "cell_type": "markdown",
   "metadata": {},
   "source": [
    "<a id='hh3'></a>\n",
    "### 3. Data Cleaning"
   ]
  },
  {
   "cell_type": "code",
   "execution_count": 19,
   "metadata": {},
   "outputs": [],
   "source": [
    "columns = ['ID', 'Case Number', 'IUCR', 'Beat', 'Ward', 'FBI Code', 'X Coordinate', 'Y Coordinate', 'Updated On', 'Latitude', 'Longitude', 'Location']"
   ]
  },
  {
   "cell_type": "code",
   "execution_count": 20,
   "metadata": {},
   "outputs": [],
   "source": [
    "crime_data.drop(columns, inplace = True, axis = 1)"
   ]
  },
  {
   "cell_type": "code",
   "execution_count": 21,
   "metadata": {},
   "outputs": [
    {
     "data": {
      "text/plain": [
       "Index(['Date', 'Block', 'Primary Type', 'Description', 'Location Description',\n",
       "       'Arrest', 'Domestic', 'District', 'Community Area', 'Year'],\n",
       "      dtype='object')"
      ]
     },
     "execution_count": 21,
     "metadata": {},
     "output_type": "execute_result"
    }
   ],
   "source": [
    "crime_data.columns"
   ]
  },
  {
   "cell_type": "markdown",
   "metadata": {},
   "source": [
    "And now only 10 columns are remaining."
   ]
  },
  {
   "cell_type": "code",
   "execution_count": 22,
   "metadata": {},
   "outputs": [
    {
     "data": {
      "text/html": [
       "<div>\n",
       "<style scoped>\n",
       "    .dataframe tbody tr th:only-of-type {\n",
       "        vertical-align: middle;\n",
       "    }\n",
       "\n",
       "    .dataframe tbody tr th {\n",
       "        vertical-align: top;\n",
       "    }\n",
       "\n",
       "    .dataframe thead th {\n",
       "        text-align: right;\n",
       "    }\n",
       "</style>\n",
       "<table border=\"1\" class=\"dataframe\">\n",
       "  <thead>\n",
       "    <tr style=\"text-align: right;\">\n",
       "      <th></th>\n",
       "      <th>Date</th>\n",
       "      <th>Block</th>\n",
       "      <th>Primary Type</th>\n",
       "      <th>Description</th>\n",
       "      <th>Location Description</th>\n",
       "      <th>Arrest</th>\n",
       "      <th>Domestic</th>\n",
       "      <th>District</th>\n",
       "      <th>Community Area</th>\n",
       "      <th>Year</th>\n",
       "    </tr>\n",
       "  </thead>\n",
       "  <tbody>\n",
       "    <tr>\n",
       "      <td>0</td>\n",
       "      <td>01/01/2004 12:01:00 AM</td>\n",
       "      <td>082XX S COLES AVE</td>\n",
       "      <td>THEFT</td>\n",
       "      <td>FINANCIAL ID THEFT: OVER $300</td>\n",
       "      <td>RESIDENCE</td>\n",
       "      <td>False</td>\n",
       "      <td>False</td>\n",
       "      <td>4.0</td>\n",
       "      <td>46.0</td>\n",
       "      <td>2004.0</td>\n",
       "    </tr>\n",
       "    <tr>\n",
       "      <td>1</td>\n",
       "      <td>03/01/2003 12:00:00 AM</td>\n",
       "      <td>004XX W 42ND PL</td>\n",
       "      <td>OTHER OFFENSE</td>\n",
       "      <td>HARASSMENT BY TELEPHONE</td>\n",
       "      <td>RESIDENCE</td>\n",
       "      <td>False</td>\n",
       "      <td>True</td>\n",
       "      <td>9.0</td>\n",
       "      <td>61.0</td>\n",
       "      <td>2003.0</td>\n",
       "    </tr>\n",
       "    <tr>\n",
       "      <td>2</td>\n",
       "      <td>06/20/2004 11:00:00 AM</td>\n",
       "      <td>025XX N KIMBALL AVE</td>\n",
       "      <td>OFFENSE INVOLVING CHILDREN</td>\n",
       "      <td>AGG CRIM SEX ABUSE FAM MEMBER</td>\n",
       "      <td>RESIDENCE</td>\n",
       "      <td>False</td>\n",
       "      <td>False</td>\n",
       "      <td>14.0</td>\n",
       "      <td>22.0</td>\n",
       "      <td>2004.0</td>\n",
       "    </tr>\n",
       "    <tr>\n",
       "      <td>3</td>\n",
       "      <td>12/30/2004 08:00:00 PM</td>\n",
       "      <td>045XX W MONTANA ST</td>\n",
       "      <td>THEFT</td>\n",
       "      <td>FINANCIAL ID THEFT: OVER $300</td>\n",
       "      <td>OTHER</td>\n",
       "      <td>False</td>\n",
       "      <td>False</td>\n",
       "      <td>25.0</td>\n",
       "      <td>20.0</td>\n",
       "      <td>2004.0</td>\n",
       "    </tr>\n",
       "    <tr>\n",
       "      <td>4</td>\n",
       "      <td>05/01/2003 01:00:00 AM</td>\n",
       "      <td>111XX S NORMAL AVE</td>\n",
       "      <td>THEFT</td>\n",
       "      <td>FINANCIAL ID THEFT:$300 &amp;UNDER</td>\n",
       "      <td>RESIDENCE</td>\n",
       "      <td>False</td>\n",
       "      <td>False</td>\n",
       "      <td>22.0</td>\n",
       "      <td>49.0</td>\n",
       "      <td>2003.0</td>\n",
       "    </tr>\n",
       "  </tbody>\n",
       "</table>\n",
       "</div>"
      ],
      "text/plain": [
       "                     Date                Block                Primary Type  \\\n",
       "0  01/01/2004 12:01:00 AM    082XX S COLES AVE                       THEFT   \n",
       "1  03/01/2003 12:00:00 AM      004XX W 42ND PL               OTHER OFFENSE   \n",
       "2  06/20/2004 11:00:00 AM  025XX N KIMBALL AVE  OFFENSE INVOLVING CHILDREN   \n",
       "3  12/30/2004 08:00:00 PM   045XX W MONTANA ST                       THEFT   \n",
       "4  05/01/2003 01:00:00 AM   111XX S NORMAL AVE                       THEFT   \n",
       "\n",
       "                      Description Location Description  Arrest  Domestic  \\\n",
       "0   FINANCIAL ID THEFT: OVER $300            RESIDENCE   False     False   \n",
       "1         HARASSMENT BY TELEPHONE            RESIDENCE   False      True   \n",
       "2   AGG CRIM SEX ABUSE FAM MEMBER            RESIDENCE   False     False   \n",
       "3   FINANCIAL ID THEFT: OVER $300                OTHER   False     False   \n",
       "4  FINANCIAL ID THEFT:$300 &UNDER            RESIDENCE   False     False   \n",
       "\n",
       "   District  Community Area    Year  \n",
       "0       4.0            46.0  2004.0  \n",
       "1       9.0            61.0  2003.0  \n",
       "2      14.0            22.0  2004.0  \n",
       "3      25.0            20.0  2004.0  \n",
       "4      22.0            49.0  2003.0  "
      ]
     },
     "execution_count": 22,
     "metadata": {},
     "output_type": "execute_result"
    }
   ],
   "source": [
    "crime_data.head()"
   ]
  },
  {
   "cell_type": "code",
   "execution_count": 23,
   "metadata": {},
   "outputs": [
    {
     "data": {
      "text/html": [
       "<div>\n",
       "<style scoped>\n",
       "    .dataframe tbody tr th:only-of-type {\n",
       "        vertical-align: middle;\n",
       "    }\n",
       "\n",
       "    .dataframe tbody tr th {\n",
       "        vertical-align: top;\n",
       "    }\n",
       "\n",
       "    .dataframe thead th {\n",
       "        text-align: right;\n",
       "    }\n",
       "</style>\n",
       "<table border=\"1\" class=\"dataframe\">\n",
       "  <thead>\n",
       "    <tr style=\"text-align: right;\">\n",
       "      <th></th>\n",
       "      <th>Date</th>\n",
       "      <th>Block</th>\n",
       "      <th>Primary Type</th>\n",
       "      <th>Description</th>\n",
       "      <th>Location Description</th>\n",
       "      <th>Arrest</th>\n",
       "      <th>Domestic</th>\n",
       "      <th>District</th>\n",
       "      <th>Community Area</th>\n",
       "      <th>Year</th>\n",
       "    </tr>\n",
       "  </thead>\n",
       "  <tbody>\n",
       "    <tr>\n",
       "      <td>7941277</td>\n",
       "      <td>05/03/2016 11:33:00 PM</td>\n",
       "      <td>026XX W 23RD PL</td>\n",
       "      <td>BATTERY</td>\n",
       "      <td>DOMESTIC BATTERY SIMPLE</td>\n",
       "      <td>APARTMENT</td>\n",
       "      <td>True</td>\n",
       "      <td>True</td>\n",
       "      <td>10.0</td>\n",
       "      <td>30.0</td>\n",
       "      <td>2016.0</td>\n",
       "    </tr>\n",
       "    <tr>\n",
       "      <td>7941278</td>\n",
       "      <td>05/03/2016 11:30:00 PM</td>\n",
       "      <td>073XX S HARVARD AVE</td>\n",
       "      <td>CRIMINAL DAMAGE</td>\n",
       "      <td>TO PROPERTY</td>\n",
       "      <td>APARTMENT</td>\n",
       "      <td>True</td>\n",
       "      <td>True</td>\n",
       "      <td>7.0</td>\n",
       "      <td>69.0</td>\n",
       "      <td>2016.0</td>\n",
       "    </tr>\n",
       "    <tr>\n",
       "      <td>7941279</td>\n",
       "      <td>05/03/2016 12:15:00 AM</td>\n",
       "      <td>024XX W 63RD ST</td>\n",
       "      <td>BATTERY</td>\n",
       "      <td>AGGRAVATED: HANDGUN</td>\n",
       "      <td>SIDEWALK</td>\n",
       "      <td>False</td>\n",
       "      <td>False</td>\n",
       "      <td>8.0</td>\n",
       "      <td>66.0</td>\n",
       "      <td>2016.0</td>\n",
       "    </tr>\n",
       "    <tr>\n",
       "      <td>7941280</td>\n",
       "      <td>05/03/2016 09:07:00 PM</td>\n",
       "      <td>082XX S EXCHANGE AVE</td>\n",
       "      <td>BATTERY</td>\n",
       "      <td>DOMESTIC BATTERY SIMPLE</td>\n",
       "      <td>SIDEWALK</td>\n",
       "      <td>False</td>\n",
       "      <td>True</td>\n",
       "      <td>4.0</td>\n",
       "      <td>46.0</td>\n",
       "      <td>2016.0</td>\n",
       "    </tr>\n",
       "    <tr>\n",
       "      <td>7941281</td>\n",
       "      <td>05/03/2016 11:38:00 PM</td>\n",
       "      <td>001XX E 75TH ST</td>\n",
       "      <td>OTHER OFFENSE</td>\n",
       "      <td>OTHER WEAPONS VIOLATION</td>\n",
       "      <td>PARKING LOT/GARAGE(NON.RESID.)</td>\n",
       "      <td>True</td>\n",
       "      <td>False</td>\n",
       "      <td>3.0</td>\n",
       "      <td>69.0</td>\n",
       "      <td>2016.0</td>\n",
       "    </tr>\n",
       "  </tbody>\n",
       "</table>\n",
       "</div>"
      ],
      "text/plain": [
       "                           Date                 Block     Primary Type  \\\n",
       "7941277  05/03/2016 11:33:00 PM       026XX W 23RD PL          BATTERY   \n",
       "7941278  05/03/2016 11:30:00 PM   073XX S HARVARD AVE  CRIMINAL DAMAGE   \n",
       "7941279  05/03/2016 12:15:00 AM       024XX W 63RD ST          BATTERY   \n",
       "7941280  05/03/2016 09:07:00 PM  082XX S EXCHANGE AVE          BATTERY   \n",
       "7941281  05/03/2016 11:38:00 PM       001XX E 75TH ST    OTHER OFFENSE   \n",
       "\n",
       "                     Description            Location Description  Arrest  \\\n",
       "7941277  DOMESTIC BATTERY SIMPLE                       APARTMENT    True   \n",
       "7941278              TO PROPERTY                       APARTMENT    True   \n",
       "7941279      AGGRAVATED: HANDGUN                        SIDEWALK   False   \n",
       "7941280  DOMESTIC BATTERY SIMPLE                        SIDEWALK   False   \n",
       "7941281  OTHER WEAPONS VIOLATION  PARKING LOT/GARAGE(NON.RESID.)    True   \n",
       "\n",
       "         Domestic  District  Community Area    Year  \n",
       "7941277      True      10.0            30.0  2016.0  \n",
       "7941278      True       7.0            69.0  2016.0  \n",
       "7941279     False       8.0            66.0  2016.0  \n",
       "7941280      True       4.0            46.0  2016.0  \n",
       "7941281     False       3.0            69.0  2016.0  "
      ]
     },
     "execution_count": 23,
     "metadata": {},
     "output_type": "execute_result"
    }
   ],
   "source": [
    "crime_data.tail()"
   ]
  },
  {
   "cell_type": "code",
   "execution_count": 24,
   "metadata": {},
   "outputs": [],
   "source": [
    "# Handling missing values"
   ]
  },
  {
   "cell_type": "code",
   "execution_count": 25,
   "metadata": {},
   "outputs": [
    {
     "data": {
      "text/plain": [
       "Date                    False\n",
       "Block                   False\n",
       "Primary Type            False\n",
       "Description             False\n",
       "Location Description     True\n",
       "Arrest                  False\n",
       "Domestic                False\n",
       "District                 True\n",
       "Community Area           True\n",
       "Year                    False\n",
       "dtype: bool"
      ]
     },
     "execution_count": 25,
     "metadata": {},
     "output_type": "execute_result"
    }
   ],
   "source": [
    "crime_data.isnull().any() # Observing which of these columns containing missing values"
   ]
  },
  {
   "cell_type": "markdown",
   "metadata": {},
   "source": [
    "\n",
    "\n",
    "\n",
    "\n",
    "\n",
    "\n",
    ".\n",
    "\n",
    "\n",
    "So there are 3 columns that contain missing (Nan) values. They are<br>\n",
    "1- Location Description<br>\n",
    "2- District<br>\n",
    "3- Community Area<br>\n",
    "\n",
    "Now find how many missing values each column contains."
   ]
  },
  {
   "cell_type": "code",
   "execution_count": 26,
   "metadata": {},
   "outputs": [
    {
     "data": {
      "text/plain": [
       "1990"
      ]
     },
     "execution_count": 26,
     "metadata": {},
     "output_type": "execute_result"
    }
   ],
   "source": [
    "crime_data['Location Description'].isnull().values.sum()"
   ]
  },
  {
   "cell_type": "code",
   "execution_count": 27,
   "metadata": {},
   "outputs": [
    {
     "data": {
      "text/plain": [
       "91"
      ]
     },
     "execution_count": 27,
     "metadata": {},
     "output_type": "execute_result"
    }
   ],
   "source": [
    "crime_data['District'].isnull().values.sum()"
   ]
  },
  {
   "cell_type": "code",
   "execution_count": 28,
   "metadata": {},
   "outputs": [
    {
     "data": {
      "text/plain": [
       "702091"
      ]
     },
     "execution_count": 28,
     "metadata": {},
     "output_type": "execute_result"
    }
   ],
   "source": [
    "crime_data['Community Area'].isnull().values.sum()"
   ]
  },
  {
   "cell_type": "markdown",
   "metadata": {},
   "source": [
    "The columns <b>'Location Description'</b> & <b>'District'</b> contains small number of Nan values, where as the column name 'Community Area' contains large number of missing values. So for 1st and 2nd columns, we delete entire rows that containg missing values."
   ]
  },
  {
   "cell_type": "code",
   "execution_count": 29,
   "metadata": {},
   "outputs": [],
   "source": [
    "crime_data['Year'] = crime_data['Year'].astype(int) # convert year into int dtype"
   ]
  },
  {
   "cell_type": "code",
   "execution_count": 30,
   "metadata": {},
   "outputs": [
    {
     "data": {
      "text/plain": [
       "2008    852053\n",
       "2006    794684\n",
       "2009    783900\n",
       "2010    700691\n",
       "2007    621848\n",
       "2001    568517\n",
       "2002    490879\n",
       "2003    475913\n",
       "2005    455811\n",
       "2004    388205\n",
       "2011    352066\n",
       "2012    335670\n",
       "2013    306703\n",
       "2014    274527\n",
       "2016    265462\n",
       "2015    262995\n",
       "2017     11357\n",
       "41           1\n",
       "Name: Year, dtype: int64"
      ]
     },
     "execution_count": 30,
     "metadata": {},
     "output_type": "execute_result"
    }
   ],
   "source": [
    "crime_data['Year'].value_counts()"
   ]
  },
  {
   "cell_type": "code",
   "execution_count": 31,
   "metadata": {},
   "outputs": [
    {
     "data": {
      "text/plain": [
       "Year\n",
       "41           1\n",
       "2001    568517\n",
       "2002    490879\n",
       "2003    475913\n",
       "2004    388205\n",
       "2005    455811\n",
       "2006    794684\n",
       "2007    621848\n",
       "2008    852053\n",
       "2009    783900\n",
       "2010    700691\n",
       "2011    352066\n",
       "2012    335670\n",
       "2013    306703\n",
       "2014    274527\n",
       "2015    262995\n",
       "2016    265462\n",
       "2017     11357\n",
       "Name: Primary Type, dtype: int64"
      ]
     },
     "execution_count": 31,
     "metadata": {},
     "output_type": "execute_result"
    }
   ],
   "source": [
    "crime_data.groupby('Year')['Primary Type'].count()"
   ]
  },
  {
   "cell_type": "code",
   "execution_count": 32,
   "metadata": {},
   "outputs": [
    {
     "data": {
      "text/plain": [
       "Int64Index([1602847], dtype='int64')"
      ]
     },
     "execution_count": 32,
     "metadata": {},
     "output_type": "execute_result"
    }
   ],
   "source": [
    "d = crime_data[crime_data['Year'] == 41].index\n",
    "d"
   ]
  },
  {
   "cell_type": "markdown",
   "metadata": {},
   "source": [
    "Drop the entire raw in which year is 41."
   ]
  },
  {
   "cell_type": "code",
   "execution_count": 33,
   "metadata": {},
   "outputs": [],
   "source": [
    "crime_data.drop(d, inplace = True)"
   ]
  },
  {
   "cell_type": "code",
   "execution_count": 34,
   "metadata": {},
   "outputs": [],
   "source": [
    "crime_data.reset_index(inplace=True)"
   ]
  },
  {
   "cell_type": "markdown",
   "metadata": {},
   "source": [
    "[Go Back](#goback)"
   ]
  },
  {
   "cell_type": "markdown",
   "metadata": {},
   "source": [
    "## EDA"
   ]
  },
  {
   "cell_type": "markdown",
   "metadata": {},
   "source": [
    "<a id='h1'></a>\n",
    "##### 1. Create a data frame that shows the total number of crimes reported in each year. "
   ]
  },
  {
   "cell_type": "code",
   "execution_count": 35,
   "metadata": {},
   "outputs": [
    {
     "data": {
      "text/plain": [
       "Year\n",
       "2001    568517\n",
       "2002    490879\n",
       "2003    475913\n",
       "2004    388205\n",
       "2005    455811\n",
       "2006    794684\n",
       "2007    621848\n",
       "2008    852053\n",
       "2009    783900\n",
       "2010    700691\n",
       "2011    352066\n",
       "2012    335670\n",
       "2013    306703\n",
       "2014    274527\n",
       "2015    262995\n",
       "2016    265462\n",
       "2017     11357\n",
       "Name: Primary Type, dtype: int64"
      ]
     },
     "execution_count": 35,
     "metadata": {},
     "output_type": "execute_result"
    }
   ],
   "source": [
    "total_crimes_in_every_year = crime_data.groupby('Year')['Primary Type'].count()\n",
    "total_crimes_in_every_year "
   ]
  },
  {
   "cell_type": "code",
   "execution_count": 36,
   "metadata": {},
   "outputs": [
    {
     "data": {
      "text/html": [
       "<div>\n",
       "<style scoped>\n",
       "    .dataframe tbody tr th:only-of-type {\n",
       "        vertical-align: middle;\n",
       "    }\n",
       "\n",
       "    .dataframe tbody tr th {\n",
       "        vertical-align: top;\n",
       "    }\n",
       "\n",
       "    .dataframe thead th {\n",
       "        text-align: right;\n",
       "    }\n",
       "</style>\n",
       "<table border=\"1\" class=\"dataframe\">\n",
       "  <thead>\n",
       "    <tr style=\"text-align: right;\">\n",
       "      <th></th>\n",
       "      <th>Primary Type</th>\n",
       "    </tr>\n",
       "    <tr>\n",
       "      <th>Year</th>\n",
       "      <th></th>\n",
       "    </tr>\n",
       "  </thead>\n",
       "  <tbody>\n",
       "    <tr>\n",
       "      <td>2001</td>\n",
       "      <td>568517</td>\n",
       "    </tr>\n",
       "    <tr>\n",
       "      <td>2002</td>\n",
       "      <td>490879</td>\n",
       "    </tr>\n",
       "    <tr>\n",
       "      <td>2003</td>\n",
       "      <td>475913</td>\n",
       "    </tr>\n",
       "    <tr>\n",
       "      <td>2004</td>\n",
       "      <td>388205</td>\n",
       "    </tr>\n",
       "    <tr>\n",
       "      <td>2005</td>\n",
       "      <td>455811</td>\n",
       "    </tr>\n",
       "    <tr>\n",
       "      <td>2006</td>\n",
       "      <td>794684</td>\n",
       "    </tr>\n",
       "    <tr>\n",
       "      <td>2007</td>\n",
       "      <td>621848</td>\n",
       "    </tr>\n",
       "    <tr>\n",
       "      <td>2008</td>\n",
       "      <td>852053</td>\n",
       "    </tr>\n",
       "    <tr>\n",
       "      <td>2009</td>\n",
       "      <td>783900</td>\n",
       "    </tr>\n",
       "    <tr>\n",
       "      <td>2010</td>\n",
       "      <td>700691</td>\n",
       "    </tr>\n",
       "    <tr>\n",
       "      <td>2011</td>\n",
       "      <td>352066</td>\n",
       "    </tr>\n",
       "    <tr>\n",
       "      <td>2012</td>\n",
       "      <td>335670</td>\n",
       "    </tr>\n",
       "    <tr>\n",
       "      <td>2013</td>\n",
       "      <td>306703</td>\n",
       "    </tr>\n",
       "    <tr>\n",
       "      <td>2014</td>\n",
       "      <td>274527</td>\n",
       "    </tr>\n",
       "    <tr>\n",
       "      <td>2015</td>\n",
       "      <td>262995</td>\n",
       "    </tr>\n",
       "    <tr>\n",
       "      <td>2016</td>\n",
       "      <td>265462</td>\n",
       "    </tr>\n",
       "    <tr>\n",
       "      <td>2017</td>\n",
       "      <td>11357</td>\n",
       "    </tr>\n",
       "  </tbody>\n",
       "</table>\n",
       "</div>"
      ],
      "text/plain": [
       "      Primary Type\n",
       "Year              \n",
       "2001        568517\n",
       "2002        490879\n",
       "2003        475913\n",
       "2004        388205\n",
       "2005        455811\n",
       "2006        794684\n",
       "2007        621848\n",
       "2008        852053\n",
       "2009        783900\n",
       "2010        700691\n",
       "2011        352066\n",
       "2012        335670\n",
       "2013        306703\n",
       "2014        274527\n",
       "2015        262995\n",
       "2016        265462\n",
       "2017         11357"
      ]
     },
     "execution_count": 36,
     "metadata": {},
     "output_type": "execute_result"
    }
   ],
   "source": [
    "total_crimes_in_every_year = total_crimes_in_every_year.to_frame()\n",
    "total_crimes_in_every_year"
   ]
  },
  {
   "cell_type": "code",
   "execution_count": 37,
   "metadata": {},
   "outputs": [],
   "source": [
    "total_crimes_in_every_year.rename(columns = {\"Primary Type\": \"Total Crimes\"}, inplace = True) \n",
    "total_crimes_in_every_year.reset_index(inplace = True)"
   ]
  },
  {
   "cell_type": "code",
   "execution_count": 38,
   "metadata": {},
   "outputs": [
    {
     "data": {
      "text/html": [
       "<div>\n",
       "<style scoped>\n",
       "    .dataframe tbody tr th:only-of-type {\n",
       "        vertical-align: middle;\n",
       "    }\n",
       "\n",
       "    .dataframe tbody tr th {\n",
       "        vertical-align: top;\n",
       "    }\n",
       "\n",
       "    .dataframe thead th {\n",
       "        text-align: right;\n",
       "    }\n",
       "</style>\n",
       "<table border=\"1\" class=\"dataframe\">\n",
       "  <thead>\n",
       "    <tr style=\"text-align: right;\">\n",
       "      <th></th>\n",
       "      <th>Year</th>\n",
       "      <th>Total Crimes</th>\n",
       "    </tr>\n",
       "  </thead>\n",
       "  <tbody>\n",
       "    <tr>\n",
       "      <td>0</td>\n",
       "      <td>2001</td>\n",
       "      <td>568517</td>\n",
       "    </tr>\n",
       "    <tr>\n",
       "      <td>1</td>\n",
       "      <td>2002</td>\n",
       "      <td>490879</td>\n",
       "    </tr>\n",
       "    <tr>\n",
       "      <td>2</td>\n",
       "      <td>2003</td>\n",
       "      <td>475913</td>\n",
       "    </tr>\n",
       "    <tr>\n",
       "      <td>3</td>\n",
       "      <td>2004</td>\n",
       "      <td>388205</td>\n",
       "    </tr>\n",
       "    <tr>\n",
       "      <td>4</td>\n",
       "      <td>2005</td>\n",
       "      <td>455811</td>\n",
       "    </tr>\n",
       "    <tr>\n",
       "      <td>5</td>\n",
       "      <td>2006</td>\n",
       "      <td>794684</td>\n",
       "    </tr>\n",
       "    <tr>\n",
       "      <td>6</td>\n",
       "      <td>2007</td>\n",
       "      <td>621848</td>\n",
       "    </tr>\n",
       "    <tr>\n",
       "      <td>7</td>\n",
       "      <td>2008</td>\n",
       "      <td>852053</td>\n",
       "    </tr>\n",
       "    <tr>\n",
       "      <td>8</td>\n",
       "      <td>2009</td>\n",
       "      <td>783900</td>\n",
       "    </tr>\n",
       "    <tr>\n",
       "      <td>9</td>\n",
       "      <td>2010</td>\n",
       "      <td>700691</td>\n",
       "    </tr>\n",
       "    <tr>\n",
       "      <td>10</td>\n",
       "      <td>2011</td>\n",
       "      <td>352066</td>\n",
       "    </tr>\n",
       "    <tr>\n",
       "      <td>11</td>\n",
       "      <td>2012</td>\n",
       "      <td>335670</td>\n",
       "    </tr>\n",
       "    <tr>\n",
       "      <td>12</td>\n",
       "      <td>2013</td>\n",
       "      <td>306703</td>\n",
       "    </tr>\n",
       "    <tr>\n",
       "      <td>13</td>\n",
       "      <td>2014</td>\n",
       "      <td>274527</td>\n",
       "    </tr>\n",
       "    <tr>\n",
       "      <td>14</td>\n",
       "      <td>2015</td>\n",
       "      <td>262995</td>\n",
       "    </tr>\n",
       "    <tr>\n",
       "      <td>15</td>\n",
       "      <td>2016</td>\n",
       "      <td>265462</td>\n",
       "    </tr>\n",
       "    <tr>\n",
       "      <td>16</td>\n",
       "      <td>2017</td>\n",
       "      <td>11357</td>\n",
       "    </tr>\n",
       "  </tbody>\n",
       "</table>\n",
       "</div>"
      ],
      "text/plain": [
       "    Year  Total Crimes\n",
       "0   2001        568517\n",
       "1   2002        490879\n",
       "2   2003        475913\n",
       "3   2004        388205\n",
       "4   2005        455811\n",
       "5   2006        794684\n",
       "6   2007        621848\n",
       "7   2008        852053\n",
       "8   2009        783900\n",
       "9   2010        700691\n",
       "10  2011        352066\n",
       "11  2012        335670\n",
       "12  2013        306703\n",
       "13  2014        274527\n",
       "14  2015        262995\n",
       "15  2016        265462\n",
       "16  2017         11357"
      ]
     },
     "execution_count": 38,
     "metadata": {},
     "output_type": "execute_result"
    }
   ],
   "source": [
    "total_crimes_in_every_year"
   ]
  },
  {
   "cell_type": "code",
   "execution_count": 39,
   "metadata": {},
   "outputs": [
    {
     "data": {
      "text/plain": [
       "7941281"
      ]
     },
     "execution_count": 39,
     "metadata": {},
     "output_type": "execute_result"
    }
   ],
   "source": [
    "total_crimes_in_every_year['Total Crimes'].sum()"
   ]
  },
  {
   "cell_type": "markdown",
   "metadata": {},
   "source": [
    "Since data contains 7941281 rows and here the sum is also 7941281, so the above data frame is correct."
   ]
  },
  {
   "cell_type": "code",
   "execution_count": 40,
   "metadata": {},
   "outputs": [
    {
     "name": "stdout",
     "output_type": "stream",
     "text": [
      "2008\n",
      "852053\n"
     ]
    }
   ],
   "source": [
    "n = total_crimes_in_every_year['Total Crimes'].idxmax()\n",
    "year = total_crimes_in_every_year.iloc[n][0]\n",
    "number_of_crimes = total_crimes_in_every_year.iloc[n][1]\n",
    "print(year)\n",
    "print(number_of_crimes)"
   ]
  },
  {
   "cell_type": "markdown",
   "metadata": {},
   "source": [
    "[Go Back](#goback)"
   ]
  },
  {
   "cell_type": "markdown",
   "metadata": {},
   "source": [
    "<a id='h2'></a>\n",
    "##### 2. Make a line and bar charts that show the total number of crimes reported in each year."
   ]
  },
  {
   "cell_type": "markdown",
   "metadata": {},
   "source": [
    "### Line Chart"
   ]
  },
  {
   "cell_type": "code",
   "execution_count": 42,
   "metadata": {},
   "outputs": [
    {
     "data": {
      "image/png": "[encoded data removed]",
      "text/plain": [
       "<Figure size 1152x720 with 1 Axes>"
      ]
     },
     "metadata": {
      "needs_background": "light"
     },
     "output_type": "display_data"
    }
   ],
   "source": [
    "import matplotlib.pyplot as plt\n",
    "year = total_crimes_in_every_year['Year']\n",
    "total_crimes = total_crimes_in_every_year['Total Crimes']\n",
    "plt.figure(figsize=(16,10))\n",
    "plt.plot(year, total_crimes, marker = 'o', label = 'Total Crimes')\n",
    "plt.title(\"Line Chart: Year V/S Number of Crimes\")\n",
    "plt.xlabel(\"Year\")\n",
    "plt.ylabel(\"Total Crimes\")\n",
    "plt.axis([2000, 2018, 0, 900000])\n",
    "plt.annotate('At this point crimes were at peak',\n",
    "xy=(2008, 852053), xytext=(2010, 852053), arrowprops=dict(facecolor='black',\n",
    "shrink=0.05))\n",
    "plt.grid()\n",
    "plt.show()"
   ]
  },
  {
   "cell_type": "markdown",
   "metadata": {},
   "source": [
    "### Bar Chart"
   ]
  },
  {
   "cell_type": "code",
   "execution_count": 43,
   "metadata": {},
   "outputs": [
    {
     "ename": "AttributeError",
     "evalue": "module 'matplotlib.dates' has no attribute 'YearlyLocator'",
     "output_type": "error",
     "traceback": [
      "\u001b[1;31m---------------------------------------------------------------------------\u001b[0m",
      "\u001b[1;31mAttributeError\u001b[0m                            Traceback (most recent call last)",
      "\u001b[1;32m<ipython-input-43-2b157d23a8ed>\u001b[0m in \u001b[0;36m<module>\u001b[1;34m\u001b[0m\n\u001b[0;32m     10\u001b[0m \u001b[1;33m\u001b[0m\u001b[0m\n\u001b[0;32m     11\u001b[0m \u001b[1;31m#set ticks every year\u001b[0m\u001b[1;33m\u001b[0m\u001b[1;33m\u001b[0m\u001b[1;33m\u001b[0m\u001b[0m\n\u001b[1;32m---> 12\u001b[1;33m \u001b[0max\u001b[0m\u001b[1;33m.\u001b[0m\u001b[0mxaxis\u001b[0m\u001b[1;33m.\u001b[0m\u001b[0mset_major_locator\u001b[0m\u001b[1;33m(\u001b[0m\u001b[0mmdates\u001b[0m\u001b[1;33m.\u001b[0m\u001b[0mYearlyLocator\u001b[0m\u001b[1;33m(\u001b[0m\u001b[1;33m)\u001b[0m\u001b[1;33m)\u001b[0m\u001b[1;33m\u001b[0m\u001b[1;33m\u001b[0m\u001b[0m\n\u001b[0m\u001b[0;32m     13\u001b[0m \u001b[1;31m#set major ticks format\u001b[0m\u001b[1;33m\u001b[0m\u001b[1;33m\u001b[0m\u001b[1;33m\u001b[0m\u001b[0m\n\u001b[0;32m     14\u001b[0m \u001b[0max\u001b[0m\u001b[1;33m.\u001b[0m\u001b[0mxaxis\u001b[0m\u001b[1;33m.\u001b[0m\u001b[0mset_major_formatter\u001b[0m\u001b[1;33m(\u001b[0m\u001b[0mmdates\u001b[0m\u001b[1;33m.\u001b[0m\u001b[0mDateFormatter\u001b[0m\u001b[1;33m(\u001b[0m\u001b[1;34m'%b %d'\u001b[0m\u001b[1;33m)\u001b[0m\u001b[1;33m)\u001b[0m\u001b[1;33m\u001b[0m\u001b[1;33m\u001b[0m\u001b[0m\n",
      "\u001b[1;31mAttributeError\u001b[0m: module 'matplotlib.dates' has no attribute 'YearlyLocator'"
     ]
    },
    {
     "data": {
      "image/png": "[encoded data removed]",
      "text/plain": [
       "<Figure size 1080x504 with 1 Axes>"
      ]
     },
     "metadata": {
      "needs_background": "light"
     },
     "output_type": "display_data"
    }
   ],
   "source": [
    "import matplotlib.dates as mdates\n",
    "%matplotlib inline\n",
    "\n",
    "#set date as index\n",
    "d = total_crimes_in_every_year.set_index('Year')\n",
    "\n",
    "#plot data\n",
    "fig, ax = plt.subplots(figsize=(15,7))\n",
    "d.plot(kind='bar', ax=ax)\n",
    "\n",
    "#set ticks every year\n",
    "ax.xaxis.set_major_locator(mdates.YearlyLocator())\n",
    "#set major ticks format\n",
    "ax.xaxis.set_major_formatter(mdates.DateFormatter('%b %d'))"
   ]
  },
  {
   "cell_type": "markdown",
   "metadata": {},
   "source": [
    "From the above graph we can clearly see that crime rate go down after 2008."
   ]
  },
  {
   "cell_type": "markdown",
   "metadata": {},
   "source": [
    "[Go Back](#goback)"
   ]
  },
  {
   "cell_type": "markdown",
   "metadata": {},
   "source": [
    "<a id='h3'></a>\n",
    "##### 3. Find the year in which the maximum number of crimes are reported."
   ]
  },
  {
   "cell_type": "code",
   "execution_count": 45,
   "metadata": {},
   "outputs": [
    {
     "name": "stdout",
     "output_type": "stream",
     "text": [
      "852053\n",
      "2008\n"
     ]
    }
   ],
   "source": [
    "# max no.of crimes with year\n",
    "highest_no_of_crimes = total_crimes_in_every_year['Total Crimes'].max()\n",
    "year_highest_no_of_crimes = total_crimes_in_every_year['Year'][total_crimes_in_every_year['Total Crimes'].idxmax()]\n",
    "print(highest_no_of_crimes)\n",
    "print(year_highest_no_of_crimes)"
   ]
  },
  {
   "cell_type": "markdown",
   "metadata": {},
   "source": [
    "[Go Back](#goback)"
   ]
  },
  {
   "cell_type": "markdown",
   "metadata": {},
   "source": [
    "<a id='h4'></a>\n",
    "##### 4. Find the year in which the minimum number of crimes are reported."
   ]
  },
  {
   "cell_type": "code",
   "execution_count": 46,
   "metadata": {},
   "outputs": [
    {
     "name": "stdout",
     "output_type": "stream",
     "text": [
      "11357\n",
      "2017\n"
     ]
    }
   ],
   "source": [
    "# min no.of crimes with year\n",
    "lowest_no_of_crimes = total_crimes_in_every_year['Total Crimes'].min()\n",
    "year_lowest_no_of_crimes = total_crimes_in_every_year['Year'][total_crimes_in_every_year['Total Crimes'].idxmin()]\n",
    "print(lowest_no_of_crimes)\n",
    "print(year_lowest_no_of_crimes)"
   ]
  },
  {
   "cell_type": "markdown",
   "metadata": {},
   "source": [
    "[Go Back](#goback)"
   ]
  },
  {
   "cell_type": "markdown",
   "metadata": {},
   "source": [
    "<a id='h5'></a>\n",
    "##### 5. Find how many unique crimes recorded from 2001 to 2017 and what they are."
   ]
  },
  {
   "cell_type": "code",
   "execution_count": 47,
   "metadata": {},
   "outputs": [
    {
     "name": "stdout",
     "output_type": "stream",
     "text": [
      "There are 35 unique primary types of crime that are given below\n"
     ]
    },
    {
     "data": {
      "text/plain": [
       "THEFT                                1640506\n",
       "BATTERY                              1442716\n",
       "CRIMINAL DAMAGE                       922999\n",
       "NARCOTICS                             885431\n",
       "OTHER OFFENSE                         491922\n",
       "ASSAULT                               481661\n",
       "BURGLARY                              470958\n",
       "MOTOR VEHICLE THEFT                   370548\n",
       "ROBBERY                               300453\n",
       "DECEPTIVE PRACTICE                    280931\n",
       "CRIMINAL TRESPASS                     229366\n",
       "PROSTITUTION                           86401\n",
       "WEAPONS VIOLATION                      77429\n",
       "PUBLIC PEACE VIOLATION                 58548\n",
       "OFFENSE INVOLVING CHILDREN             51441\n",
       "CRIM SEXUAL ASSAULT                    29868\n",
       "SEX OFFENSE                            28707\n",
       "GAMBLING                               18806\n",
       "LIQUOR LAW VIOLATION                   17513\n",
       "INTERFERENCE WITH PUBLIC OFFICER       15710\n",
       "ARSON                                  13097\n",
       "HOMICIDE                                9051\n",
       "KIDNAPPING                              7756\n",
       "INTIMIDATION                            4636\n",
       "STALKING                                3734\n",
       "OBSCENITY                                496\n",
       "PUBLIC INDECENCY                         163\n",
       "OTHER NARCOTIC VIOLATION                 144\n",
       "NON-CRIMINAL                              97\n",
       "CONCEALED CARRY LICENSE VIOLATION         90\n",
       "NON - CRIMINAL                            38\n",
       "RITUALISM                                 31\n",
       "HUMAN TRAFFICKING                         28\n",
       "NON-CRIMINAL (SUBJECT SPECIFIED)           4\n",
       "DOMESTIC VIOLENCE                          2\n",
       "Name: Primary Type, dtype: int64"
      ]
     },
     "execution_count": 47,
     "metadata": {},
     "output_type": "execute_result"
    }
   ],
   "source": [
    "print('There are '+str(crime_data['Primary Type'].value_counts().count())+' unique primary types of crime that are given below')\n",
    "crime_data['Primary Type'].value_counts()"
   ]
  },
  {
   "cell_type": "code",
   "execution_count": 48,
   "metadata": {},
   "outputs": [
    {
     "data": {
      "text/plain": [
       "Index(['index', 'Date', 'Block', 'Primary Type', 'Description',\n",
       "       'Location Description', 'Arrest', 'Domestic', 'District',\n",
       "       'Community Area', 'Year'],\n",
       "      dtype='object')"
      ]
     },
     "execution_count": 48,
     "metadata": {},
     "output_type": "execute_result"
    }
   ],
   "source": [
    "crime_data.columns"
   ]
  },
  {
   "cell_type": "code",
   "execution_count": 49,
   "metadata": {},
   "outputs": [
    {
     "data": {
      "text/plain": [
       "376"
      ]
     },
     "execution_count": 49,
     "metadata": {},
     "output_type": "execute_result"
    }
   ],
   "source": [
    "crime_data['Description'].value_counts().count()"
   ]
  },
  {
   "cell_type": "markdown",
   "metadata": {},
   "source": [
    "[Go Back](#goback)"
   ]
  },
  {
   "cell_type": "markdown",
   "metadata": {},
   "source": [
    "<a id='h6'></a>\n",
    "##### 6. How many Thefts (crime) and what are their different types of recorded with their count?"
   ]
  },
  {
   "cell_type": "code",
   "execution_count": 50,
   "metadata": {},
   "outputs": [
    {
     "data": {
      "text/plain": [
       "$500 AND UNDER                      611161\n",
       "OVER $500                           412497\n",
       "FROM BUILDING                       270438\n",
       "RETAIL THEFT                        188945\n",
       "FINANCIAL ID THEFT: OVER $300        57810\n",
       "POCKET-PICKING                       36532\n",
       "PURSE-SNATCHING                      19868\n",
       "FINANCIAL ID THEFT:$300 &UNDER       19590\n",
       "ATTEMPT THEFT                        13243\n",
       "ATTEMPT FINANCIAL IDENTITY THEFT      4067\n",
       "AGG: FINANCIAL ID THEFT               3954\n",
       "FROM COIN-OP MACHINE/DEVICE           1364\n",
       "DELIVERY CONTAINER THEFT              1001\n",
       "$300 AND UNDER                          19\n",
       "OVER $300                               16\n",
       "THEFT RETAIL                             1\n",
       "Name: Description, dtype: int64"
      ]
     },
     "execution_count": 50,
     "metadata": {},
     "output_type": "execute_result"
    }
   ],
   "source": [
    "crime_data[crime_data['Primary Type'] == 'THEFT']['Description'].value_counts()"
   ]
  },
  {
   "cell_type": "markdown",
   "metadata": {},
   "source": [
    "[Go Back](#goback)"
   ]
  },
  {
   "cell_type": "markdown",
   "metadata": {},
   "source": [
    "<a id='h7'></a>\n",
    "##### 7. Find for one primary type how many descriptions are there in the table."
   ]
  },
  {
   "cell_type": "code",
   "execution_count": 51,
   "metadata": {},
   "outputs": [
    {
     "data": {
      "text/plain": [
       "Primary Type       Description                                \n",
       "ARSON              BY FIRE                                        8469\n",
       "                   ATTEMPT ARSON                                  2181\n",
       "                   AGGRAVATED                                     2165\n",
       "                   BY EXPLOSIVE                                    120\n",
       "                   POS: EXPLOSIVE/INCENDIARY DEV                   103\n",
       "                                                                  ... \n",
       "WEAPONS VIOLATION  UNLAWFUL SALE/DELIVERY OF FIREARM AT SCHOOL     199\n",
       "                   UNLAWFUL SALE OTHER FIREARM                     126\n",
       "                   DEFACE IDENT MARKS OF FIREARM                    40\n",
       "                   REGISTER OF SALES BY DEALER                       8\n",
       "                   USE OF METAL PIERCING BULLETS                     4\n",
       "Name: Description, Length: 401, dtype: int64"
      ]
     },
     "execution_count": 51,
     "metadata": {},
     "output_type": "execute_result"
    }
   ],
   "source": [
    "# for one primary type how many descriptions are there\n",
    "crime_data.groupby('Primary Type')['Description'].value_counts()"
   ]
  },
  {
   "cell_type": "markdown",
   "metadata": {},
   "source": [
    "[Go Back](#goback)"
   ]
  },
  {
   "cell_type": "markdown",
   "metadata": {},
   "source": [
    "<a id='h8'></a>\n",
    "##### 8. Find the total number of arrests are done."
   ]
  },
  {
   "cell_type": "code",
   "execution_count": 52,
   "metadata": {},
   "outputs": [
    {
     "name": "stdout",
     "output_type": "stream",
     "text": [
      "Total No.of arrests are 2249419\n"
     ]
    }
   ],
   "source": [
    "# total number of arrests are done\n",
    "total_arrests = sum(crime_data['Arrest'] == True)\n",
    "print('Total No.of arrests are '+str(total_arrests))"
   ]
  },
  {
   "cell_type": "markdown",
   "metadata": {},
   "source": [
    "[Go Back](#goback)"
   ]
  },
  {
   "cell_type": "markdown",
   "metadata": {},
   "source": [
    "<a id='h9'></a>\n",
    "##### 9. Create a data frame that shows the number of arrests each year."
   ]
  },
  {
   "cell_type": "code",
   "execution_count": 53,
   "metadata": {},
   "outputs": [
    {
     "data": {
      "text/html": [
       "<div>\n",
       "<style scoped>\n",
       "    .dataframe tbody tr th:only-of-type {\n",
       "        vertical-align: middle;\n",
       "    }\n",
       "\n",
       "    .dataframe tbody tr th {\n",
       "        vertical-align: top;\n",
       "    }\n",
       "\n",
       "    .dataframe thead th {\n",
       "        text-align: right;\n",
       "    }\n",
       "</style>\n",
       "<table border=\"1\" class=\"dataframe\">\n",
       "  <thead>\n",
       "    <tr style=\"text-align: right;\">\n",
       "      <th></th>\n",
       "      <th>Arrest</th>\n",
       "    </tr>\n",
       "    <tr>\n",
       "      <th>Year</th>\n",
       "      <th></th>\n",
       "    </tr>\n",
       "  </thead>\n",
       "  <tbody>\n",
       "    <tr>\n",
       "      <td>2001</td>\n",
       "      <td>167889</td>\n",
       "    </tr>\n",
       "    <tr>\n",
       "      <td>2002</td>\n",
       "      <td>142805</td>\n",
       "    </tr>\n",
       "    <tr>\n",
       "      <td>2003</td>\n",
       "      <td>141499</td>\n",
       "    </tr>\n",
       "    <tr>\n",
       "      <td>2004</td>\n",
       "      <td>116681</td>\n",
       "    </tr>\n",
       "    <tr>\n",
       "      <td>2005</td>\n",
       "      <td>141159</td>\n",
       "    </tr>\n",
       "    <tr>\n",
       "      <td>2006</td>\n",
       "      <td>243781</td>\n",
       "    </tr>\n",
       "    <tr>\n",
       "      <td>2007</td>\n",
       "      <td>190131</td>\n",
       "    </tr>\n",
       "    <tr>\n",
       "      <td>2008</td>\n",
       "      <td>219222</td>\n",
       "    </tr>\n",
       "    <tr>\n",
       "      <td>2009</td>\n",
       "      <td>221052</td>\n",
       "    </tr>\n",
       "    <tr>\n",
       "      <td>2010</td>\n",
       "      <td>191503</td>\n",
       "    </tr>\n",
       "    <tr>\n",
       "      <td>2011</td>\n",
       "      <td>96225</td>\n",
       "    </tr>\n",
       "    <tr>\n",
       "      <td>2012</td>\n",
       "      <td>90511</td>\n",
       "    </tr>\n",
       "    <tr>\n",
       "      <td>2013</td>\n",
       "      <td>86219</td>\n",
       "    </tr>\n",
       "    <tr>\n",
       "      <td>2014</td>\n",
       "      <td>79057</td>\n",
       "    </tr>\n",
       "    <tr>\n",
       "      <td>2015</td>\n",
       "      <td>69397</td>\n",
       "    </tr>\n",
       "    <tr>\n",
       "      <td>2016</td>\n",
       "      <td>50386</td>\n",
       "    </tr>\n",
       "    <tr>\n",
       "      <td>2017</td>\n",
       "      <td>1902</td>\n",
       "    </tr>\n",
       "  </tbody>\n",
       "</table>\n",
       "</div>"
      ],
      "text/plain": [
       "      Arrest\n",
       "Year        \n",
       "2001  167889\n",
       "2002  142805\n",
       "2003  141499\n",
       "2004  116681\n",
       "2005  141159\n",
       "2006  243781\n",
       "2007  190131\n",
       "2008  219222\n",
       "2009  221052\n",
       "2010  191503\n",
       "2011   96225\n",
       "2012   90511\n",
       "2013   86219\n",
       "2014   79057\n",
       "2015   69397\n",
       "2016   50386\n",
       "2017    1902"
      ]
     },
     "execution_count": 53,
     "metadata": {},
     "output_type": "execute_result"
    }
   ],
   "source": [
    "# arrest in every year\n",
    "arrest_data = crime_data[crime_data['Arrest'] == True]\n",
    "total_arrest_in_every_year = arrest_data.groupby('Year')['Arrest'].count()\n",
    "total_arrest_in_every_year = total_arrest_in_every_year.to_frame()\n",
    "total_arrest_in_every_year"
   ]
  },
  {
   "cell_type": "code",
   "execution_count": 54,
   "metadata": {},
   "outputs": [],
   "source": [
    "total_arrest_in_every_year.reset_index(inplace = True)"
   ]
  },
  {
   "cell_type": "code",
   "execution_count": 55,
   "metadata": {},
   "outputs": [
    {
     "data": {
      "text/html": [
       "<div>\n",
       "<style scoped>\n",
       "    .dataframe tbody tr th:only-of-type {\n",
       "        vertical-align: middle;\n",
       "    }\n",
       "\n",
       "    .dataframe tbody tr th {\n",
       "        vertical-align: top;\n",
       "    }\n",
       "\n",
       "    .dataframe thead th {\n",
       "        text-align: right;\n",
       "    }\n",
       "</style>\n",
       "<table border=\"1\" class=\"dataframe\">\n",
       "  <thead>\n",
       "    <tr style=\"text-align: right;\">\n",
       "      <th></th>\n",
       "      <th>Year</th>\n",
       "      <th>Arrest</th>\n",
       "    </tr>\n",
       "  </thead>\n",
       "  <tbody>\n",
       "    <tr>\n",
       "      <td>0</td>\n",
       "      <td>2001</td>\n",
       "      <td>167889</td>\n",
       "    </tr>\n",
       "    <tr>\n",
       "      <td>1</td>\n",
       "      <td>2002</td>\n",
       "      <td>142805</td>\n",
       "    </tr>\n",
       "    <tr>\n",
       "      <td>2</td>\n",
       "      <td>2003</td>\n",
       "      <td>141499</td>\n",
       "    </tr>\n",
       "    <tr>\n",
       "      <td>3</td>\n",
       "      <td>2004</td>\n",
       "      <td>116681</td>\n",
       "    </tr>\n",
       "    <tr>\n",
       "      <td>4</td>\n",
       "      <td>2005</td>\n",
       "      <td>141159</td>\n",
       "    </tr>\n",
       "    <tr>\n",
       "      <td>5</td>\n",
       "      <td>2006</td>\n",
       "      <td>243781</td>\n",
       "    </tr>\n",
       "    <tr>\n",
       "      <td>6</td>\n",
       "      <td>2007</td>\n",
       "      <td>190131</td>\n",
       "    </tr>\n",
       "    <tr>\n",
       "      <td>7</td>\n",
       "      <td>2008</td>\n",
       "      <td>219222</td>\n",
       "    </tr>\n",
       "    <tr>\n",
       "      <td>8</td>\n",
       "      <td>2009</td>\n",
       "      <td>221052</td>\n",
       "    </tr>\n",
       "    <tr>\n",
       "      <td>9</td>\n",
       "      <td>2010</td>\n",
       "      <td>191503</td>\n",
       "    </tr>\n",
       "    <tr>\n",
       "      <td>10</td>\n",
       "      <td>2011</td>\n",
       "      <td>96225</td>\n",
       "    </tr>\n",
       "    <tr>\n",
       "      <td>11</td>\n",
       "      <td>2012</td>\n",
       "      <td>90511</td>\n",
       "    </tr>\n",
       "    <tr>\n",
       "      <td>12</td>\n",
       "      <td>2013</td>\n",
       "      <td>86219</td>\n",
       "    </tr>\n",
       "    <tr>\n",
       "      <td>13</td>\n",
       "      <td>2014</td>\n",
       "      <td>79057</td>\n",
       "    </tr>\n",
       "    <tr>\n",
       "      <td>14</td>\n",
       "      <td>2015</td>\n",
       "      <td>69397</td>\n",
       "    </tr>\n",
       "    <tr>\n",
       "      <td>15</td>\n",
       "      <td>2016</td>\n",
       "      <td>50386</td>\n",
       "    </tr>\n",
       "    <tr>\n",
       "      <td>16</td>\n",
       "      <td>2017</td>\n",
       "      <td>1902</td>\n",
       "    </tr>\n",
       "  </tbody>\n",
       "</table>\n",
       "</div>"
      ],
      "text/plain": [
       "    Year  Arrest\n",
       "0   2001  167889\n",
       "1   2002  142805\n",
       "2   2003  141499\n",
       "3   2004  116681\n",
       "4   2005  141159\n",
       "5   2006  243781\n",
       "6   2007  190131\n",
       "7   2008  219222\n",
       "8   2009  221052\n",
       "9   2010  191503\n",
       "10  2011   96225\n",
       "11  2012   90511\n",
       "12  2013   86219\n",
       "13  2014   79057\n",
       "14  2015   69397\n",
       "15  2016   50386\n",
       "16  2017    1902"
      ]
     },
     "execution_count": 55,
     "metadata": {},
     "output_type": "execute_result"
    }
   ],
   "source": [
    "total_arrest_in_every_year"
   ]
  },
  {
   "cell_type": "markdown",
   "metadata": {},
   "source": [
    "[Go Back](#goback)"
   ]
  },
  {
   "cell_type": "markdown",
   "metadata": {},
   "source": [
    "<a id='h10'></a>\n",
    "##### 10. Find how much unique crime location is recorded from 2001 to 2017 and what they are. Show them with their count."
   ]
  },
  {
   "cell_type": "code",
   "execution_count": 56,
   "metadata": {},
   "outputs": [
    {
     "name": "stdout",
     "output_type": "stream",
     "text": [
      "There are 172 unique primary types of location that are given below\n"
     ]
    },
    {
     "data": {
      "text/plain": [
       "STREET                   2101842\n",
       "RESIDENCE                1341749\n",
       "SIDEWALK                  815595\n",
       "APARTMENT                 812512\n",
       "OTHER                     294286\n",
       "                          ...   \n",
       "ROOMING HOUSE                  1\n",
       "LAGOON                         1\n",
       "PUBLIC GRAMMAR SCHOOL          1\n",
       "CLEANERS/LAUNDROMAT            1\n",
       "EXPRESSWAY EMBANKMENT          1\n",
       "Name: Location Description, Length: 172, dtype: int64"
      ]
     },
     "execution_count": 56,
     "metadata": {},
     "output_type": "execute_result"
    }
   ],
   "source": [
    "print('There are '+str(crime_data['Location Description'].value_counts().count())+' unique primary types of location that are given below')\n",
    "crime_data['Location Description'].value_counts()"
   ]
  },
  {
   "cell_type": "markdown",
   "metadata": {},
   "source": [
    "[Go Back](#goback)"
   ]
  },
  {
   "cell_type": "markdown",
   "metadata": {},
   "source": [
    "<a id='h11'></a>\n",
    "##### 11. Find the number of districts in which crime recorded and also show them with their count."
   ]
  },
  {
   "cell_type": "code",
   "execution_count": 57,
   "metadata": {},
   "outputs": [
    {
     "name": "stdout",
     "output_type": "stream",
     "text": [
      "There are 26 unique primary types of districts that are given below\n"
     ]
    },
    {
     "data": {
      "text/plain": [
       "8.0     550011\n",
       "11.0    498775\n",
       "7.0     476524\n",
       "25.0    463938\n",
       "6.0     457669\n",
       "4.0     453894\n",
       "3.0     407866\n",
       "9.0     397942\n",
       "12.0    386274\n",
       "2.0     378296\n",
       "5.0     354567\n",
       "15.0    352585\n",
       "19.0    351537\n",
       "18.0    337197\n",
       "10.0    335491\n",
       "14.0    314642\n",
       "1.0     291073\n",
       "16.0    263442\n",
       "22.0    263055\n",
       "24.0    237983\n",
       "17.0    230955\n",
       "20.0    137310\n",
       "31.0       158\n",
       "21.0         4\n",
       "13.0         1\n",
       "23.0         1\n",
       "Name: District, dtype: int64"
      ]
     },
     "execution_count": 57,
     "metadata": {},
     "output_type": "execute_result"
    }
   ],
   "source": [
    "print('There are '+str(crime_data['District'].value_counts().count())+' unique primary types of districts that are given below')\n",
    "crime_data['District'].value_counts()"
   ]
  },
  {
   "cell_type": "markdown",
   "metadata": {},
   "source": [
    "[Go Back](#goback)"
   ]
  },
  {
   "cell_type": "markdown",
   "metadata": {},
   "source": [
    "<a id='h12'></a>\n",
    "##### 12. Make a summary of everything related to crime like total crimes, total arrests, total unique crime types, etc. Also, make a data frame to show that summary.\n"
   ]
  },
  {
   "cell_type": "code",
   "execution_count": 58,
   "metadata": {},
   "outputs": [],
   "source": [
    "total_blocks = crime_data['Block'].value_counts().count()\n",
    "total_types = crime_data['Primary Type'].value_counts().count()\n",
    "total_locations = crime_data['Location Description'].value_counts().count()\n",
    "total_districts = crime_data['District'].value_counts().count()\n",
    "total_community_areas = crime_data['Community Area'].value_counts().count()\n",
    "total_domestic_crimes = sum(crime_data['Domestic'] == True)"
   ]
  },
  {
   "cell_type": "code",
   "execution_count": 59,
   "metadata": {},
   "outputs": [
    {
     "name": "stdout",
     "output_type": "stream",
     "text": [
      "['Total Crimes', 'Total Arrests', 'Total Blocks', 'Total Crime Types', 'Total Locations', 'Total Districts', 'Total Community Areas', 'Total Domestic Crimes']\n",
      "[7941281, 2249419, 58776, 35, 172, 26, 78, 1019451]\n"
     ]
    }
   ],
   "source": [
    "# Now we make daframe that gives total of every thing\n",
    "raw_names = ['Total Crimes', 'Total Arrests', 'Total Blocks', 'Total Crime Types', 'Total Locations', 'Total Districts', 'Total Community Areas', 'Total Domestic Crimes']\n",
    "values = [total_crimes, total_arrests, total_blocks, total_types, total_locations, total_districts, total_community_areas, total_domestic_crimes]\n",
    "print(raw_names)\n",
    "print(values)"
   ]
  },
  {
   "cell_type": "code",
   "execution_count": 60,
   "metadata": {},
   "outputs": [
    {
     "data": {
      "text/html": [
       "<div>\n",
       "<style scoped>\n",
       "    .dataframe tbody tr th:only-of-type {\n",
       "        vertical-align: middle;\n",
       "    }\n",
       "\n",
       "    .dataframe tbody tr th {\n",
       "        vertical-align: top;\n",
       "    }\n",
       "\n",
       "    .dataframe thead th {\n",
       "        text-align: right;\n",
       "    }\n",
       "</style>\n",
       "<table border=\"1\" class=\"dataframe\">\n",
       "  <thead>\n",
       "    <tr style=\"text-align: right;\">\n",
       "      <th></th>\n",
       "      <th>Name</th>\n",
       "      <th>Count</th>\n",
       "    </tr>\n",
       "  </thead>\n",
       "  <tbody>\n",
       "    <tr>\n",
       "      <td>0</td>\n",
       "      <td>Total Crimes</td>\n",
       "      <td>7941281</td>\n",
       "    </tr>\n",
       "    <tr>\n",
       "      <td>1</td>\n",
       "      <td>Total Arrests</td>\n",
       "      <td>2249419</td>\n",
       "    </tr>\n",
       "    <tr>\n",
       "      <td>2</td>\n",
       "      <td>Total Blocks</td>\n",
       "      <td>58776</td>\n",
       "    </tr>\n",
       "    <tr>\n",
       "      <td>3</td>\n",
       "      <td>Total Crime Types</td>\n",
       "      <td>35</td>\n",
       "    </tr>\n",
       "    <tr>\n",
       "      <td>4</td>\n",
       "      <td>Total Locations</td>\n",
       "      <td>172</td>\n",
       "    </tr>\n",
       "    <tr>\n",
       "      <td>5</td>\n",
       "      <td>Total Districts</td>\n",
       "      <td>26</td>\n",
       "    </tr>\n",
       "    <tr>\n",
       "      <td>6</td>\n",
       "      <td>Total Community Areas</td>\n",
       "      <td>78</td>\n",
       "    </tr>\n",
       "    <tr>\n",
       "      <td>7</td>\n",
       "      <td>Total Domestic Crimes</td>\n",
       "      <td>1019451</td>\n",
       "    </tr>\n",
       "  </tbody>\n",
       "</table>\n",
       "</div>"
      ],
      "text/plain": [
       "                    Name    Count\n",
       "0           Total Crimes  7941281\n",
       "1          Total Arrests  2249419\n",
       "2           Total Blocks    58776\n",
       "3      Total Crime Types       35\n",
       "4        Total Locations      172\n",
       "5        Total Districts       26\n",
       "6  Total Community Areas       78\n",
       "7  Total Domestic Crimes  1019451"
      ]
     },
     "execution_count": 60,
     "metadata": {},
     "output_type": "execute_result"
    }
   ],
   "source": [
    "total = pd.DataFrame({'Name': raw_names,\n",
    "                     'Count': values})\n",
    "total"
   ]
  },
  {
   "cell_type": "markdown",
   "metadata": {},
   "source": [
    "[Go Back](#goback)"
   ]
  },
  {
   "cell_type": "markdown",
   "metadata": {},
   "source": [
    "<a id='h13'></a>\n",
    "##### 13. Create a data frame that shows the summary of unique crimes committed with their count."
   ]
  },
  {
   "cell_type": "code",
   "execution_count": 61,
   "metadata": {},
   "outputs": [
    {
     "data": {
      "text/html": [
       "<div>\n",
       "<style scoped>\n",
       "    .dataframe tbody tr th:only-of-type {\n",
       "        vertical-align: middle;\n",
       "    }\n",
       "\n",
       "    .dataframe tbody tr th {\n",
       "        vertical-align: top;\n",
       "    }\n",
       "\n",
       "    .dataframe thead th {\n",
       "        text-align: right;\n",
       "    }\n",
       "</style>\n",
       "<table border=\"1\" class=\"dataframe\">\n",
       "  <thead>\n",
       "    <tr style=\"text-align: right;\">\n",
       "      <th></th>\n",
       "      <th>Crime Category</th>\n",
       "      <th>Count</th>\n",
       "    </tr>\n",
       "  </thead>\n",
       "  <tbody>\n",
       "    <tr>\n",
       "      <td>0</td>\n",
       "      <td>THEFT</td>\n",
       "      <td>1640506</td>\n",
       "    </tr>\n",
       "    <tr>\n",
       "      <td>1</td>\n",
       "      <td>BATTERY</td>\n",
       "      <td>1442716</td>\n",
       "    </tr>\n",
       "    <tr>\n",
       "      <td>2</td>\n",
       "      <td>CRIMINAL DAMAGE</td>\n",
       "      <td>922999</td>\n",
       "    </tr>\n",
       "    <tr>\n",
       "      <td>3</td>\n",
       "      <td>NARCOTICS</td>\n",
       "      <td>885431</td>\n",
       "    </tr>\n",
       "    <tr>\n",
       "      <td>4</td>\n",
       "      <td>OTHER OFFENSE</td>\n",
       "      <td>491922</td>\n",
       "    </tr>\n",
       "    <tr>\n",
       "      <td>5</td>\n",
       "      <td>ASSAULT</td>\n",
       "      <td>481661</td>\n",
       "    </tr>\n",
       "    <tr>\n",
       "      <td>6</td>\n",
       "      <td>BURGLARY</td>\n",
       "      <td>470958</td>\n",
       "    </tr>\n",
       "    <tr>\n",
       "      <td>7</td>\n",
       "      <td>MOTOR VEHICLE THEFT</td>\n",
       "      <td>370548</td>\n",
       "    </tr>\n",
       "    <tr>\n",
       "      <td>8</td>\n",
       "      <td>ROBBERY</td>\n",
       "      <td>300453</td>\n",
       "    </tr>\n",
       "    <tr>\n",
       "      <td>9</td>\n",
       "      <td>DECEPTIVE PRACTICE</td>\n",
       "      <td>280931</td>\n",
       "    </tr>\n",
       "    <tr>\n",
       "      <td>10</td>\n",
       "      <td>CRIMINAL TRESPASS</td>\n",
       "      <td>229366</td>\n",
       "    </tr>\n",
       "    <tr>\n",
       "      <td>11</td>\n",
       "      <td>PROSTITUTION</td>\n",
       "      <td>86401</td>\n",
       "    </tr>\n",
       "    <tr>\n",
       "      <td>12</td>\n",
       "      <td>WEAPONS VIOLATION</td>\n",
       "      <td>77429</td>\n",
       "    </tr>\n",
       "    <tr>\n",
       "      <td>13</td>\n",
       "      <td>PUBLIC PEACE VIOLATION</td>\n",
       "      <td>58548</td>\n",
       "    </tr>\n",
       "    <tr>\n",
       "      <td>14</td>\n",
       "      <td>OFFENSE INVOLVING CHILDREN</td>\n",
       "      <td>51441</td>\n",
       "    </tr>\n",
       "    <tr>\n",
       "      <td>15</td>\n",
       "      <td>CRIM SEXUAL ASSAULT</td>\n",
       "      <td>29868</td>\n",
       "    </tr>\n",
       "    <tr>\n",
       "      <td>16</td>\n",
       "      <td>SEX OFFENSE</td>\n",
       "      <td>28707</td>\n",
       "    </tr>\n",
       "    <tr>\n",
       "      <td>17</td>\n",
       "      <td>GAMBLING</td>\n",
       "      <td>18806</td>\n",
       "    </tr>\n",
       "    <tr>\n",
       "      <td>18</td>\n",
       "      <td>LIQUOR LAW VIOLATION</td>\n",
       "      <td>17513</td>\n",
       "    </tr>\n",
       "    <tr>\n",
       "      <td>19</td>\n",
       "      <td>INTERFERENCE WITH PUBLIC OFFICER</td>\n",
       "      <td>15710</td>\n",
       "    </tr>\n",
       "    <tr>\n",
       "      <td>20</td>\n",
       "      <td>ARSON</td>\n",
       "      <td>13097</td>\n",
       "    </tr>\n",
       "    <tr>\n",
       "      <td>21</td>\n",
       "      <td>HOMICIDE</td>\n",
       "      <td>9051</td>\n",
       "    </tr>\n",
       "    <tr>\n",
       "      <td>22</td>\n",
       "      <td>KIDNAPPING</td>\n",
       "      <td>7756</td>\n",
       "    </tr>\n",
       "    <tr>\n",
       "      <td>23</td>\n",
       "      <td>INTIMIDATION</td>\n",
       "      <td>4636</td>\n",
       "    </tr>\n",
       "    <tr>\n",
       "      <td>24</td>\n",
       "      <td>STALKING</td>\n",
       "      <td>3734</td>\n",
       "    </tr>\n",
       "    <tr>\n",
       "      <td>25</td>\n",
       "      <td>OBSCENITY</td>\n",
       "      <td>496</td>\n",
       "    </tr>\n",
       "    <tr>\n",
       "      <td>26</td>\n",
       "      <td>PUBLIC INDECENCY</td>\n",
       "      <td>163</td>\n",
       "    </tr>\n",
       "    <tr>\n",
       "      <td>27</td>\n",
       "      <td>OTHER NARCOTIC VIOLATION</td>\n",
       "      <td>144</td>\n",
       "    </tr>\n",
       "    <tr>\n",
       "      <td>28</td>\n",
       "      <td>NON-CRIMINAL</td>\n",
       "      <td>97</td>\n",
       "    </tr>\n",
       "    <tr>\n",
       "      <td>29</td>\n",
       "      <td>CONCEALED CARRY LICENSE VIOLATION</td>\n",
       "      <td>90</td>\n",
       "    </tr>\n",
       "    <tr>\n",
       "      <td>30</td>\n",
       "      <td>NON - CRIMINAL</td>\n",
       "      <td>38</td>\n",
       "    </tr>\n",
       "    <tr>\n",
       "      <td>31</td>\n",
       "      <td>RITUALISM</td>\n",
       "      <td>31</td>\n",
       "    </tr>\n",
       "    <tr>\n",
       "      <td>32</td>\n",
       "      <td>HUMAN TRAFFICKING</td>\n",
       "      <td>28</td>\n",
       "    </tr>\n",
       "    <tr>\n",
       "      <td>33</td>\n",
       "      <td>NON-CRIMINAL (SUBJECT SPECIFIED)</td>\n",
       "      <td>4</td>\n",
       "    </tr>\n",
       "    <tr>\n",
       "      <td>34</td>\n",
       "      <td>DOMESTIC VIOLENCE</td>\n",
       "      <td>2</td>\n",
       "    </tr>\n",
       "  </tbody>\n",
       "</table>\n",
       "</div>"
      ],
      "text/plain": [
       "                       Crime Category    Count\n",
       "0                               THEFT  1640506\n",
       "1                             BATTERY  1442716\n",
       "2                     CRIMINAL DAMAGE   922999\n",
       "3                           NARCOTICS   885431\n",
       "4                       OTHER OFFENSE   491922\n",
       "5                             ASSAULT   481661\n",
       "6                            BURGLARY   470958\n",
       "7                 MOTOR VEHICLE THEFT   370548\n",
       "8                             ROBBERY   300453\n",
       "9                  DECEPTIVE PRACTICE   280931\n",
       "10                  CRIMINAL TRESPASS   229366\n",
       "11                       PROSTITUTION    86401\n",
       "12                  WEAPONS VIOLATION    77429\n",
       "13             PUBLIC PEACE VIOLATION    58548\n",
       "14         OFFENSE INVOLVING CHILDREN    51441\n",
       "15                CRIM SEXUAL ASSAULT    29868\n",
       "16                        SEX OFFENSE    28707\n",
       "17                           GAMBLING    18806\n",
       "18               LIQUOR LAW VIOLATION    17513\n",
       "19   INTERFERENCE WITH PUBLIC OFFICER    15710\n",
       "20                              ARSON    13097\n",
       "21                           HOMICIDE     9051\n",
       "22                         KIDNAPPING     7756\n",
       "23                       INTIMIDATION     4636\n",
       "24                           STALKING     3734\n",
       "25                          OBSCENITY      496\n",
       "26                   PUBLIC INDECENCY      163\n",
       "27           OTHER NARCOTIC VIOLATION      144\n",
       "28                       NON-CRIMINAL       97\n",
       "29  CONCEALED CARRY LICENSE VIOLATION       90\n",
       "30                     NON - CRIMINAL       38\n",
       "31                          RITUALISM       31\n",
       "32                  HUMAN TRAFFICKING       28\n",
       "33   NON-CRIMINAL (SUBJECT SPECIFIED)        4\n",
       "34                  DOMESTIC VIOLENCE        2"
      ]
     },
     "execution_count": 61,
     "metadata": {},
     "output_type": "execute_result"
    }
   ],
   "source": [
    "total_crimes_of_a_crime_type = crime_data['Primary Type'].value_counts().to_frame()\n",
    "total_crimes_of_a_crime_type.reset_index(inplace = True)\n",
    "total_crimes_of_a_crime_type.columns = ['Crime Category', 'Count']\n",
    "total_crimes_of_a_crime_type"
   ]
  },
  {
   "cell_type": "markdown",
   "metadata": {},
   "source": [
    "[Go Back](#goback)"
   ]
  },
  {
   "cell_type": "markdown",
   "metadata": {},
   "source": [
    "<a id='h14'></a>\n",
    "##### 14. Make a data frame that shows the complete summary of each crime type."
   ]
  },
  {
   "cell_type": "code",
   "execution_count": 62,
   "metadata": {},
   "outputs": [
    {
     "name": "stderr",
     "output_type": "stream",
     "text": [
      "C:\\Users\\d store\\Anaconda3\\lib\\site-packages\\ipykernel_launcher.py:5: UserWarning: Pandas doesn't allow columns to be created via a new attribute name - see https://pandas.pydata.org/pandas-docs/stable/indexing.html#attribute-access\n",
      "  \"\"\"\n"
     ]
    },
    {
     "data": {
      "text/html": [
       "<div>\n",
       "<style scoped>\n",
       "    .dataframe tbody tr th:only-of-type {\n",
       "        vertical-align: middle;\n",
       "    }\n",
       "\n",
       "    .dataframe tbody tr th {\n",
       "        vertical-align: top;\n",
       "    }\n",
       "\n",
       "    .dataframe thead th {\n",
       "        text-align: right;\n",
       "    }\n",
       "</style>\n",
       "<table border=\"1\" class=\"dataframe\">\n",
       "  <thead>\n",
       "    <tr style=\"text-align: right;\">\n",
       "      <th></th>\n",
       "      <th></th>\n",
       "      <th>Description</th>\n",
       "    </tr>\n",
       "    <tr>\n",
       "      <th>Primary Type</th>\n",
       "      <th>Description</th>\n",
       "      <th></th>\n",
       "    </tr>\n",
       "  </thead>\n",
       "  <tbody>\n",
       "    <tr>\n",
       "      <td rowspan=\"5\" valign=\"top\">ARSON</td>\n",
       "      <td>BY FIRE</td>\n",
       "      <td>8469</td>\n",
       "    </tr>\n",
       "    <tr>\n",
       "      <td>ATTEMPT ARSON</td>\n",
       "      <td>2181</td>\n",
       "    </tr>\n",
       "    <tr>\n",
       "      <td>AGGRAVATED</td>\n",
       "      <td>2165</td>\n",
       "    </tr>\n",
       "    <tr>\n",
       "      <td>BY EXPLOSIVE</td>\n",
       "      <td>120</td>\n",
       "    </tr>\n",
       "    <tr>\n",
       "      <td>POS: EXPLOSIVE/INCENDIARY DEV</td>\n",
       "      <td>103</td>\n",
       "    </tr>\n",
       "    <tr>\n",
       "      <td>...</td>\n",
       "      <td>...</td>\n",
       "      <td>...</td>\n",
       "    </tr>\n",
       "    <tr>\n",
       "      <td rowspan=\"5\" valign=\"top\">WEAPONS VIOLATION</td>\n",
       "      <td>UNLAWFUL SALE/DELIVERY OF FIREARM AT SCHOOL</td>\n",
       "      <td>199</td>\n",
       "    </tr>\n",
       "    <tr>\n",
       "      <td>UNLAWFUL SALE OTHER FIREARM</td>\n",
       "      <td>126</td>\n",
       "    </tr>\n",
       "    <tr>\n",
       "      <td>DEFACE IDENT MARKS OF FIREARM</td>\n",
       "      <td>40</td>\n",
       "    </tr>\n",
       "    <tr>\n",
       "      <td>REGISTER OF SALES BY DEALER</td>\n",
       "      <td>8</td>\n",
       "    </tr>\n",
       "    <tr>\n",
       "      <td>USE OF METAL PIERCING BULLETS</td>\n",
       "      <td>4</td>\n",
       "    </tr>\n",
       "  </tbody>\n",
       "</table>\n",
       "<p>401 rows × 1 columns</p>\n",
       "</div>"
      ],
      "text/plain": [
       "                                                               Description\n",
       "Primary Type      Description                                             \n",
       "ARSON             BY FIRE                                             8469\n",
       "                  ATTEMPT ARSON                                       2181\n",
       "                  AGGRAVATED                                          2165\n",
       "                  BY EXPLOSIVE                                         120\n",
       "                  POS: EXPLOSIVE/INCENDIARY DEV                        103\n",
       "...                                                                    ...\n",
       "WEAPONS VIOLATION UNLAWFUL SALE/DELIVERY OF FIREARM AT SCHOOL          199\n",
       "                  UNLAWFUL SALE OTHER FIREARM                          126\n",
       "                  DEFACE IDENT MARKS OF FIREARM                         40\n",
       "                  REGISTER OF SALES BY DEALER                            8\n",
       "                  USE OF METAL PIERCING BULLETS                          4\n",
       "\n",
       "[401 rows x 1 columns]"
      ]
     },
     "execution_count": 62,
     "metadata": {},
     "output_type": "execute_result"
    }
   ],
   "source": [
    "sub_crimes = crime_data.groupby('Primary Type')['Description'].value_counts().to_frame()\n",
    "#sub_crimes.reset_index(inplace = True)\n",
    "sub_crimes.rename_columns = [{'Primary Type': 'Crime Category',\n",
    "                             'Description': 'Sub Category',\n",
    "                             'Description': 'Count'}]\n",
    "sub_crimes"
   ]
  },
  {
   "cell_type": "markdown",
   "metadata": {},
   "source": [
    "[Go Back](#goback)"
   ]
  },
  {
   "cell_type": "markdown",
   "metadata": {},
   "source": [
    "<a id='h15'></a>\n",
    "##### 15. Make a pie chart to show the proportion of each unique crime reported in all crimes."
   ]
  },
  {
   "cell_type": "code",
   "execution_count": 64,
   "metadata": {},
   "outputs": [
    {
     "data": {
      "image/png": "[encoded data removed]",
      "text/plain": [
       "<Figure size 1152x720 with 1 Axes>"
      ]
     },
     "metadata": {},
     "output_type": "display_data"
    }
   ],
   "source": [
    "import numpy as np\n",
    "import matplotlib.pyplot as plt\n",
    "count = total_crimes_of_a_crime_type['Count']\n",
    "labels = total_crimes_of_a_crime_type['Crime Category']\n",
    "explode = np.full((35), 0.1)\n",
    "plt.figure(figsize=(16,10))\n",
    "#plt.pie(sizes, labels=labels, autopct='%1.0f%%', pctdistance=1.1, labeldistance=1.2)\n",
    "plt.pie(count, labels = labels, autopct='%1.1f%%',explode=explode, shadow = 'black')\n",
    "\n",
    "plt.show() "
   ]
  },
  {
   "cell_type": "markdown",
   "metadata": {},
   "source": [
    "[Go Back](#goback)"
   ]
  },
  {
   "cell_type": "markdown",
   "metadata": {},
   "source": [
    "<a id='h16'></a>\n",
    "##### 16. Make a bar chart to show the proportion of each unique crime reported in all crimes."
   ]
  },
  {
   "cell_type": "code",
   "execution_count": 82,
   "metadata": {},
   "outputs": [
    {
     "data": {
      "image/png": "[encoded data removed]",
      "text/plain": [
       "<Figure size 1152x720 with 1 Axes>"
      ]
     },
     "metadata": {
      "needs_background": "light"
     },
     "output_type": "display_data"
    }
   ],
   "source": [
    "import numpy as np\n",
    "import matplotlib.pyplot as plt\n",
    "count = total_crimes_of_a_crime_type['Count']\n",
    "labels = total_crimes_of_a_crime_type['Crime Category']\n",
    "plt.figure(figsize=(16,10))\n",
    "plt.barh(labels, count, color = 'g')\n",
    "\n",
    "plt.show() "
   ]
  },
  {
   "cell_type": "markdown",
   "metadata": {},
   "source": [
    "[Go Back](#goback)"
   ]
  },
  {
   "cell_type": "markdown",
   "metadata": {},
   "source": [
    "<a id='h17'></a>\n",
    "##### 17. Make a donut chart to show the proportion of each unique crime reported in all crimes."
   ]
  },
  {
   "cell_type": "code",
   "execution_count": 83,
   "metadata": {},
   "outputs": [
    {
     "ename": "NameError",
     "evalue": "name 'ax1' is not defined",
     "output_type": "error",
     "traceback": [
      "\u001b[1;31m---------------------------------------------------------------------------\u001b[0m",
      "\u001b[1;31mNameError\u001b[0m                                 Traceback (most recent call last)",
      "\u001b[1;32m<ipython-input-83-6f54f2f2a7aa>\u001b[0m in \u001b[0;36m<module>\u001b[1;34m\u001b[0m\n\u001b[0;32m     13\u001b[0m \u001b[0mfig\u001b[0m\u001b[1;33m.\u001b[0m\u001b[0mgca\u001b[0m\u001b[1;33m(\u001b[0m\u001b[1;33m)\u001b[0m\u001b[1;33m.\u001b[0m\u001b[0madd_artist\u001b[0m\u001b[1;33m(\u001b[0m\u001b[0mcentre_circle\u001b[0m\u001b[1;33m)\u001b[0m\u001b[1;33m\u001b[0m\u001b[1;33m\u001b[0m\u001b[0m\n\u001b[0;32m     14\u001b[0m \u001b[1;31m# Equal aspect ratio ensures that pie is drawn as a circle\u001b[0m\u001b[1;33m\u001b[0m\u001b[1;33m\u001b[0m\u001b[1;33m\u001b[0m\u001b[0m\n\u001b[1;32m---> 15\u001b[1;33m \u001b[0max1\u001b[0m\u001b[1;33m.\u001b[0m\u001b[0maxis\u001b[0m\u001b[1;33m(\u001b[0m\u001b[1;34m'equal'\u001b[0m\u001b[1;33m)\u001b[0m\u001b[1;33m\u001b[0m\u001b[1;33m\u001b[0m\u001b[0m\n\u001b[0m\u001b[0;32m     16\u001b[0m \u001b[0mplt\u001b[0m\u001b[1;33m.\u001b[0m\u001b[0mtight_layout\u001b[0m\u001b[1;33m(\u001b[0m\u001b[1;33m)\u001b[0m\u001b[1;33m\u001b[0m\u001b[1;33m\u001b[0m\u001b[0m\n\u001b[0;32m     17\u001b[0m \u001b[0mplt\u001b[0m\u001b[1;33m.\u001b[0m\u001b[0mshow\u001b[0m\u001b[1;33m(\u001b[0m\u001b[1;33m)\u001b[0m\u001b[1;33m\u001b[0m\u001b[1;33m\u001b[0m\u001b[0m\n",
      "\u001b[1;31mNameError\u001b[0m: name 'ax1' is not defined"
     ]
    },
    {
     "data": {
      "image/png": "[encoded data removed]",
      "text/plain": [
       "<Figure size 1152x720 with 1 Axes>"
      ]
     },
     "metadata": {},
     "output_type": "display_data"
    }
   ],
   "source": [
    "# Donut Chart\n",
    "count = total_crimes_of_a_crime_type['Count']\n",
    "labels = total_crimes_of_a_crime_type['Crime Category']\n",
    "#colors\n",
    "#explsion\n",
    "explode = np.full((35), 0.1)\n",
    "plt.figure(figsize=(16,10)) \n",
    "plt.pie(count, labels=labels, autopct='%1.1f%%', startangle=90, pctdistance=0.85, explode = explode)\n",
    "#draw circle\n",
    "centre_circle = plt.Circle((0,0),0.70,fc='white')\n",
    "fig = plt.gcf()\n",
    "#fig1, ax1 = plt.subplots()\n",
    "fig.gca().add_artist(centre_circle)\n",
    "# Equal aspect ratio ensures that pie is drawn as a circle\n",
    "ax1.axis('equal')  \n",
    "plt.tight_layout()\n",
    "plt.show()"
   ]
  },
  {
   "cell_type": "markdown",
   "metadata": {},
   "source": [
    "[Go Back](#goback)"
   ]
  },
  {
   "cell_type": "markdown",
   "metadata": {},
   "source": [
    "<a id='h18'></a>\n",
    "##### 18. Make a data frame and show all types of crime in that data frame according to their percentages then make its pie and bar charts."
   ]
  },
  {
   "cell_type": "code",
   "execution_count": 84,
   "metadata": {},
   "outputs": [],
   "source": [
    "total_crimes_of_a_crime_type['percentage'] = round((total_crimes_of_a_crime_type['Count']/7941281) * 100, 1)"
   ]
  },
  {
   "cell_type": "code",
   "execution_count": 85,
   "metadata": {},
   "outputs": [
    {
     "data": {
      "text/plain": [
       "100.0"
      ]
     },
     "execution_count": 85,
     "metadata": {},
     "output_type": "execute_result"
    }
   ],
   "source": [
    "total_crimes_of_a_crime_type['percentage'].sum()"
   ]
  },
  {
   "cell_type": "code",
   "execution_count": 86,
   "metadata": {},
   "outputs": [
    {
     "data": {
      "text/html": [
       "<div>\n",
       "<style scoped>\n",
       "    .dataframe tbody tr th:only-of-type {\n",
       "        vertical-align: middle;\n",
       "    }\n",
       "\n",
       "    .dataframe tbody tr th {\n",
       "        vertical-align: top;\n",
       "    }\n",
       "\n",
       "    .dataframe thead th {\n",
       "        text-align: right;\n",
       "    }\n",
       "</style>\n",
       "<table border=\"1\" class=\"dataframe\">\n",
       "  <thead>\n",
       "    <tr style=\"text-align: right;\">\n",
       "      <th></th>\n",
       "      <th>Crime Category</th>\n",
       "      <th>Count</th>\n",
       "      <th>percentage</th>\n",
       "    </tr>\n",
       "  </thead>\n",
       "  <tbody>\n",
       "    <tr>\n",
       "      <td>0</td>\n",
       "      <td>THEFT</td>\n",
       "      <td>1640506</td>\n",
       "      <td>20.7</td>\n",
       "    </tr>\n",
       "    <tr>\n",
       "      <td>1</td>\n",
       "      <td>BATTERY</td>\n",
       "      <td>1442716</td>\n",
       "      <td>18.2</td>\n",
       "    </tr>\n",
       "    <tr>\n",
       "      <td>2</td>\n",
       "      <td>CRIMINAL DAMAGE</td>\n",
       "      <td>922999</td>\n",
       "      <td>11.6</td>\n",
       "    </tr>\n",
       "    <tr>\n",
       "      <td>3</td>\n",
       "      <td>NARCOTICS</td>\n",
       "      <td>885431</td>\n",
       "      <td>11.1</td>\n",
       "    </tr>\n",
       "    <tr>\n",
       "      <td>4</td>\n",
       "      <td>OTHER OFFENSE</td>\n",
       "      <td>491922</td>\n",
       "      <td>6.2</td>\n",
       "    </tr>\n",
       "    <tr>\n",
       "      <td>5</td>\n",
       "      <td>ASSAULT</td>\n",
       "      <td>481661</td>\n",
       "      <td>6.1</td>\n",
       "    </tr>\n",
       "    <tr>\n",
       "      <td>6</td>\n",
       "      <td>BURGLARY</td>\n",
       "      <td>470958</td>\n",
       "      <td>5.9</td>\n",
       "    </tr>\n",
       "    <tr>\n",
       "      <td>7</td>\n",
       "      <td>MOTOR VEHICLE THEFT</td>\n",
       "      <td>370548</td>\n",
       "      <td>4.7</td>\n",
       "    </tr>\n",
       "    <tr>\n",
       "      <td>8</td>\n",
       "      <td>ROBBERY</td>\n",
       "      <td>300453</td>\n",
       "      <td>3.8</td>\n",
       "    </tr>\n",
       "    <tr>\n",
       "      <td>9</td>\n",
       "      <td>DECEPTIVE PRACTICE</td>\n",
       "      <td>280931</td>\n",
       "      <td>3.5</td>\n",
       "    </tr>\n",
       "    <tr>\n",
       "      <td>10</td>\n",
       "      <td>CRIMINAL TRESPASS</td>\n",
       "      <td>229366</td>\n",
       "      <td>2.9</td>\n",
       "    </tr>\n",
       "    <tr>\n",
       "      <td>11</td>\n",
       "      <td>PROSTITUTION</td>\n",
       "      <td>86401</td>\n",
       "      <td>1.1</td>\n",
       "    </tr>\n",
       "    <tr>\n",
       "      <td>12</td>\n",
       "      <td>WEAPONS VIOLATION</td>\n",
       "      <td>77429</td>\n",
       "      <td>1.0</td>\n",
       "    </tr>\n",
       "    <tr>\n",
       "      <td>13</td>\n",
       "      <td>PUBLIC PEACE VIOLATION</td>\n",
       "      <td>58548</td>\n",
       "      <td>0.7</td>\n",
       "    </tr>\n",
       "    <tr>\n",
       "      <td>14</td>\n",
       "      <td>OFFENSE INVOLVING CHILDREN</td>\n",
       "      <td>51441</td>\n",
       "      <td>0.6</td>\n",
       "    </tr>\n",
       "  </tbody>\n",
       "</table>\n",
       "</div>"
      ],
      "text/plain": [
       "                Crime Category    Count  percentage\n",
       "0                        THEFT  1640506        20.7\n",
       "1                      BATTERY  1442716        18.2\n",
       "2              CRIMINAL DAMAGE   922999        11.6\n",
       "3                    NARCOTICS   885431        11.1\n",
       "4                OTHER OFFENSE   491922         6.2\n",
       "5                      ASSAULT   481661         6.1\n",
       "6                     BURGLARY   470958         5.9\n",
       "7          MOTOR VEHICLE THEFT   370548         4.7\n",
       "8                      ROBBERY   300453         3.8\n",
       "9           DECEPTIVE PRACTICE   280931         3.5\n",
       "10           CRIMINAL TRESPASS   229366         2.9\n",
       "11                PROSTITUTION    86401         1.1\n",
       "12           WEAPONS VIOLATION    77429         1.0\n",
       "13      PUBLIC PEACE VIOLATION    58548         0.7\n",
       "14  OFFENSE INVOLVING CHILDREN    51441         0.6"
      ]
     },
     "execution_count": 86,
     "metadata": {},
     "output_type": "execute_result"
    }
   ],
   "source": [
    "per_greater_than_0 = total_crimes_of_a_crime_type[total_crimes_of_a_crime_type['percentage'] > 0.5]\n",
    "per_greater_than_0"
   ]
  },
  {
   "cell_type": "code",
   "execution_count": 87,
   "metadata": {},
   "outputs": [
    {
     "data": {
      "image/png": "[encoded data removed]",
      "text/plain": [
       "<Figure size 1152x720 with 1 Axes>"
      ]
     },
     "metadata": {},
     "output_type": "display_data"
    }
   ],
   "source": [
    "import numpy as np\n",
    "import matplotlib.pyplot as plt\n",
    "count = per_greater_than_0['Count']\n",
    "labels = per_greater_than_0['Crime Category']\n",
    "explode = np.full((15), 0.1)\n",
    "plt.figure(figsize=(16,10))\n",
    "#plt.pie(sizes, labels=labels, autopct='%1.0f%%', pctdistance=1.1, labeldistance=1.2)\n",
    "plt.pie(count, labels = labels, explode=explode, shadow = 'black', autopct = '%1.1f%%')\n",
    "\n",
    "plt.show() \n",
    "#autopct='%1.1f%%',"
   ]
  },
  {
   "cell_type": "code",
   "execution_count": 88,
   "metadata": {},
   "outputs": [
    {
     "data": {
      "image/png": "[encoded data removed]",
      "text/plain": [
       "<Figure size 1440x720 with 1 Axes>"
      ]
     },
     "metadata": {
      "needs_background": "light"
     },
     "output_type": "display_data"
    }
   ],
   "source": [
    "crime_type = per_greater_than_0['Crime Category']\n",
    "pers = per_greater_than_0['percentage']\n",
    "plt.figure(figsize=(20,10))\n",
    "plt.barh(crime_type, pers, color = 'lightgrey')\n",
    "plt.show()"
   ]
  },
  {
   "cell_type": "code",
   "execution_count": 89,
   "metadata": {},
   "outputs": [
    {
     "data": {
      "text/html": [
       "<div>\n",
       "<style scoped>\n",
       "    .dataframe tbody tr th:only-of-type {\n",
       "        vertical-align: middle;\n",
       "    }\n",
       "\n",
       "    .dataframe tbody tr th {\n",
       "        vertical-align: top;\n",
       "    }\n",
       "\n",
       "    .dataframe thead th {\n",
       "        text-align: right;\n",
       "    }\n",
       "</style>\n",
       "<table border=\"1\" class=\"dataframe\">\n",
       "  <thead>\n",
       "    <tr style=\"text-align: right;\">\n",
       "      <th></th>\n",
       "      <th>index</th>\n",
       "      <th>Date</th>\n",
       "      <th>Block</th>\n",
       "      <th>Primary Type</th>\n",
       "      <th>Description</th>\n",
       "      <th>Location Description</th>\n",
       "      <th>Arrest</th>\n",
       "      <th>Domestic</th>\n",
       "      <th>District</th>\n",
       "      <th>Community Area</th>\n",
       "      <th>Year</th>\n",
       "    </tr>\n",
       "  </thead>\n",
       "  <tbody>\n",
       "    <tr>\n",
       "      <td>0</td>\n",
       "      <td>0</td>\n",
       "      <td>01/01/2004 12:01:00 AM</td>\n",
       "      <td>082XX S COLES AVE</td>\n",
       "      <td>THEFT</td>\n",
       "      <td>FINANCIAL ID THEFT: OVER $300</td>\n",
       "      <td>RESIDENCE</td>\n",
       "      <td>False</td>\n",
       "      <td>False</td>\n",
       "      <td>4.0</td>\n",
       "      <td>46.0</td>\n",
       "      <td>2004</td>\n",
       "    </tr>\n",
       "    <tr>\n",
       "      <td>1</td>\n",
       "      <td>1</td>\n",
       "      <td>03/01/2003 12:00:00 AM</td>\n",
       "      <td>004XX W 42ND PL</td>\n",
       "      <td>OTHER OFFENSE</td>\n",
       "      <td>HARASSMENT BY TELEPHONE</td>\n",
       "      <td>RESIDENCE</td>\n",
       "      <td>False</td>\n",
       "      <td>True</td>\n",
       "      <td>9.0</td>\n",
       "      <td>61.0</td>\n",
       "      <td>2003</td>\n",
       "    </tr>\n",
       "    <tr>\n",
       "      <td>2</td>\n",
       "      <td>2</td>\n",
       "      <td>06/20/2004 11:00:00 AM</td>\n",
       "      <td>025XX N KIMBALL AVE</td>\n",
       "      <td>OFFENSE INVOLVING CHILDREN</td>\n",
       "      <td>AGG CRIM SEX ABUSE FAM MEMBER</td>\n",
       "      <td>RESIDENCE</td>\n",
       "      <td>False</td>\n",
       "      <td>False</td>\n",
       "      <td>14.0</td>\n",
       "      <td>22.0</td>\n",
       "      <td>2004</td>\n",
       "    </tr>\n",
       "    <tr>\n",
       "      <td>3</td>\n",
       "      <td>3</td>\n",
       "      <td>12/30/2004 08:00:00 PM</td>\n",
       "      <td>045XX W MONTANA ST</td>\n",
       "      <td>THEFT</td>\n",
       "      <td>FINANCIAL ID THEFT: OVER $300</td>\n",
       "      <td>OTHER</td>\n",
       "      <td>False</td>\n",
       "      <td>False</td>\n",
       "      <td>25.0</td>\n",
       "      <td>20.0</td>\n",
       "      <td>2004</td>\n",
       "    </tr>\n",
       "    <tr>\n",
       "      <td>4</td>\n",
       "      <td>4</td>\n",
       "      <td>05/01/2003 01:00:00 AM</td>\n",
       "      <td>111XX S NORMAL AVE</td>\n",
       "      <td>THEFT</td>\n",
       "      <td>FINANCIAL ID THEFT:$300 &amp;UNDER</td>\n",
       "      <td>RESIDENCE</td>\n",
       "      <td>False</td>\n",
       "      <td>False</td>\n",
       "      <td>22.0</td>\n",
       "      <td>49.0</td>\n",
       "      <td>2003</td>\n",
       "    </tr>\n",
       "  </tbody>\n",
       "</table>\n",
       "</div>"
      ],
      "text/plain": [
       "   index                    Date                Block  \\\n",
       "0      0  01/01/2004 12:01:00 AM    082XX S COLES AVE   \n",
       "1      1  03/01/2003 12:00:00 AM      004XX W 42ND PL   \n",
       "2      2  06/20/2004 11:00:00 AM  025XX N KIMBALL AVE   \n",
       "3      3  12/30/2004 08:00:00 PM   045XX W MONTANA ST   \n",
       "4      4  05/01/2003 01:00:00 AM   111XX S NORMAL AVE   \n",
       "\n",
       "                 Primary Type                     Description  \\\n",
       "0                       THEFT   FINANCIAL ID THEFT: OVER $300   \n",
       "1               OTHER OFFENSE         HARASSMENT BY TELEPHONE   \n",
       "2  OFFENSE INVOLVING CHILDREN   AGG CRIM SEX ABUSE FAM MEMBER   \n",
       "3                       THEFT   FINANCIAL ID THEFT: OVER $300   \n",
       "4                       THEFT  FINANCIAL ID THEFT:$300 &UNDER   \n",
       "\n",
       "  Location Description  Arrest  Domestic  District  Community Area  Year  \n",
       "0            RESIDENCE   False     False       4.0            46.0  2004  \n",
       "1            RESIDENCE   False      True       9.0            61.0  2003  \n",
       "2            RESIDENCE   False     False      14.0            22.0  2004  \n",
       "3                OTHER   False     False      25.0            20.0  2004  \n",
       "4            RESIDENCE   False     False      22.0            49.0  2003  "
      ]
     },
     "execution_count": 89,
     "metadata": {},
     "output_type": "execute_result"
    }
   ],
   "source": [
    "crime_data.head()"
   ]
  },
  {
   "cell_type": "markdown",
   "metadata": {},
   "source": [
    "[Go Back](#goback)"
   ]
  },
  {
   "cell_type": "markdown",
   "metadata": {},
   "source": [
    "<a id='h19'></a>\n",
    "##### 19. It is commonly said that crime rate is inversely proportional to arrest means if arrest goes up crime rate goes down and if arrest goes down then crime goes up, so now with the help of line and bar chart you have to prove that crime rate is inversely proportional to arrest."
   ]
  },
  {
   "cell_type": "code",
   "execution_count": 90,
   "metadata": {},
   "outputs": [
    {
     "data": {
      "image/png": "[encoded data removed]",
      "text/plain": [
       "<Figure size 1080x504 with 1 Axes>"
      ]
     },
     "metadata": {
      "needs_background": "light"
     },
     "output_type": "display_data"
    }
   ],
   "source": [
    "# Crime Rate\n",
    "\n",
    "total_crimes_in_every_year.plot(kind = 'line', x = 'Year', y = 'Total Crimes', figsize=(15,7))\n",
    "plt.title(\"Line Chart: Time V/S Crime Rate\")\n",
    "plt.xlabel(\"Year\")\n",
    "plt.ylabel(\"Crime Rate\")\n",
    "plt.show()"
   ]
  },
  {
   "cell_type": "code",
   "execution_count": 91,
   "metadata": {},
   "outputs": [
    {
     "ename": "AttributeError",
     "evalue": "module 'matplotlib.dates' has no attribute 'YearlyLocator'",
     "output_type": "error",
     "traceback": [
      "\u001b[1;31m---------------------------------------------------------------------------\u001b[0m",
      "\u001b[1;31mAttributeError\u001b[0m                            Traceback (most recent call last)",
      "\u001b[1;32m<ipython-input-91-2b157d23a8ed>\u001b[0m in \u001b[0;36m<module>\u001b[1;34m\u001b[0m\n\u001b[0;32m     10\u001b[0m \u001b[1;33m\u001b[0m\u001b[0m\n\u001b[0;32m     11\u001b[0m \u001b[1;31m#set ticks every year\u001b[0m\u001b[1;33m\u001b[0m\u001b[1;33m\u001b[0m\u001b[1;33m\u001b[0m\u001b[0m\n\u001b[1;32m---> 12\u001b[1;33m \u001b[0max\u001b[0m\u001b[1;33m.\u001b[0m\u001b[0mxaxis\u001b[0m\u001b[1;33m.\u001b[0m\u001b[0mset_major_locator\u001b[0m\u001b[1;33m(\u001b[0m\u001b[0mmdates\u001b[0m\u001b[1;33m.\u001b[0m\u001b[0mYearlyLocator\u001b[0m\u001b[1;33m(\u001b[0m\u001b[1;33m)\u001b[0m\u001b[1;33m)\u001b[0m\u001b[1;33m\u001b[0m\u001b[1;33m\u001b[0m\u001b[0m\n\u001b[0m\u001b[0;32m     13\u001b[0m \u001b[1;31m#set major ticks format\u001b[0m\u001b[1;33m\u001b[0m\u001b[1;33m\u001b[0m\u001b[1;33m\u001b[0m\u001b[0m\n\u001b[0;32m     14\u001b[0m \u001b[0max\u001b[0m\u001b[1;33m.\u001b[0m\u001b[0mxaxis\u001b[0m\u001b[1;33m.\u001b[0m\u001b[0mset_major_formatter\u001b[0m\u001b[1;33m(\u001b[0m\u001b[0mmdates\u001b[0m\u001b[1;33m.\u001b[0m\u001b[0mDateFormatter\u001b[0m\u001b[1;33m(\u001b[0m\u001b[1;34m'%b %d'\u001b[0m\u001b[1;33m)\u001b[0m\u001b[1;33m)\u001b[0m\u001b[1;33m\u001b[0m\u001b[1;33m\u001b[0m\u001b[0m\n",
      "\u001b[1;31mAttributeError\u001b[0m: module 'matplotlib.dates' has no attribute 'YearlyLocator'"
     ]
    },
    {
     "data": {
      "image/png": "[encoded data removed]",
      "text/plain": [
       "<Figure size 1080x504 with 1 Axes>"
      ]
     },
     "metadata": {
      "needs_background": "light"
     },
     "output_type": "display_data"
    }
   ],
   "source": [
    "import matplotlib.dates as mdates\n",
    "%matplotlib inline\n",
    "\n",
    "#set date as index\n",
    "d = total_crimes_in_every_year.set_index('Year')\n",
    "\n",
    "#plot data\n",
    "fig, ax = plt.subplots(figsize=(15,7))\n",
    "d.plot(kind='bar', ax=ax)\n",
    "\n",
    "#set ticks every year\n",
    "ax.xaxis.set_major_locator(mdates.YearlyLocator())\n",
    "#set major ticks format\n",
    "ax.xaxis.set_major_formatter(mdates.DateFormatter('%b %d'))"
   ]
  },
  {
   "cell_type": "code",
   "execution_count": 92,
   "metadata": {},
   "outputs": [],
   "source": [
    "# Arrest Rate"
   ]
  },
  {
   "cell_type": "code",
   "execution_count": 93,
   "metadata": {},
   "outputs": [
    {
     "data": {
      "image/png": "[encoded data removed]",
      "text/plain": [
       "<Figure size 1080x504 with 1 Axes>"
      ]
     },
     "metadata": {
      "needs_background": "light"
     },
     "output_type": "display_data"
    }
   ],
   "source": [
    "total_arrest_in_every_year.plot(kind = 'line', x = 'Year', y = 'Arrest', figsize=(15,7), color = 'r')\n",
    "plt.title(\"Line Chart: Time V/S Arrest Rate\")\n",
    "plt.xlabel(\"Year\")\n",
    "plt.ylabel(\"Arrest Rate\")\n",
    "plt.show()"
   ]
  },
  {
   "cell_type": "code",
   "execution_count": 94,
   "metadata": {},
   "outputs": [
    {
     "ename": "AttributeError",
     "evalue": "module 'matplotlib.dates' has no attribute 'YearlyLocator'",
     "output_type": "error",
     "traceback": [
      "\u001b[1;31m---------------------------------------------------------------------------\u001b[0m",
      "\u001b[1;31mAttributeError\u001b[0m                            Traceback (most recent call last)",
      "\u001b[1;32m<ipython-input-94-479c1ce38364>\u001b[0m in \u001b[0;36m<module>\u001b[1;34m\u001b[0m\n\u001b[0;32m     10\u001b[0m \u001b[1;33m\u001b[0m\u001b[0m\n\u001b[0;32m     11\u001b[0m \u001b[1;31m#set ticks every year\u001b[0m\u001b[1;33m\u001b[0m\u001b[1;33m\u001b[0m\u001b[1;33m\u001b[0m\u001b[0m\n\u001b[1;32m---> 12\u001b[1;33m \u001b[0max\u001b[0m\u001b[1;33m.\u001b[0m\u001b[0mxaxis\u001b[0m\u001b[1;33m.\u001b[0m\u001b[0mset_major_locator\u001b[0m\u001b[1;33m(\u001b[0m\u001b[0mmdates\u001b[0m\u001b[1;33m.\u001b[0m\u001b[0mYearlyLocator\u001b[0m\u001b[1;33m(\u001b[0m\u001b[1;33m)\u001b[0m\u001b[1;33m)\u001b[0m\u001b[1;33m\u001b[0m\u001b[1;33m\u001b[0m\u001b[0m\n\u001b[0m\u001b[0;32m     13\u001b[0m \u001b[1;31m#set major ticks format\u001b[0m\u001b[1;33m\u001b[0m\u001b[1;33m\u001b[0m\u001b[1;33m\u001b[0m\u001b[0m\n\u001b[0;32m     14\u001b[0m \u001b[0max\u001b[0m\u001b[1;33m.\u001b[0m\u001b[0mxaxis\u001b[0m\u001b[1;33m.\u001b[0m\u001b[0mset_major_formatter\u001b[0m\u001b[1;33m(\u001b[0m\u001b[0mmdates\u001b[0m\u001b[1;33m.\u001b[0m\u001b[0mDateFormatter\u001b[0m\u001b[1;33m(\u001b[0m\u001b[1;34m'%b %d'\u001b[0m\u001b[1;33m)\u001b[0m\u001b[1;33m)\u001b[0m\u001b[1;33m\u001b[0m\u001b[1;33m\u001b[0m\u001b[0m\n",
      "\u001b[1;31mAttributeError\u001b[0m: module 'matplotlib.dates' has no attribute 'YearlyLocator'"
     ]
    },
    {
     "data": {
      "image/png": "[encoded data removed]",
      "text/plain": [
       "<Figure size 1080x504 with 1 Axes>"
      ]
     },
     "metadata": {
      "needs_background": "light"
     },
     "output_type": "display_data"
    }
   ],
   "source": [
    "import matplotlib.dates as mdates\n",
    "%matplotlib inline\n",
    "\n",
    "#set date as index\n",
    "d = total_arrest_in_every_year.set_index('Year')\n",
    "\n",
    "#plot data\n",
    "fig, ax = plt.subplots(figsize=(15,7))\n",
    "d.plot(kind='bar', ax=ax, color = 'r')\n",
    "\n",
    "#set ticks every year\n",
    "ax.xaxis.set_major_locator(mdates.YearlyLocator())\n",
    "#set major ticks format\n",
    "ax.xaxis.set_major_formatter(mdates.DateFormatter('%b %d'))"
   ]
  },
  {
   "cell_type": "code",
   "execution_count": 95,
   "metadata": {},
   "outputs": [],
   "source": [
    "# Comparison"
   ]
  },
  {
   "cell_type": "code",
   "execution_count": 96,
   "metadata": {},
   "outputs": [
    {
     "data": {
      "image/png": "[encoded data removed]",
      "text/plain": [
       "<Figure size 1440x720 with 1 Axes>"
      ]
     },
     "metadata": {
      "needs_background": "light"
     },
     "output_type": "display_data"
    }
   ],
   "source": [
    "import matplotlib.pyplot as plt\n",
    "date = total_arrest_in_every_year['Year']\n",
    "arrests = total_arrest_in_every_year['Arrest']\n",
    "crimes = total_crimes_in_every_year['Total Crimes']\n",
    "plt.figure(figsize=(20,10))\n",
    "plt.plot(date, crimes, marker = 'o', label = 'Crimes')\n",
    "plt.plot(date, arrests, marker = 'o', color = 'r', label = 'Arrests')\n",
    "labels = ['Crimes', 'Arrests']\n",
    "#cubes = [i*i*i for i in numbers]\n",
    "#plt.plot(numbers, cubes, marker = 'o')\n",
    "plt.grid()\n",
    "plt.legend(labels)\n",
    "plt.show()"
   ]
  },
  {
   "cell_type": "code",
   "execution_count": 97,
   "metadata": {},
   "outputs": [
    {
     "data": {
      "image/png": "[encoded data removed]",
      "text/plain": [
       "<Figure size 1440x720 with 1 Axes>"
      ]
     },
     "metadata": {
      "needs_background": "light"
     },
     "output_type": "display_data"
    }
   ],
   "source": [
    "import matplotlib.pyplot as plt\n",
    "date = total_arrest_in_every_year['Year']\n",
    "arrests = total_arrest_in_every_year['Arrest']\n",
    "crimes = total_crimes_in_every_year['Total Crimes']\n",
    "width = 0.4\n",
    "plt.figure(figsize=(20,10))\n",
    "plt.bar(date, crimes, label = 'Crimes', width = width)\n",
    "plt.bar(date+width, arrests, color = 'r', label = 'Arrests', width = width)\n",
    "labels = ['Crimes', 'Arrests']\n",
    "plt.grid()\n",
    "plt.legend(labels)\n",
    "plt.show()"
   ]
  },
  {
   "cell_type": "markdown",
   "metadata": {},
   "source": [
    "[Go Back](#goback)"
   ]
  },
  {
   "cell_type": "markdown",
   "metadata": {},
   "source": [
    "<a id='h20'></a>\n",
    "##### 20. Create a data frame that shows the summary of total crimes each year and total arrest each year."
   ]
  },
  {
   "cell_type": "code",
   "execution_count": 98,
   "metadata": {},
   "outputs": [
    {
     "data": {
      "text/html": [
       "<div>\n",
       "<style scoped>\n",
       "    .dataframe tbody tr th:only-of-type {\n",
       "        vertical-align: middle;\n",
       "    }\n",
       "\n",
       "    .dataframe tbody tr th {\n",
       "        vertical-align: top;\n",
       "    }\n",
       "\n",
       "    .dataframe thead th {\n",
       "        text-align: right;\n",
       "    }\n",
       "</style>\n",
       "<table border=\"1\" class=\"dataframe\">\n",
       "  <thead>\n",
       "    <tr style=\"text-align: right;\">\n",
       "      <th></th>\n",
       "      <th>Year</th>\n",
       "      <th>Total Crimes</th>\n",
       "    </tr>\n",
       "  </thead>\n",
       "  <tbody>\n",
       "    <tr>\n",
       "      <td>0</td>\n",
       "      <td>2001</td>\n",
       "      <td>568517</td>\n",
       "    </tr>\n",
       "    <tr>\n",
       "      <td>1</td>\n",
       "      <td>2002</td>\n",
       "      <td>490879</td>\n",
       "    </tr>\n",
       "    <tr>\n",
       "      <td>2</td>\n",
       "      <td>2003</td>\n",
       "      <td>475913</td>\n",
       "    </tr>\n",
       "    <tr>\n",
       "      <td>3</td>\n",
       "      <td>2004</td>\n",
       "      <td>388205</td>\n",
       "    </tr>\n",
       "    <tr>\n",
       "      <td>4</td>\n",
       "      <td>2005</td>\n",
       "      <td>455811</td>\n",
       "    </tr>\n",
       "    <tr>\n",
       "      <td>5</td>\n",
       "      <td>2006</td>\n",
       "      <td>794684</td>\n",
       "    </tr>\n",
       "    <tr>\n",
       "      <td>6</td>\n",
       "      <td>2007</td>\n",
       "      <td>621848</td>\n",
       "    </tr>\n",
       "    <tr>\n",
       "      <td>7</td>\n",
       "      <td>2008</td>\n",
       "      <td>852053</td>\n",
       "    </tr>\n",
       "    <tr>\n",
       "      <td>8</td>\n",
       "      <td>2009</td>\n",
       "      <td>783900</td>\n",
       "    </tr>\n",
       "    <tr>\n",
       "      <td>9</td>\n",
       "      <td>2010</td>\n",
       "      <td>700691</td>\n",
       "    </tr>\n",
       "    <tr>\n",
       "      <td>10</td>\n",
       "      <td>2011</td>\n",
       "      <td>352066</td>\n",
       "    </tr>\n",
       "    <tr>\n",
       "      <td>11</td>\n",
       "      <td>2012</td>\n",
       "      <td>335670</td>\n",
       "    </tr>\n",
       "    <tr>\n",
       "      <td>12</td>\n",
       "      <td>2013</td>\n",
       "      <td>306703</td>\n",
       "    </tr>\n",
       "    <tr>\n",
       "      <td>13</td>\n",
       "      <td>2014</td>\n",
       "      <td>274527</td>\n",
       "    </tr>\n",
       "    <tr>\n",
       "      <td>14</td>\n",
       "      <td>2015</td>\n",
       "      <td>262995</td>\n",
       "    </tr>\n",
       "    <tr>\n",
       "      <td>15</td>\n",
       "      <td>2016</td>\n",
       "      <td>265462</td>\n",
       "    </tr>\n",
       "    <tr>\n",
       "      <td>16</td>\n",
       "      <td>2017</td>\n",
       "      <td>11357</td>\n",
       "    </tr>\n",
       "  </tbody>\n",
       "</table>\n",
       "</div>"
      ],
      "text/plain": [
       "    Year  Total Crimes\n",
       "0   2001        568517\n",
       "1   2002        490879\n",
       "2   2003        475913\n",
       "3   2004        388205\n",
       "4   2005        455811\n",
       "5   2006        794684\n",
       "6   2007        621848\n",
       "7   2008        852053\n",
       "8   2009        783900\n",
       "9   2010        700691\n",
       "10  2011        352066\n",
       "11  2012        335670\n",
       "12  2013        306703\n",
       "13  2014        274527\n",
       "14  2015        262995\n",
       "15  2016        265462\n",
       "16  2017         11357"
      ]
     },
     "execution_count": 98,
     "metadata": {},
     "output_type": "execute_result"
    }
   ],
   "source": [
    "total_crimes_in_every_year"
   ]
  },
  {
   "cell_type": "code",
   "execution_count": 99,
   "metadata": {},
   "outputs": [
    {
     "data": {
      "text/html": [
       "<div>\n",
       "<style scoped>\n",
       "    .dataframe tbody tr th:only-of-type {\n",
       "        vertical-align: middle;\n",
       "    }\n",
       "\n",
       "    .dataframe tbody tr th {\n",
       "        vertical-align: top;\n",
       "    }\n",
       "\n",
       "    .dataframe thead th {\n",
       "        text-align: right;\n",
       "    }\n",
       "</style>\n",
       "<table border=\"1\" class=\"dataframe\">\n",
       "  <thead>\n",
       "    <tr style=\"text-align: right;\">\n",
       "      <th></th>\n",
       "      <th>Year</th>\n",
       "      <th>Total Crimes</th>\n",
       "      <th>Total Arrests</th>\n",
       "    </tr>\n",
       "  </thead>\n",
       "  <tbody>\n",
       "    <tr>\n",
       "      <td>0</td>\n",
       "      <td>2001</td>\n",
       "      <td>568517</td>\n",
       "      <td>167889</td>\n",
       "    </tr>\n",
       "    <tr>\n",
       "      <td>1</td>\n",
       "      <td>2002</td>\n",
       "      <td>490879</td>\n",
       "      <td>142805</td>\n",
       "    </tr>\n",
       "    <tr>\n",
       "      <td>2</td>\n",
       "      <td>2003</td>\n",
       "      <td>475913</td>\n",
       "      <td>141499</td>\n",
       "    </tr>\n",
       "    <tr>\n",
       "      <td>3</td>\n",
       "      <td>2004</td>\n",
       "      <td>388205</td>\n",
       "      <td>116681</td>\n",
       "    </tr>\n",
       "    <tr>\n",
       "      <td>4</td>\n",
       "      <td>2005</td>\n",
       "      <td>455811</td>\n",
       "      <td>141159</td>\n",
       "    </tr>\n",
       "    <tr>\n",
       "      <td>5</td>\n",
       "      <td>2006</td>\n",
       "      <td>794684</td>\n",
       "      <td>243781</td>\n",
       "    </tr>\n",
       "    <tr>\n",
       "      <td>6</td>\n",
       "      <td>2007</td>\n",
       "      <td>621848</td>\n",
       "      <td>190131</td>\n",
       "    </tr>\n",
       "    <tr>\n",
       "      <td>7</td>\n",
       "      <td>2008</td>\n",
       "      <td>852053</td>\n",
       "      <td>219222</td>\n",
       "    </tr>\n",
       "    <tr>\n",
       "      <td>8</td>\n",
       "      <td>2009</td>\n",
       "      <td>783900</td>\n",
       "      <td>221052</td>\n",
       "    </tr>\n",
       "    <tr>\n",
       "      <td>9</td>\n",
       "      <td>2010</td>\n",
       "      <td>700691</td>\n",
       "      <td>191503</td>\n",
       "    </tr>\n",
       "    <tr>\n",
       "      <td>10</td>\n",
       "      <td>2011</td>\n",
       "      <td>352066</td>\n",
       "      <td>96225</td>\n",
       "    </tr>\n",
       "    <tr>\n",
       "      <td>11</td>\n",
       "      <td>2012</td>\n",
       "      <td>335670</td>\n",
       "      <td>90511</td>\n",
       "    </tr>\n",
       "    <tr>\n",
       "      <td>12</td>\n",
       "      <td>2013</td>\n",
       "      <td>306703</td>\n",
       "      <td>86219</td>\n",
       "    </tr>\n",
       "    <tr>\n",
       "      <td>13</td>\n",
       "      <td>2014</td>\n",
       "      <td>274527</td>\n",
       "      <td>79057</td>\n",
       "    </tr>\n",
       "    <tr>\n",
       "      <td>14</td>\n",
       "      <td>2015</td>\n",
       "      <td>262995</td>\n",
       "      <td>69397</td>\n",
       "    </tr>\n",
       "    <tr>\n",
       "      <td>15</td>\n",
       "      <td>2016</td>\n",
       "      <td>265462</td>\n",
       "      <td>50386</td>\n",
       "    </tr>\n",
       "    <tr>\n",
       "      <td>16</td>\n",
       "      <td>2017</td>\n",
       "      <td>11357</td>\n",
       "      <td>1902</td>\n",
       "    </tr>\n",
       "  </tbody>\n",
       "</table>\n",
       "</div>"
      ],
      "text/plain": [
       "    Year  Total Crimes  Total Arrests\n",
       "0   2001        568517         167889\n",
       "1   2002        490879         142805\n",
       "2   2003        475913         141499\n",
       "3   2004        388205         116681\n",
       "4   2005        455811         141159\n",
       "5   2006        794684         243781\n",
       "6   2007        621848         190131\n",
       "7   2008        852053         219222\n",
       "8   2009        783900         221052\n",
       "9   2010        700691         191503\n",
       "10  2011        352066          96225\n",
       "11  2012        335670          90511\n",
       "12  2013        306703          86219\n",
       "13  2014        274527          79057\n",
       "14  2015        262995          69397\n",
       "15  2016        265462          50386\n",
       "16  2017         11357           1902"
      ]
     },
     "execution_count": 99,
     "metadata": {},
     "output_type": "execute_result"
    }
   ],
   "source": [
    "total_crimes_with_arrest = total_crimes_in_every_year\n",
    "total_crimes_with_arrest['Total Arrests'] = total_arrest_in_every_year['Arrest']\n",
    "total_crimes_with_arrest\n",
    "\n"
   ]
  },
  {
   "cell_type": "markdown",
   "metadata": {},
   "source": [
    "[Go Back](#goback)"
   ]
  },
  {
   "cell_type": "markdown",
   "metadata": {},
   "source": [
    "<a id='h21'></a>\n",
    "##### 21. What is the relation between crime and arrest? (Find correlation b/w crime and arrest)"
   ]
  },
  {
   "cell_type": "code",
   "execution_count": 100,
   "metadata": {},
   "outputs": [
    {
     "data": {
      "text/html": [
       "<div>\n",
       "<style scoped>\n",
       "    .dataframe tbody tr th:only-of-type {\n",
       "        vertical-align: middle;\n",
       "    }\n",
       "\n",
       "    .dataframe tbody tr th {\n",
       "        vertical-align: top;\n",
       "    }\n",
       "\n",
       "    .dataframe thead th {\n",
       "        text-align: right;\n",
       "    }\n",
       "</style>\n",
       "<table border=\"1\" class=\"dataframe\">\n",
       "  <thead>\n",
       "    <tr style=\"text-align: right;\">\n",
       "      <th></th>\n",
       "      <th>Total Crimes</th>\n",
       "      <th>Total Arrests</th>\n",
       "    </tr>\n",
       "  </thead>\n",
       "  <tbody>\n",
       "    <tr>\n",
       "      <td>Total Crimes</td>\n",
       "      <td>1.00000</td>\n",
       "      <td>0.98589</td>\n",
       "    </tr>\n",
       "    <tr>\n",
       "      <td>Total Arrests</td>\n",
       "      <td>0.98589</td>\n",
       "      <td>1.00000</td>\n",
       "    </tr>\n",
       "  </tbody>\n",
       "</table>\n",
       "</div>"
      ],
      "text/plain": [
       "               Total Crimes  Total Arrests\n",
       "Total Crimes        1.00000        0.98589\n",
       "Total Arrests       0.98589        1.00000"
      ]
     },
     "execution_count": 100,
     "metadata": {},
     "output_type": "execute_result"
    }
   ],
   "source": [
    "total_crimes_with_arrest[['Total Crimes', 'Total Arrests']].corr()"
   ]
  },
  {
   "cell_type": "markdown",
   "metadata": {},
   "source": [
    "[Go Back](#goback)"
   ]
  },
  {
   "cell_type": "markdown",
   "metadata": {},
   "source": [
    "<a id='h22'></a>\n",
    "##### 22. Which 3 crimes committed most of the time in 2008?"
   ]
  },
  {
   "cell_type": "code",
   "execution_count": 146,
   "metadata": {},
   "outputs": [],
   "source": [
    "# Top 3 crimes in 2008\n",
    "crime_data_2008 = crime_data[crime_data['Year'] == 2008]"
   ]
  },
  {
   "cell_type": "code",
   "execution_count": 147,
   "metadata": {},
   "outputs": [],
   "source": [
    "crime_data_2008.reset_index(inplace = True)"
   ]
  },
  {
   "cell_type": "code",
   "execution_count": 150,
   "metadata": {},
   "outputs": [
    {
     "data": {
      "text/html": [
       "<div>\n",
       "<style scoped>\n",
       "    .dataframe tbody tr th:only-of-type {\n",
       "        vertical-align: middle;\n",
       "    }\n",
       "\n",
       "    .dataframe tbody tr th {\n",
       "        vertical-align: top;\n",
       "    }\n",
       "\n",
       "    .dataframe thead th {\n",
       "        text-align: right;\n",
       "    }\n",
       "</style>\n",
       "<table border=\"1\" class=\"dataframe\">\n",
       "  <thead>\n",
       "    <tr style=\"text-align: right;\">\n",
       "      <th></th>\n",
       "      <th>Primary Type</th>\n",
       "    </tr>\n",
       "  </thead>\n",
       "  <tbody>\n",
       "    <tr>\n",
       "      <td>THEFT</td>\n",
       "      <td>176635</td>\n",
       "    </tr>\n",
       "    <tr>\n",
       "      <td>BATTERY</td>\n",
       "      <td>151711</td>\n",
       "    </tr>\n",
       "    <tr>\n",
       "      <td>CRIMINAL DAMAGE</td>\n",
       "      <td>105519</td>\n",
       "    </tr>\n",
       "  </tbody>\n",
       "</table>\n",
       "</div>"
      ],
      "text/plain": [
       "                 Primary Type\n",
       "THEFT                  176635\n",
       "BATTERY                151711\n",
       "CRIMINAL DAMAGE        105519"
      ]
     },
     "execution_count": 150,
     "metadata": {},
     "output_type": "execute_result"
    }
   ],
   "source": [
    "top3_crimes_in_2008 = crime_data_2008['Primary Type'].value_counts()[:3].to_frame()\n",
    "top3_crimes_in_2008"
   ]
  },
  {
   "cell_type": "code",
   "execution_count": 151,
   "metadata": {},
   "outputs": [],
   "source": [
    "top3_crimes_in_2008.reset_index(inplace = True)\n",
    "top3_crimes_in_2008.columns = ['Crime Type', 'Count']"
   ]
  },
  {
   "cell_type": "code",
   "execution_count": 152,
   "metadata": {},
   "outputs": [
    {
     "data": {
      "text/html": [
       "<div>\n",
       "<style scoped>\n",
       "    .dataframe tbody tr th:only-of-type {\n",
       "        vertical-align: middle;\n",
       "    }\n",
       "\n",
       "    .dataframe tbody tr th {\n",
       "        vertical-align: top;\n",
       "    }\n",
       "\n",
       "    .dataframe thead th {\n",
       "        text-align: right;\n",
       "    }\n",
       "</style>\n",
       "<table border=\"1\" class=\"dataframe\">\n",
       "  <thead>\n",
       "    <tr style=\"text-align: right;\">\n",
       "      <th></th>\n",
       "      <th>Crime Type</th>\n",
       "      <th>Count</th>\n",
       "    </tr>\n",
       "  </thead>\n",
       "  <tbody>\n",
       "    <tr>\n",
       "      <td>0</td>\n",
       "      <td>THEFT</td>\n",
       "      <td>176635</td>\n",
       "    </tr>\n",
       "    <tr>\n",
       "      <td>1</td>\n",
       "      <td>BATTERY</td>\n",
       "      <td>151711</td>\n",
       "    </tr>\n",
       "    <tr>\n",
       "      <td>2</td>\n",
       "      <td>CRIMINAL DAMAGE</td>\n",
       "      <td>105519</td>\n",
       "    </tr>\n",
       "  </tbody>\n",
       "</table>\n",
       "</div>"
      ],
      "text/plain": [
       "        Crime Type   Count\n",
       "0            THEFT  176635\n",
       "1          BATTERY  151711\n",
       "2  CRIMINAL DAMAGE  105519"
      ]
     },
     "execution_count": 152,
     "metadata": {},
     "output_type": "execute_result"
    }
   ],
   "source": [
    "top3_crimes_in_2008"
   ]
  },
  {
   "cell_type": "markdown",
   "metadata": {},
   "source": [
    "[Go Back](#goback)"
   ]
  },
  {
   "cell_type": "markdown",
   "metadata": {},
   "source": [
    "<a id='h23'></a>\n",
    "##### 23. List top 5 blocks where most of the crimes committed with their districts, community area name & count of a crime."
   ]
  },
  {
   "cell_type": "code",
   "execution_count": 110,
   "metadata": {},
   "outputs": [
    {
     "data": {
      "text/plain": [
       "100XX W OHARE ST        19927\n",
       "001XX N STATE ST        12796\n",
       "076XX S CICERO AVE      11070\n",
       "008XX N MICHIGAN AVE     9254\n",
       "0000X N STATE ST         9202\n",
       "Name: Block, dtype: int64"
      ]
     },
     "execution_count": 110,
     "metadata": {},
     "output_type": "execute_result"
    }
   ],
   "source": [
    "top5_blocks_where_crime_comitted = crime_data['Block'].value_counts()[:5]\n",
    "top5_blocks_where_crime_comitted"
   ]
  },
  {
   "cell_type": "code",
   "execution_count": 113,
   "metadata": {},
   "outputs": [
    {
     "data": {
      "text/html": [
       "<div>\n",
       "<style scoped>\n",
       "    .dataframe tbody tr th:only-of-type {\n",
       "        vertical-align: middle;\n",
       "    }\n",
       "\n",
       "    .dataframe tbody tr th {\n",
       "        vertical-align: top;\n",
       "    }\n",
       "\n",
       "    .dataframe thead th {\n",
       "        text-align: right;\n",
       "    }\n",
       "</style>\n",
       "<table border=\"1\" class=\"dataframe\">\n",
       "  <thead>\n",
       "    <tr style=\"text-align: right;\">\n",
       "      <th></th>\n",
       "      <th>Block</th>\n",
       "    </tr>\n",
       "  </thead>\n",
       "  <tbody>\n",
       "    <tr>\n",
       "      <td>100XX W OHARE ST</td>\n",
       "      <td>19927</td>\n",
       "    </tr>\n",
       "    <tr>\n",
       "      <td>001XX N STATE ST</td>\n",
       "      <td>12796</td>\n",
       "    </tr>\n",
       "    <tr>\n",
       "      <td>076XX S CICERO AVE</td>\n",
       "      <td>11070</td>\n",
       "    </tr>\n",
       "    <tr>\n",
       "      <td>008XX N MICHIGAN AVE</td>\n",
       "      <td>9254</td>\n",
       "    </tr>\n",
       "    <tr>\n",
       "      <td>0000X N STATE ST</td>\n",
       "      <td>9202</td>\n",
       "    </tr>\n",
       "  </tbody>\n",
       "</table>\n",
       "</div>"
      ],
      "text/plain": [
       "                      Block\n",
       "100XX W OHARE ST      19927\n",
       "001XX N STATE ST      12796\n",
       "076XX S CICERO AVE    11070\n",
       "008XX N MICHIGAN AVE   9254\n",
       "0000X N STATE ST       9202"
      ]
     },
     "execution_count": 113,
     "metadata": {},
     "output_type": "execute_result"
    }
   ],
   "source": [
    "top5_blocks_where_crime_comitted = crime_data['Block'].value_counts()[:5].to_frame()\n",
    "top5_blocks_where_crime_comitted"
   ]
  },
  {
   "cell_type": "code",
   "execution_count": 115,
   "metadata": {},
   "outputs": [
    {
     "data": {
      "text/html": [
       "<div>\n",
       "<style scoped>\n",
       "    .dataframe tbody tr th:only-of-type {\n",
       "        vertical-align: middle;\n",
       "    }\n",
       "\n",
       "    .dataframe tbody tr th {\n",
       "        vertical-align: top;\n",
       "    }\n",
       "\n",
       "    .dataframe thead th {\n",
       "        text-align: right;\n",
       "    }\n",
       "</style>\n",
       "<table border=\"1\" class=\"dataframe\">\n",
       "  <thead>\n",
       "    <tr style=\"text-align: right;\">\n",
       "      <th></th>\n",
       "      <th>Block</th>\n",
       "      <th>Count</th>\n",
       "    </tr>\n",
       "  </thead>\n",
       "  <tbody>\n",
       "    <tr>\n",
       "      <td>0</td>\n",
       "      <td>100XX W OHARE ST</td>\n",
       "      <td>19927</td>\n",
       "    </tr>\n",
       "    <tr>\n",
       "      <td>1</td>\n",
       "      <td>001XX N STATE ST</td>\n",
       "      <td>12796</td>\n",
       "    </tr>\n",
       "    <tr>\n",
       "      <td>2</td>\n",
       "      <td>076XX S CICERO AVE</td>\n",
       "      <td>11070</td>\n",
       "    </tr>\n",
       "    <tr>\n",
       "      <td>3</td>\n",
       "      <td>008XX N MICHIGAN AVE</td>\n",
       "      <td>9254</td>\n",
       "    </tr>\n",
       "    <tr>\n",
       "      <td>4</td>\n",
       "      <td>0000X N STATE ST</td>\n",
       "      <td>9202</td>\n",
       "    </tr>\n",
       "  </tbody>\n",
       "</table>\n",
       "</div>"
      ],
      "text/plain": [
       "                  Block  Count\n",
       "0      100XX W OHARE ST  19927\n",
       "1      001XX N STATE ST  12796\n",
       "2    076XX S CICERO AVE  11070\n",
       "3  008XX N MICHIGAN AVE   9254\n",
       "4      0000X N STATE ST   9202"
      ]
     },
     "execution_count": 115,
     "metadata": {},
     "output_type": "execute_result"
    }
   ],
   "source": [
    "top5_blocks_where_crime_comitted.reset_index(inplace = True)\n",
    "top5_blocks_where_crime_comitted.columns = ['Block', 'Count']\n",
    "top5_blocks_where_crime_comitted"
   ]
  },
  {
   "cell_type": "code",
   "execution_count": 119,
   "metadata": {},
   "outputs": [],
   "source": [
    "blocks = top5_blocks_where_crime_comitted['Block']\n",
    "districts = []\n",
    "comm_areas = []\n",
    "for i in blocks:\n",
    "    f = crime_data[crime_data['Block']== i]['District'][-1:-3:-1]\n",
    "    f = f.reset_index()\n",
    "    f = f.loc[0]['District']\n",
    "    g = crime_data[crime_data['Block']== i]['Community Area'][-1:-3:-1]\n",
    "    g = g.reset_index()\n",
    "    g = g.loc[0]['Community Area']\n",
    "\n",
    "    districts.append(f)\n",
    "    comm_areas.append(g)\n",
    "        "
   ]
  },
  {
   "cell_type": "code",
   "execution_count": 120,
   "metadata": {},
   "outputs": [
    {
     "name": "stdout",
     "output_type": "stream",
     "text": [
      "[16.0, 1.0, 8.0, 18.0, 1.0]\n",
      "[76.0, 32.0, 65.0, 8.0, 32.0]\n"
     ]
    }
   ],
   "source": [
    "print(districts)\n",
    "print(comm_areas)"
   ]
  },
  {
   "cell_type": "code",
   "execution_count": 122,
   "metadata": {},
   "outputs": [],
   "source": [
    "top5_blocks_where_crime_comitted['Districts'] = districts\n",
    "top5_blocks_where_crime_comitted['Community Area'] = comm_areas"
   ]
  },
  {
   "cell_type": "code",
   "execution_count": 123,
   "metadata": {},
   "outputs": [
    {
     "data": {
      "text/html": [
       "<div>\n",
       "<style scoped>\n",
       "    .dataframe tbody tr th:only-of-type {\n",
       "        vertical-align: middle;\n",
       "    }\n",
       "\n",
       "    .dataframe tbody tr th {\n",
       "        vertical-align: top;\n",
       "    }\n",
       "\n",
       "    .dataframe thead th {\n",
       "        text-align: right;\n",
       "    }\n",
       "</style>\n",
       "<table border=\"1\" class=\"dataframe\">\n",
       "  <thead>\n",
       "    <tr style=\"text-align: right;\">\n",
       "      <th></th>\n",
       "      <th>Block</th>\n",
       "      <th>Count</th>\n",
       "      <th>Districts</th>\n",
       "      <th>Community Area</th>\n",
       "    </tr>\n",
       "  </thead>\n",
       "  <tbody>\n",
       "    <tr>\n",
       "      <td>0</td>\n",
       "      <td>100XX W OHARE ST</td>\n",
       "      <td>19927</td>\n",
       "      <td>16.0</td>\n",
       "      <td>76.0</td>\n",
       "    </tr>\n",
       "    <tr>\n",
       "      <td>1</td>\n",
       "      <td>001XX N STATE ST</td>\n",
       "      <td>12796</td>\n",
       "      <td>1.0</td>\n",
       "      <td>32.0</td>\n",
       "    </tr>\n",
       "    <tr>\n",
       "      <td>2</td>\n",
       "      <td>076XX S CICERO AVE</td>\n",
       "      <td>11070</td>\n",
       "      <td>8.0</td>\n",
       "      <td>65.0</td>\n",
       "    </tr>\n",
       "    <tr>\n",
       "      <td>3</td>\n",
       "      <td>008XX N MICHIGAN AVE</td>\n",
       "      <td>9254</td>\n",
       "      <td>18.0</td>\n",
       "      <td>8.0</td>\n",
       "    </tr>\n",
       "    <tr>\n",
       "      <td>4</td>\n",
       "      <td>0000X N STATE ST</td>\n",
       "      <td>9202</td>\n",
       "      <td>1.0</td>\n",
       "      <td>32.0</td>\n",
       "    </tr>\n",
       "  </tbody>\n",
       "</table>\n",
       "</div>"
      ],
      "text/plain": [
       "                  Block  Count  Districts  Community Area\n",
       "0      100XX W OHARE ST  19927       16.0            76.0\n",
       "1      001XX N STATE ST  12796        1.0            32.0\n",
       "2    076XX S CICERO AVE  11070        8.0            65.0\n",
       "3  008XX N MICHIGAN AVE   9254       18.0             8.0\n",
       "4      0000X N STATE ST   9202        1.0            32.0"
      ]
     },
     "execution_count": 123,
     "metadata": {},
     "output_type": "execute_result"
    }
   ],
   "source": [
    "top5_blocks_where_crime_comitted"
   ]
  },
  {
   "cell_type": "markdown",
   "metadata": {},
   "source": [
    "[Go Back](#goback)"
   ]
  },
  {
   "cell_type": "markdown",
   "metadata": {},
   "source": [
    "<a id='h24'></a>\n",
    "##### 24. Make a data frame that shows the top 5 districts where most of a crime committed."
   ]
  },
  {
   "cell_type": "code",
   "execution_count": 124,
   "metadata": {},
   "outputs": [],
   "source": [
    "# List top 5 districts"
   ]
  },
  {
   "cell_type": "code",
   "execution_count": 127,
   "metadata": {},
   "outputs": [],
   "source": [
    "top5_districts_where_crime_committed = crime_data['District'].value_counts().to_frame()\n",
    "top5_districts_where_crime_committed.reset_index(inplace = True)"
   ]
  },
  {
   "cell_type": "code",
   "execution_count": 128,
   "metadata": {},
   "outputs": [],
   "source": [
    "top5_districts_where_crime_committed.columns = ['District', 'Count']"
   ]
  },
  {
   "cell_type": "code",
   "execution_count": 129,
   "metadata": {},
   "outputs": [
    {
     "data": {
      "text/html": [
       "<div>\n",
       "<style scoped>\n",
       "    .dataframe tbody tr th:only-of-type {\n",
       "        vertical-align: middle;\n",
       "    }\n",
       "\n",
       "    .dataframe tbody tr th {\n",
       "        vertical-align: top;\n",
       "    }\n",
       "\n",
       "    .dataframe thead th {\n",
       "        text-align: right;\n",
       "    }\n",
       "</style>\n",
       "<table border=\"1\" class=\"dataframe\">\n",
       "  <thead>\n",
       "    <tr style=\"text-align: right;\">\n",
       "      <th></th>\n",
       "      <th>District</th>\n",
       "      <th>Count</th>\n",
       "    </tr>\n",
       "  </thead>\n",
       "  <tbody>\n",
       "    <tr>\n",
       "      <td>0</td>\n",
       "      <td>8.0</td>\n",
       "      <td>550011</td>\n",
       "    </tr>\n",
       "    <tr>\n",
       "      <td>1</td>\n",
       "      <td>11.0</td>\n",
       "      <td>498775</td>\n",
       "    </tr>\n",
       "    <tr>\n",
       "      <td>2</td>\n",
       "      <td>7.0</td>\n",
       "      <td>476524</td>\n",
       "    </tr>\n",
       "    <tr>\n",
       "      <td>3</td>\n",
       "      <td>25.0</td>\n",
       "      <td>463938</td>\n",
       "    </tr>\n",
       "    <tr>\n",
       "      <td>4</td>\n",
       "      <td>6.0</td>\n",
       "      <td>457669</td>\n",
       "    </tr>\n",
       "  </tbody>\n",
       "</table>\n",
       "</div>"
      ],
      "text/plain": [
       "   District   Count\n",
       "0       8.0  550011\n",
       "1      11.0  498775\n",
       "2       7.0  476524\n",
       "3      25.0  463938\n",
       "4       6.0  457669"
      ]
     },
     "execution_count": 129,
     "metadata": {},
     "output_type": "execute_result"
    }
   ],
   "source": [
    "top5_districts_where_crime_committed[:5]"
   ]
  },
  {
   "cell_type": "markdown",
   "metadata": {},
   "source": [
    "[Go Back](#goback)"
   ]
  },
  {
   "cell_type": "markdown",
   "metadata": {},
   "source": [
    "<a id='h25'></a>\n",
    "##### 25. Make a data frame that shows the top 5 community areas where most of a crime committed."
   ]
  },
  {
   "cell_type": "code",
   "execution_count": 131,
   "metadata": {},
   "outputs": [],
   "source": [
    "top5_comarea_where_crime_committed = crime_data['Community Area'].value_counts().to_frame()\n",
    "top5_comarea_where_crime_committed.reset_index(inplace = True)"
   ]
  },
  {
   "cell_type": "code",
   "execution_count": 132,
   "metadata": {},
   "outputs": [],
   "source": [
    "top5_comarea_where_crime_committed.columns = ['Community Area', 'Count']"
   ]
  },
  {
   "cell_type": "code",
   "execution_count": 133,
   "metadata": {},
   "outputs": [
    {
     "data": {
      "text/html": [
       "<div>\n",
       "<style scoped>\n",
       "    .dataframe tbody tr th:only-of-type {\n",
       "        vertical-align: middle;\n",
       "    }\n",
       "\n",
       "    .dataframe tbody tr th {\n",
       "        vertical-align: top;\n",
       "    }\n",
       "\n",
       "    .dataframe thead th {\n",
       "        text-align: right;\n",
       "    }\n",
       "</style>\n",
       "<table border=\"1\" class=\"dataframe\">\n",
       "  <thead>\n",
       "    <tr style=\"text-align: right;\">\n",
       "      <th></th>\n",
       "      <th>Community Area</th>\n",
       "      <th>Count</th>\n",
       "    </tr>\n",
       "  </thead>\n",
       "  <tbody>\n",
       "    <tr>\n",
       "      <td>0</td>\n",
       "      <td>25.0</td>\n",
       "      <td>467137</td>\n",
       "    </tr>\n",
       "    <tr>\n",
       "      <td>1</td>\n",
       "      <td>43.0</td>\n",
       "      <td>237381</td>\n",
       "    </tr>\n",
       "    <tr>\n",
       "      <td>2</td>\n",
       "      <td>8.0</td>\n",
       "      <td>235562</td>\n",
       "    </tr>\n",
       "    <tr>\n",
       "      <td>3</td>\n",
       "      <td>23.0</td>\n",
       "      <td>229024</td>\n",
       "    </tr>\n",
       "    <tr>\n",
       "      <td>4</td>\n",
       "      <td>67.0</td>\n",
       "      <td>216991</td>\n",
       "    </tr>\n",
       "  </tbody>\n",
       "</table>\n",
       "</div>"
      ],
      "text/plain": [
       "   Community Area   Count\n",
       "0            25.0  467137\n",
       "1            43.0  237381\n",
       "2             8.0  235562\n",
       "3            23.0  229024\n",
       "4            67.0  216991"
      ]
     },
     "execution_count": 133,
     "metadata": {},
     "output_type": "execute_result"
    }
   ],
   "source": [
    "top5_comarea_where_crime_committed[:5]"
   ]
  },
  {
   "cell_type": "markdown",
   "metadata": {},
   "source": [
    "[Go Back](#goback)"
   ]
  },
  {
   "cell_type": "markdown",
   "metadata": {},
   "source": [
    "<a id='h26'></a>\n",
    "##### 26. How many unique types of crime committed on the gas station and what they are? Show them with their count."
   ]
  },
  {
   "cell_type": "code",
   "execution_count": 134,
   "metadata": {},
   "outputs": [
    {
     "name": "stdout",
     "output_type": "stream",
     "text": [
      "Total 27 crimes are recorded at gas station, that are given below\n"
     ]
    },
    {
     "data": {
      "text/plain": [
       "THEFT                                19650\n",
       "CRIMINAL TRESPASS                    13671\n",
       "BATTERY                               8959\n",
       "NARCOTICS                             8145\n",
       "ROBBERY                               6780\n",
       "DECEPTIVE PRACTICE                    6130\n",
       "CRIMINAL DAMAGE                       5694\n",
       "ASSAULT                               5560\n",
       "MOTOR VEHICLE THEFT                   4263\n",
       "OTHER OFFENSE                         1397\n",
       "WEAPONS VIOLATION                      586\n",
       "BURGLARY                               485\n",
       "PUBLIC PEACE VIOLATION                 363\n",
       "INTERFERENCE WITH PUBLIC OFFICER       125\n",
       "PROSTITUTION                           115\n",
       "OFFENSE INVOLVING CHILDREN              87\n",
       "SEX OFFENSE                             75\n",
       "CRIM SEXUAL ASSAULT                     57\n",
       "GAMBLING                                53\n",
       "KIDNAPPING                              49\n",
       "INTIMIDATION                            38\n",
       "LIQUOR LAW VIOLATION                    35\n",
       "HOMICIDE                                34\n",
       "ARSON                                   29\n",
       "STALKING                                14\n",
       "OBSCENITY                                1\n",
       "CONCEALED CARRY LICENSE VIOLATION        1\n",
       "Name: Primary Type, dtype: int64"
      ]
     },
     "execution_count": 134,
     "metadata": {},
     "output_type": "execute_result"
    }
   ],
   "source": [
    "gas_station_loc_record = crime_data[crime_data['Location Description'] == 'GAS STATION']\n",
    "print('Total '+str(gas_station_loc_record['Primary Type'].value_counts().count())+' crimes are recorded at gas station, that are given below')\n",
    "gas_station_loc_record['Primary Type'].value_counts()"
   ]
  },
  {
   "cell_type": "markdown",
   "metadata": {},
   "source": [
    "[Go Back](#goback)"
   ]
  },
  {
   "cell_type": "markdown",
   "metadata": {},
   "source": [
    "# Conclusion:\n",
    "In this project I've done exploratory data analysis on <b> Chicago Crime Data</b> and extracted many interesting insights from it."
   ]
  },
  {
   "cell_type": "code",
   "execution_count": null,
   "metadata": {},
   "outputs": [],
   "source": []
  }
 ],
 "metadata": {
  "kernelspec": {
   "display_name": "Python 3",
   "language": "python",
   "name": "python3"
  },
  "language_info": {
   "codemirror_mode": {
    "name": "ipython",
    "version": 3
   },
   "file_extension": ".py",
   "mimetype": "text/x-python",
   "name": "python",
   "nbconvert_exporter": "python",
   "pygments_lexer": "ipython3",
   "version": "3.7.3"
  }
 },
 "nbformat": 4,
 "nbformat_minor": 2
}
